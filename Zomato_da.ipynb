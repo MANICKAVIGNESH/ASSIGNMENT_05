{
 "cells": [
  {
   "cell_type": "code",
   "execution_count": 7,
   "metadata": {},
   "outputs": [],
   "source": [
    "import pandas as pd\n",
    "import matplotlib.pyplot as plt\n",
    "import plotly.express as px\n",
    "import folium\n",
    "from folium.plugins import MarkerCluster\n",
    "import streamlit as st\n",
    "from streamlit_folium import st_folium"
   ]
  },
  {
   "cell_type": "code",
   "execution_count": 3,
   "metadata": {},
   "outputs": [
    {
     "name": "stdout",
     "output_type": "stream",
     "text": [
      "   Restaurant ID         Restaurant Name  Country Code              City  \\\n",
      "0        6317637        Le Petit Souffle           162       Makati City   \n",
      "1        6304287        Izakaya Kikufuji           162       Makati City   \n",
      "2        6300002  Heat - Edsa Shangri-La           162  Mandaluyong City   \n",
      "3        6318506                    Ooma           162  Mandaluyong City   \n",
      "4        6314302             Sambo Kojin           162  Mandaluyong City   \n",
      "\n",
      "                                             Address  \\\n",
      "0  Third Floor, Century City Mall, Kalayaan Avenu...   \n",
      "1  Little Tokyo, 2277 Chino Roces Avenue, Legaspi...   \n",
      "2  Edsa Shangri-La, 1 Garden Way, Ortigas, Mandal...   \n",
      "3  Third Floor, Mega Fashion Hall, SM Megamall, O...   \n",
      "4  Third Floor, Mega Atrium, SM Megamall, Ortigas...   \n",
      "\n",
      "                                     Locality  \\\n",
      "0   Century City Mall, Poblacion, Makati City   \n",
      "1  Little Tokyo, Legaspi Village, Makati City   \n",
      "2  Edsa Shangri-La, Ortigas, Mandaluyong City   \n",
      "3      SM Megamall, Ortigas, Mandaluyong City   \n",
      "4      SM Megamall, Ortigas, Mandaluyong City   \n",
      "\n",
      "                                    Locality Verbose   Longitude   Latitude  \\\n",
      "0  Century City Mall, Poblacion, Makati City, Mak...  121.027535  14.565443   \n",
      "1  Little Tokyo, Legaspi Village, Makati City, Ma...  121.014101  14.553708   \n",
      "2  Edsa Shangri-La, Ortigas, Mandaluyong City, Ma...  121.056831  14.581404   \n",
      "3  SM Megamall, Ortigas, Mandaluyong City, Mandal...  121.056475  14.585318   \n",
      "4  SM Megamall, Ortigas, Mandaluyong City, Mandal...  121.057508  14.584450   \n",
      "\n",
      "                           Cuisines  ...  Has Table booking  \\\n",
      "0        French, Japanese, Desserts  ...                Yes   \n",
      "1                          Japanese  ...                Yes   \n",
      "2  Seafood, Asian, Filipino, Indian  ...                Yes   \n",
      "3                   Japanese, Sushi  ...                 No   \n",
      "4                  Japanese, Korean  ...                Yes   \n",
      "\n",
      "  Has Online delivery Is delivering now Switch to order menu Price range  \\\n",
      "0                  No                No                   No           3   \n",
      "1                  No                No                   No           3   \n",
      "2                  No                No                   No           4   \n",
      "3                  No                No                   No           4   \n",
      "4                  No                No                   No           4   \n",
      "\n",
      "  Aggregate rating  Rating color  Rating text Votes      Country  \n",
      "0              4.8    Dark Green    Excellent   314  Phillipines  \n",
      "1              4.5    Dark Green    Excellent   591  Phillipines  \n",
      "2              4.4         Green    Very Good   270  Phillipines  \n",
      "3              4.9    Dark Green    Excellent   365  Phillipines  \n",
      "4              4.8    Dark Green    Excellent   229  Phillipines  \n",
      "\n",
      "[5 rows x 22 columns]\n"
     ]
    },
    {
     "data": {
      "image/png": "[encoded data removed]",
      "text/plain": [
       "<Figure size 1000x600 with 1 Axes>"
      ]
     },
     "metadata": {},
     "output_type": "display_data"
    }
   ],
   "source": [
    "\n",
    "# Load the Zomato dataset\n",
    "zomato_data = pd.read_csv(\"https://raw.githubusercontent.com/nethajinirmal13/Training-datasets/main/zomato/zomato.csv\")\n",
    "\n",
    "# Load the country code dataset\n",
    "country_code = pd.read_excel(\"C:/Users/manic/Downloads/Country-Code.xlsx\")\n",
    "\n",
    "# Merge the datasets on Country Code\n",
    "zomato_data = pd.merge(zomato_data, country_code, how=\"left\", on=\"Country Code\")\n",
    "\n",
    "# Add a column with rupees as the currency\n",
    "zomato_data['Currency'] = 'Rupees'\n",
    "\n",
    "# Check the first few rows to ensure correctness\n",
    "print(zomato_data.head())\n",
    "\n",
    "# Plot to compare Indian currency with other country's currency\n",
    "\n",
    "plt.figure(figsize=(10, 6))\n",
    "zomato_data.groupby('Currency')['Average Cost for two'].mean().plot(kind='bar')\n",
    "plt.title('Comparison of Average Cost for Two in Different Currencies')\n",
    "plt.xlabel('Currency')\n",
    "plt.ylabel('Average Cost for Two')\n",
    "plt.xticks(rotation=0)\n",
    "plt.show()"
   ]
  },
  {
   "cell_type": "code",
   "execution_count": 6,
   "metadata": {},
   "outputs": [
    {
     "name": "stdout",
     "output_type": "stream",
     "text": [
      "      Restaurant ID           Restaurant Name  Country Code              City  \\\n",
      "0           6317637          Le Petit Souffle           162       Makati City   \n",
      "1           6304287          Izakaya Kikufuji           162       Makati City   \n",
      "2           6300002    Heat - Edsa Shangri-La           162  Mandaluyong City   \n",
      "3           6318506                      Ooma           162  Mandaluyong City   \n",
      "4           6314302               Sambo Kojin           162  Mandaluyong City   \n",
      "...             ...                       ...           ...               ...   \n",
      "9546        5915730               Naml郾 Gurme           208          哿stanbul   \n",
      "9547        5908749               Ceviz A埕ac郾           208          哿stanbul   \n",
      "9548        5915807                     Huqqa           208          哿stanbul   \n",
      "9549        5916112                A侓侓k Kahve           208          哿stanbul   \n",
      "9550        5927402  Walter's Coffee Roastery           208          哿stanbul   \n",
      "\n",
      "                                                Address  \\\n",
      "0     Third Floor, Century City Mall, Kalayaan Avenu...   \n",
      "1     Little Tokyo, 2277 Chino Roces Avenue, Legaspi...   \n",
      "2     Edsa Shangri-La, 1 Garden Way, Ortigas, Mandal...   \n",
      "3     Third Floor, Mega Fashion Hall, SM Megamall, O...   \n",
      "4     Third Floor, Mega Atrium, SM Megamall, Ortigas...   \n",
      "...                                                 ...   \n",
      "9546  Kemanke侓 Karamustafa Pa侓a Mahallesi, R郾ht郾m Ca...   \n",
      "9547  Ko侓uyolu Mahallesi, Muhittin 盱st韄nda埕 Caddesi,...   \n",
      "9548  Kuru韄e侓me Mahallesi, Muallim Naci Caddesi, No ...   \n",
      "9549  Kuru韄e侓me Mahallesi, Muallim Naci Caddesi, No ...   \n",
      "9550  Cafea埕a Mahallesi, Bademalt郾 Sokak, No 21/B, K...   \n",
      "\n",
      "                                        Locality  \\\n",
      "0      Century City Mall, Poblacion, Makati City   \n",
      "1     Little Tokyo, Legaspi Village, Makati City   \n",
      "2     Edsa Shangri-La, Ortigas, Mandaluyong City   \n",
      "3         SM Megamall, Ortigas, Mandaluyong City   \n",
      "4         SM Megamall, Ortigas, Mandaluyong City   \n",
      "...                                          ...   \n",
      "9546                                     Karak韄y   \n",
      "9547                                    Ko侓uyolu   \n",
      "9548                                   Kuru韄e侓me   \n",
      "9549                                   Kuru韄e侓me   \n",
      "9550                                        Moda   \n",
      "\n",
      "                                       Locality Verbose   Longitude  \\\n",
      "0     Century City Mall, Poblacion, Makati City, Mak...  121.027535   \n",
      "1     Little Tokyo, Legaspi Village, Makati City, Ma...  121.014101   \n",
      "2     Edsa Shangri-La, Ortigas, Mandaluyong City, Ma...  121.056831   \n",
      "3     SM Megamall, Ortigas, Mandaluyong City, Mandal...  121.056475   \n",
      "4     SM Megamall, Ortigas, Mandaluyong City, Mandal...  121.057508   \n",
      "...                                                 ...         ...   \n",
      "9546                                  Karak韄y, 哿stanbul   28.977392   \n",
      "9547                                 Ko侓uyolu, 哿stanbul   29.041297   \n",
      "9548                                Kuru韄e侓me, 哿stanbul   29.034640   \n",
      "9549                                Kuru韄e侓me, 哿stanbul   29.036019   \n",
      "9550                                     Moda, 哿stanbul   29.026016   \n",
      "\n",
      "       Latitude                          Cuisines  ...  Has Table booking  \\\n",
      "0     14.565443        French, Japanese, Desserts  ...                Yes   \n",
      "1     14.553708                          Japanese  ...                Yes   \n",
      "2     14.581404  Seafood, Asian, Filipino, Indian  ...                Yes   \n",
      "3     14.585318                   Japanese, Sushi  ...                 No   \n",
      "4     14.584450                  Japanese, Korean  ...                Yes   \n",
      "...         ...                               ...  ...                ...   \n",
      "9546  41.022793                           Turkish  ...                 No   \n",
      "9547  41.009847   World Cuisine, Patisserie, Cafe  ...                 No   \n",
      "9548  41.055817            Italian, World Cuisine  ...                 No   \n",
      "9549  41.057979                   Restaurant Cafe  ...                 No   \n",
      "9550  40.984776                              Cafe  ...                 No   \n",
      "\n",
      "     Has Online delivery Is delivering now Switch to order menu Price range  \\\n",
      "0                     No                No                   No           3   \n",
      "1                     No                No                   No           3   \n",
      "2                     No                No                   No           4   \n",
      "3                     No                No                   No           4   \n",
      "4                     No                No                   No           4   \n",
      "...                  ...               ...                  ...         ...   \n",
      "9546                  No                No                   No           3   \n",
      "9547                  No                No                   No           3   \n",
      "9548                  No                No                   No           4   \n",
      "9549                  No                No                   No           4   \n",
      "9550                  No                No                   No           2   \n",
      "\n",
      "     Aggregate rating  Rating color  Rating text Votes      Country  \n",
      "0                 4.8    Dark Green    Excellent   314  Phillipines  \n",
      "1                 4.5    Dark Green    Excellent   591  Phillipines  \n",
      "2                 4.4         Green    Very Good   270  Phillipines  \n",
      "3                 4.9    Dark Green    Excellent   365  Phillipines  \n",
      "4                 4.8    Dark Green    Excellent   229  Phillipines  \n",
      "...               ...           ...          ...   ...          ...  \n",
      "9546              4.1         Green    Very Good   788       Turkey  \n",
      "9547              4.2         Green    Very Good  1034       Turkey  \n",
      "9548              3.7        Yellow         Good   661       Turkey  \n",
      "9549              4.0         Green    Very Good   901       Turkey  \n",
      "9550              4.0         Green    Very Good   591       Turkey  \n",
      "\n",
      "[9551 rows x 22 columns]\n"
     ]
    }
   ],
   "source": [
    "print(zomato_data)"
   ]
  },
  {
   "cell_type": "code",
   "execution_count": 14,
   "metadata": {},
   "outputs": [
    {
     "name": "stdout",
     "output_type": "stream",
     "text": [
      "141\n"
     ]
    },
    {
     "name": "stderr",
     "output_type": "stream",
     "text": [
      "c:\\Users\\manic\\Youtube harvest project\\.venv\\lib\\site-packages\\IPython\\core\\pylabtools.py:152: UserWarning: Glyph 24666 (\\N{CJK UNIFIED IDEOGRAPH-605A}) missing from current font.\n",
      "  fig.canvas.print_figure(bytes_io, **kw)\n",
      "c:\\Users\\manic\\Youtube harvest project\\.venv\\lib\\site-packages\\IPython\\core\\pylabtools.py:152: UserWarning: Glyph 38852 (\\N{CJK UNIFIED IDEOGRAPH-97C4}) missing from current font.\n",
      "  fig.canvas.print_figure(bytes_io, **kw)\n",
      "c:\\Users\\manic\\Youtube harvest project\\.venv\\lib\\site-packages\\IPython\\core\\pylabtools.py:152: UserWarning: Glyph 21759 (\\N{CJK UNIFIED IDEOGRAPH-54FF}) missing from current font.\n",
      "  fig.canvas.print_figure(bytes_io, **kw)\n"
     ]
    },
    {
     "data": {
      "image/png": "[encoded data removed]",
      "text/plain": [
       "<Figure size 640x480 with 1 Axes>"
      ]
     },
     "metadata": {},
     "output_type": "display_data"
    }
   ],
   "source": [
    "# Assuming 'data' is your DataFrame\n",
    "percentage_distribution = (zomato_data['City'].value_counts() / len(zomato_data))*100\n",
    "#print(percentage_distribution)\n",
    "print(len(percentage_distribution))\n",
    "\n",
    "# Plotting\n",
    "percentage_distribution.plot(kind='bar')\n",
    "plt.xlabel('Level')\n",
    "plt.ylabel('Percentage')\n",
    "plt.title('Percentage Distribution of Levels')\n",
    "plt.show()"
   ]
  },
  {
   "cell_type": "code",
   "execution_count": 15,
   "metadata": {},
   "outputs": [
    {
     "name": "stdout",
     "output_type": "stream",
     "text": [
      "<class 'pandas.core.frame.DataFrame'>\n",
      "RangeIndex: 9551 entries, 0 to 9550\n",
      "Data columns (total 22 columns):\n",
      " #   Column                Non-Null Count  Dtype  \n",
      "---  ------                --------------  -----  \n",
      " 0   Restaurant ID         9551 non-null   int64  \n",
      " 1   Restaurant Name       9551 non-null   object \n",
      " 2   Country Code          9551 non-null   int64  \n",
      " 3   City                  9551 non-null   object \n",
      " 4   Address               9551 non-null   object \n",
      " 5   Locality              9551 non-null   object \n",
      " 6   Locality Verbose      9551 non-null   object \n",
      " 7   Longitude             9551 non-null   float64\n",
      " 8   Latitude              9551 non-null   float64\n",
      " 9   Cuisines              9542 non-null   object \n",
      " 10  Average Cost for two  9551 non-null   int64  \n",
      " 11  Currency              9551 non-null   object \n",
      " 12  Has Table booking     9551 non-null   object \n",
      " 13  Has Online delivery   9551 non-null   object \n",
      " 14  Is delivering now     9551 non-null   object \n",
      " 15  Switch to order menu  9551 non-null   object \n",
      " 16  Price range           9551 non-null   int64  \n",
      " 17  Aggregate rating      9551 non-null   float64\n",
      " 18  Rating color          9551 non-null   object \n",
      " 19  Rating text           9551 non-null   object \n",
      " 20  Votes                 9551 non-null   int64  \n",
      " 21  Country               9551 non-null   object \n",
      "dtypes: float64(3), int64(5), object(14)\n",
      "memory usage: 1.6+ MB\n"
     ]
    }
   ],
   "source": [
    "zomato_data.info()"
   ]
  },
  {
   "cell_type": "code",
   "execution_count": 16,
   "metadata": {},
   "outputs": [
    {
     "name": "stdout",
     "output_type": "stream",
     "text": [
      "<class 'pandas.core.frame.DataFrame'>\n",
      "RangeIndex: 15 entries, 0 to 14\n",
      "Data columns (total 2 columns):\n",
      " #   Column        Non-Null Count  Dtype \n",
      "---  ------        --------------  ----- \n",
      " 0   Country Code  15 non-null     int64 \n",
      " 1   Country       15 non-null     object\n",
      "dtypes: int64(1), object(1)\n",
      "memory usage: 368.0+ bytes\n"
     ]
    }
   ],
   "source": [
    "country_code.info()"
   ]
  },
  {
   "cell_type": "code",
   "execution_count": 5,
   "metadata": {},
   "outputs": [
    {
     "data": {
      "application/vnd.plotly.v1+json": {
       "config": {
        "plotlyServerURL": "https://plot.ly"
       },
       "data": [
        {
         "alignmentgroup": "True",
         "hovertemplate": "City=%{x}<br>Count=%{y}<extra></extra>",
         "legendgroup": "New Delhi",
         "marker": {
          "color": "#000001",
          "pattern": {
           "shape": ""
          }
         },
         "name": "New Delhi",
         "offsetgroup": "New Delhi",
         "orientation": "v",
         "showlegend": true,
         "textposition": "auto",
         "type": "bar",
         "x": [
          "New Delhi"
         ],
         "xaxis": "x",
         "y": [
          5473
         ],
         "yaxis": "y"
        },
        {
         "alignmentgroup": "True",
         "hovertemplate": "City=%{x}<br>Count=%{y}<extra></extra>",
         "legendgroup": "Gurgaon",
         "marker": {
          "color": "#000002",
          "pattern": {
           "shape": ""
          }
         },
         "name": "Gurgaon",
         "offsetgroup": "Gurgaon",
         "orientation": "v",
         "showlegend": true,
         "textposition": "auto",
         "type": "bar",
         "x": [
          "Gurgaon"
         ],
         "xaxis": "x",
         "y": [
          1118
         ],
         "yaxis": "y"
        },
        {
         "alignmentgroup": "True",
         "hovertemplate": "City=%{x}<br>Count=%{y}<extra></extra>",
         "legendgroup": "Noida",
         "marker": {
          "color": "#000003",
          "pattern": {
           "shape": ""
          }
         },
         "name": "Noida",
         "offsetgroup": "Noida",
         "orientation": "v",
         "showlegend": true,
         "textposition": "auto",
         "type": "bar",
         "x": [
          "Noida"
         ],
         "xaxis": "x",
         "y": [
          1080
         ],
         "yaxis": "y"
        },
        {
         "alignmentgroup": "True",
         "hovertemplate": "City=%{x}<br>Count=%{y}<extra></extra>",
         "legendgroup": "Faridabad",
         "marker": {
          "color": "#000004",
          "pattern": {
           "shape": ""
          }
         },
         "name": "Faridabad",
         "offsetgroup": "Faridabad",
         "orientation": "v",
         "showlegend": true,
         "textposition": "auto",
         "type": "bar",
         "x": [
          "Faridabad"
         ],
         "xaxis": "x",
         "y": [
          251
         ],
         "yaxis": "y"
        },
        {
         "alignmentgroup": "True",
         "hovertemplate": "City=%{x}<br>Count=%{y}<extra></extra>",
         "legendgroup": "Ghaziabad",
         "marker": {
          "color": "#000005",
          "pattern": {
           "shape": ""
          }
         },
         "name": "Ghaziabad",
         "offsetgroup": "Ghaziabad",
         "orientation": "v",
         "showlegend": true,
         "textposition": "auto",
         "type": "bar",
         "x": [
          "Ghaziabad"
         ],
         "xaxis": "x",
         "y": [
          25
         ],
         "yaxis": "y"
        }
       ],
       "layout": {
        "barmode": "relative",
        "legend": {
         "title": {
          "text": "City"
         },
         "tracegroupgap": 0
        },
        "template": {
         "data": {
          "candlestick": [
           {
            "decreasing": {
             "line": {
              "color": "#000033"
             }
            },
            "increasing": {
             "line": {
              "color": "#000032"
             }
            },
            "type": "candlestick"
           }
          ],
          "contour": [
           {
            "colorscale": [
             [
              0,
              "#000011"
             ],
             [
              0.1111111111111111,
              "#000012"
             ],
             [
              0.2222222222222222,
              "#000013"
             ],
             [
              0.3333333333333333,
              "#000014"
             ],
             [
              0.4444444444444444,
              "#000015"
             ],
             [
              0.5555555555555556,
              "#000016"
             ],
             [
              0.6666666666666666,
              "#000017"
             ],
             [
              0.7777777777777778,
              "#000018"
             ],
             [
              0.8888888888888888,
              "#000019"
             ],
             [
              1,
              "#000020"
             ]
            ],
            "type": "contour"
           }
          ],
          "contourcarpet": [
           {
            "colorscale": [
             [
              0,
              "#000011"
             ],
             [
              0.1111111111111111,
              "#000012"
             ],
             [
              0.2222222222222222,
              "#000013"
             ],
             [
              0.3333333333333333,
              "#000014"
             ],
             [
              0.4444444444444444,
              "#000015"
             ],
             [
              0.5555555555555556,
              "#000016"
             ],
             [
              0.6666666666666666,
              "#000017"
             ],
             [
              0.7777777777777778,
              "#000018"
             ],
             [
              0.8888888888888888,
              "#000019"
             ],
             [
              1,
              "#000020"
             ]
            ],
            "type": "contourcarpet"
           }
          ],
          "heatmap": [
           {
            "colorscale": [
             [
              0,
              "#000011"
             ],
             [
              0.1111111111111111,
              "#000012"
             ],
             [
              0.2222222222222222,
              "#000013"
             ],
             [
              0.3333333333333333,
              "#000014"
             ],
             [
              0.4444444444444444,
              "#000015"
             ],
             [
              0.5555555555555556,
              "#000016"
             ],
             [
              0.6666666666666666,
              "#000017"
             ],
             [
              0.7777777777777778,
              "#000018"
             ],
             [
              0.8888888888888888,
              "#000019"
             ],
             [
              1,
              "#000020"
             ]
            ],
            "type": "heatmap"
           }
          ],
          "histogram2d": [
           {
            "colorscale": [
             [
              0,
              "#000011"
             ],
             [
              0.1111111111111111,
              "#000012"
             ],
             [
              0.2222222222222222,
              "#000013"
             ],
             [
              0.3333333333333333,
              "#000014"
             ],
             [
              0.4444444444444444,
              "#000015"
             ],
             [
              0.5555555555555556,
              "#000016"
             ],
             [
              0.6666666666666666,
              "#000017"
             ],
             [
              0.7777777777777778,
              "#000018"
             ],
             [
              0.8888888888888888,
              "#000019"
             ],
             [
              1,
              "#000020"
             ]
            ],
            "type": "histogram2d"
           }
          ],
          "icicle": [
           {
            "textfont": {
             "color": "white"
            },
            "type": "icicle"
           }
          ],
          "sankey": [
           {
            "textfont": {
             "color": "#000036"
            },
            "type": "sankey"
           }
          ],
          "scatter": [
           {
            "marker": {
             "line": {
              "width": 0
             }
            },
            "type": "scatter"
           }
          ],
          "table": [
           {
            "cells": {
             "fill": {
              "color": "#000038"
             },
             "font": {
              "color": "#000037"
             },
             "line": {
              "color": "#000039"
             }
            },
            "header": {
             "fill": {
              "color": "#000040"
             },
             "font": {
              "color": "#000036"
             },
             "line": {
              "color": "#000039"
             }
            },
            "type": "table"
           }
          ],
          "waterfall": [
           {
            "connector": {
             "line": {
              "color": "#000036",
              "width": 2
             }
            },
            "decreasing": {
             "marker": {
              "color": "#000033"
             }
            },
            "increasing": {
             "marker": {
              "color": "#000032"
             }
            },
            "totals": {
             "marker": {
              "color": "#000034"
             }
            },
            "type": "waterfall"
           }
          ]
         },
         "layout": {
          "coloraxis": {
           "colorscale": [
            [
             0,
             "#000011"
            ],
            [
             0.1111111111111111,
             "#000012"
            ],
            [
             0.2222222222222222,
             "#000013"
            ],
            [
             0.3333333333333333,
             "#000014"
            ],
            [
             0.4444444444444444,
             "#000015"
            ],
            [
             0.5555555555555556,
             "#000016"
            ],
            [
             0.6666666666666666,
             "#000017"
            ],
            [
             0.7777777777777778,
             "#000018"
            ],
            [
             0.8888888888888888,
             "#000019"
            ],
            [
             1,
             "#000020"
            ]
           ]
          },
          "colorscale": {
           "diverging": [
            [
             0,
             "#000021"
            ],
            [
             0.1,
             "#000022"
            ],
            [
             0.2,
             "#000023"
            ],
            [
             0.3,
             "#000024"
            ],
            [
             0.4,
             "#000025"
            ],
            [
             0.5,
             "#000026"
            ],
            [
             0.6,
             "#000027"
            ],
            [
             0.7,
             "#000028"
            ],
            [
             0.8,
             "#000029"
            ],
            [
             0.9,
             "#000030"
            ],
            [
             1,
             "#000031"
            ]
           ],
           "sequential": [
            [
             0,
             "#000011"
            ],
            [
             0.1111111111111111,
             "#000012"
            ],
            [
             0.2222222222222222,
             "#000013"
            ],
            [
             0.3333333333333333,
             "#000014"
            ],
            [
             0.4444444444444444,
             "#000015"
            ],
            [
             0.5555555555555556,
             "#000016"
            ],
            [
             0.6666666666666666,
             "#000017"
            ],
            [
             0.7777777777777778,
             "#000018"
            ],
            [
             0.8888888888888888,
             "#000019"
            ],
            [
             1,
             "#000020"
            ]
           ],
           "sequentialminus": [
            [
             0,
             "#000011"
            ],
            [
             0.1111111111111111,
             "#000012"
            ],
            [
             0.2222222222222222,
             "#000013"
            ],
            [
             0.3333333333333333,
             "#000014"
            ],
            [
             0.4444444444444444,
             "#000015"
            ],
            [
             0.5555555555555556,
             "#000016"
            ],
            [
             0.6666666666666666,
             "#000017"
            ],
            [
             0.7777777777777778,
             "#000018"
            ],
            [
             0.8888888888888888,
             "#000019"
            ],
            [
             1,
             "#000020"
            ]
           ]
          },
          "colorway": [
           "#000001",
           "#000002",
           "#000003",
           "#000004",
           "#000005",
           "#000006",
           "#000007",
           "#000008",
           "#000009",
           "#000010"
          ]
         }
        },
        "title": {
         "text": "Top 5 Cities by Count of Restaurants"
        },
        "xaxis": {
         "anchor": "y",
         "categoryarray": [
          "New Delhi",
          "Gurgaon",
          "Noida",
          "Faridabad",
          "Ghaziabad"
         ],
         "categoryorder": "array",
         "domain": [
          0,
          1
         ],
         "title": {
          "text": "City"
         }
        },
        "yaxis": {
         "anchor": "x",
         "domain": [
          0,
          1
         ],
         "title": {
          "text": "Count"
         }
        }
       }
      }
     },
     "metadata": {},
     "output_type": "display_data"
    }
   ],
   "source": [
    "#1 Top 5 Cities by Count of Restaurants\n",
    "\n",
    "# Assuming your dataframe is named 'zomato_data'\n",
    "# Replace 'zomato_data' with your actual dataframe name if different\n",
    "\n",
    "# Bar chart for count of restaurants in each city\n",
    "city_counts = zomato_data['City'].value_counts().reset_index()\n",
    "city_counts.columns = ['City', 'Count']\n",
    "city_counts = city_counts.sort_values(by='Count', ascending=False)\n",
    "\n",
    "# Select top 10 cities \n",
    "top_10_cities = city_counts.head(5)\n",
    "\n",
    "# Plot bar chart with different colors for each bars\n",
    "fig1 = px.bar(top_10_cities, x='City', y='Count', title='Top 5 Cities by Count of Restaurants', color='City')\n",
    "fig1.show()\n"
   ]
  },
  {
   "cell_type": "code",
   "execution_count": 6,
   "metadata": {},
   "outputs": [
    {
     "data": {
      "application/vnd.plotly.v1+json": {
       "config": {
        "plotlyServerURL": "https://plot.ly"
       },
       "data": [
        {
         "alignmentgroup": "True",
         "hovertemplate": "Has Online delivery=%{x}<br>Count=%{y}<extra></extra>",
         "legendgroup": "No",
         "marker": {
          "color": "#000001",
          "pattern": {
           "shape": ""
          }
         },
         "name": "No",
         "offsetgroup": "No",
         "orientation": "v",
         "showlegend": true,
         "textposition": "auto",
         "type": "bar",
         "x": [
          "No"
         ],
         "xaxis": "x",
         "y": [
          7100
         ],
         "yaxis": "y"
        },
        {
         "alignmentgroup": "True",
         "hovertemplate": "Has Online delivery=%{x}<br>Count=%{y}<extra></extra>",
         "legendgroup": "Yes",
         "marker": {
          "color": "#000002",
          "pattern": {
           "shape": ""
          }
         },
         "name": "Yes",
         "offsetgroup": "Yes",
         "orientation": "v",
         "showlegend": true,
         "textposition": "auto",
         "type": "bar",
         "x": [
          "Yes"
         ],
         "xaxis": "x",
         "y": [
          2451
         ],
         "yaxis": "y"
        }
       ],
       "layout": {
        "barmode": "relative",
        "legend": {
         "title": {
          "text": "Has Online delivery"
         },
         "tracegroupgap": 0
        },
        "template": {
         "data": {
          "candlestick": [
           {
            "decreasing": {
             "line": {
              "color": "#000033"
             }
            },
            "increasing": {
             "line": {
              "color": "#000032"
             }
            },
            "type": "candlestick"
           }
          ],
          "contour": [
           {
            "colorscale": [
             [
              0,
              "#000011"
             ],
             [
              0.1111111111111111,
              "#000012"
             ],
             [
              0.2222222222222222,
              "#000013"
             ],
             [
              0.3333333333333333,
              "#000014"
             ],
             [
              0.4444444444444444,
              "#000015"
             ],
             [
              0.5555555555555556,
              "#000016"
             ],
             [
              0.6666666666666666,
              "#000017"
             ],
             [
              0.7777777777777778,
              "#000018"
             ],
             [
              0.8888888888888888,
              "#000019"
             ],
             [
              1,
              "#000020"
             ]
            ],
            "type": "contour"
           }
          ],
          "contourcarpet": [
           {
            "colorscale": [
             [
              0,
              "#000011"
             ],
             [
              0.1111111111111111,
              "#000012"
             ],
             [
              0.2222222222222222,
              "#000013"
             ],
             [
              0.3333333333333333,
              "#000014"
             ],
             [
              0.4444444444444444,
              "#000015"
             ],
             [
              0.5555555555555556,
              "#000016"
             ],
             [
              0.6666666666666666,
              "#000017"
             ],
             [
              0.7777777777777778,
              "#000018"
             ],
             [
              0.8888888888888888,
              "#000019"
             ],
             [
              1,
              "#000020"
             ]
            ],
            "type": "contourcarpet"
           }
          ],
          "heatmap": [
           {
            "colorscale": [
             [
              0,
              "#000011"
             ],
             [
              0.1111111111111111,
              "#000012"
             ],
             [
              0.2222222222222222,
              "#000013"
             ],
             [
              0.3333333333333333,
              "#000014"
             ],
             [
              0.4444444444444444,
              "#000015"
             ],
             [
              0.5555555555555556,
              "#000016"
             ],
             [
              0.6666666666666666,
              "#000017"
             ],
             [
              0.7777777777777778,
              "#000018"
             ],
             [
              0.8888888888888888,
              "#000019"
             ],
             [
              1,
              "#000020"
             ]
            ],
            "type": "heatmap"
           }
          ],
          "histogram2d": [
           {
            "colorscale": [
             [
              0,
              "#000011"
             ],
             [
              0.1111111111111111,
              "#000012"
             ],
             [
              0.2222222222222222,
              "#000013"
             ],
             [
              0.3333333333333333,
              "#000014"
             ],
             [
              0.4444444444444444,
              "#000015"
             ],
             [
              0.5555555555555556,
              "#000016"
             ],
             [
              0.6666666666666666,
              "#000017"
             ],
             [
              0.7777777777777778,
              "#000018"
             ],
             [
              0.8888888888888888,
              "#000019"
             ],
             [
              1,
              "#000020"
             ]
            ],
            "type": "histogram2d"
           }
          ],
          "icicle": [
           {
            "textfont": {
             "color": "white"
            },
            "type": "icicle"
           }
          ],
          "sankey": [
           {
            "textfont": {
             "color": "#000036"
            },
            "type": "sankey"
           }
          ],
          "scatter": [
           {
            "marker": {
             "line": {
              "width": 0
             }
            },
            "type": "scatter"
           }
          ],
          "table": [
           {
            "cells": {
             "fill": {
              "color": "#000038"
             },
             "font": {
              "color": "#000037"
             },
             "line": {
              "color": "#000039"
             }
            },
            "header": {
             "fill": {
              "color": "#000040"
             },
             "font": {
              "color": "#000036"
             },
             "line": {
              "color": "#000039"
             }
            },
            "type": "table"
           }
          ],
          "waterfall": [
           {
            "connector": {
             "line": {
              "color": "#000036",
              "width": 2
             }
            },
            "decreasing": {
             "marker": {
              "color": "#000033"
             }
            },
            "increasing": {
             "marker": {
              "color": "#000032"
             }
            },
            "totals": {
             "marker": {
              "color": "#000034"
             }
            },
            "type": "waterfall"
           }
          ]
         },
         "layout": {
          "coloraxis": {
           "colorscale": [
            [
             0,
             "#000011"
            ],
            [
             0.1111111111111111,
             "#000012"
            ],
            [
             0.2222222222222222,
             "#000013"
            ],
            [
             0.3333333333333333,
             "#000014"
            ],
            [
             0.4444444444444444,
             "#000015"
            ],
            [
             0.5555555555555556,
             "#000016"
            ],
            [
             0.6666666666666666,
             "#000017"
            ],
            [
             0.7777777777777778,
             "#000018"
            ],
            [
             0.8888888888888888,
             "#000019"
            ],
            [
             1,
             "#000020"
            ]
           ]
          },
          "colorscale": {
           "diverging": [
            [
             0,
             "#000021"
            ],
            [
             0.1,
             "#000022"
            ],
            [
             0.2,
             "#000023"
            ],
            [
             0.3,
             "#000024"
            ],
            [
             0.4,
             "#000025"
            ],
            [
             0.5,
             "#000026"
            ],
            [
             0.6,
             "#000027"
            ],
            [
             0.7,
             "#000028"
            ],
            [
             0.8,
             "#000029"
            ],
            [
             0.9,
             "#000030"
            ],
            [
             1,
             "#000031"
            ]
           ],
           "sequential": [
            [
             0,
             "#000011"
            ],
            [
             0.1111111111111111,
             "#000012"
            ],
            [
             0.2222222222222222,
             "#000013"
            ],
            [
             0.3333333333333333,
             "#000014"
            ],
            [
             0.4444444444444444,
             "#000015"
            ],
            [
             0.5555555555555556,
             "#000016"
            ],
            [
             0.6666666666666666,
             "#000017"
            ],
            [
             0.7777777777777778,
             "#000018"
            ],
            [
             0.8888888888888888,
             "#000019"
            ],
            [
             1,
             "#000020"
            ]
           ],
           "sequentialminus": [
            [
             0,
             "#000011"
            ],
            [
             0.1111111111111111,
             "#000012"
            ],
            [
             0.2222222222222222,
             "#000013"
            ],
            [
             0.3333333333333333,
             "#000014"
            ],
            [
             0.4444444444444444,
             "#000015"
            ],
            [
             0.5555555555555556,
             "#000016"
            ],
            [
             0.6666666666666666,
             "#000017"
            ],
            [
             0.7777777777777778,
             "#000018"
            ],
            [
             0.8888888888888888,
             "#000019"
            ],
            [
             1,
             "#000020"
            ]
           ]
          },
          "colorway": [
           "#000001",
           "#000002",
           "#000003",
           "#000004",
           "#000005",
           "#000006",
           "#000007",
           "#000008",
           "#000009",
           "#000010"
          ]
         }
        },
        "title": {
         "text": "Count of Restaurants Offering Online Delivery"
        },
        "xaxis": {
         "anchor": "y",
         "categoryarray": [
          "No",
          "Yes"
         ],
         "categoryorder": "array",
         "domain": [
          0,
          1
         ],
         "title": {
          "text": "Has Online delivery"
         }
        },
        "yaxis": {
         "anchor": "x",
         "domain": [
          0,
          1
         ],
         "title": {
          "text": "Count"
         }
        }
       }
      }
     },
     "metadata": {},
     "output_type": "display_data"
    }
   ],
   "source": [
    "#2 Count of Restaurants Offering Online Delivery\n",
    "\n",
    "# Bar chart for count of restaurants offering online delivery\n",
    "delivery_counts = zomato_data['Has Online delivery'].value_counts().reset_index()\n",
    "delivery_counts.columns = ['Has Online delivery', 'Count']\n",
    "\n",
    "# Plot bar chart with different colors for each bar\n",
    "fig2 = px.bar(delivery_counts, x='Has Online delivery', y='Count', title='Count of Restaurants Offering Online Delivery', color='Has Online delivery')\n",
    "fig2.show()"
   ]
  },
  {
   "cell_type": "code",
   "execution_count": 75,
   "metadata": {},
   "outputs": [
    {
     "data": {
      "application/vnd.plotly.v1+json": {
       "config": {
        "plotlyServerURL": "https://plot.ly"
       },
       "data": [
        {
         "alignmentgroup": "True",
         "hovertemplate": "Cuisines=%{x}<br>Average Cost=%{text}<extra></extra>",
         "legendgroup": "Asian, Japanese, Korean, Thai, Chinese",
         "marker": {
          "color": "#636efa",
          "pattern": {
           "shape": ""
          }
         },
         "name": "Asian, Japanese, Korean, Thai, Chinese",
         "offsetgroup": "Asian, Japanese, Korean, Thai, Chinese",
         "orientation": "v",
         "showlegend": true,
         "text": [
          7000
         ],
         "textposition": "outside",
         "texttemplate": "%{text:.2s}",
         "type": "bar",
         "x": [
          "Asian, Japanese, Korean, Thai, Chinese"
         ],
         "xaxis": "x",
         "y": [
          7000
         ],
         "yaxis": "y"
        },
        {
         "alignmentgroup": "True",
         "hovertemplate": "Cuisines=%{x}<br>Average Cost=%{text}<extra></extra>",
         "legendgroup": "North Indian, Chinese, South Indian, Italian",
         "marker": {
          "color": "#EF553B",
          "pattern": {
           "shape": ""
          }
         },
         "name": "North Indian, Chinese, South Indian, Italian",
         "offsetgroup": "North Indian, Chinese, South Indian, Italian",
         "orientation": "v",
         "showlegend": true,
         "text": [
          6000
         ],
         "textposition": "outside",
         "texttemplate": "%{text:.2s}",
         "type": "bar",
         "x": [
          "North Indian, Chinese, South Indian, Italian"
         ],
         "xaxis": "x",
         "y": [
          6000
         ],
         "yaxis": "y"
        },
        {
         "alignmentgroup": "True",
         "hovertemplate": "Cuisines=%{x}<br>Average Cost=%{text}<extra></extra>",
         "legendgroup": "Malaysian, Thai, Kerala, Vietnamese, Sri Lankan",
         "marker": {
          "color": "#00cc96",
          "pattern": {
           "shape": ""
          }
         },
         "name": "Malaysian, Thai, Kerala, Vietnamese, Sri Lankan",
         "offsetgroup": "Malaysian, Thai, Kerala, Vietnamese, Sri Lankan",
         "orientation": "v",
         "showlegend": true,
         "text": [
          6000
         ],
         "textposition": "outside",
         "texttemplate": "%{text:.2s}",
         "type": "bar",
         "x": [
          "Malaysian, Thai, Kerala, Vietnamese, Sri Lankan"
         ],
         "xaxis": "x",
         "y": [
          6000
         ],
         "yaxis": "y"
        },
        {
         "alignmentgroup": "True",
         "hovertemplate": "Cuisines=%{x}<br>Average Cost=%{text}<extra></extra>",
         "legendgroup": "French, Italian",
         "marker": {
          "color": "#ab63fa",
          "pattern": {
           "shape": ""
          }
         },
         "name": "French, Italian",
         "offsetgroup": "French, Italian",
         "orientation": "v",
         "showlegend": true,
         "text": [
          5000
         ],
         "textposition": "outside",
         "texttemplate": "%{text:.2s}",
         "type": "bar",
         "x": [
          "French, Italian"
         ],
         "xaxis": "x",
         "y": [
          5000
         ],
         "yaxis": "y"
        },
        {
         "alignmentgroup": "True",
         "hovertemplate": "Cuisines=%{x}<br>Average Cost=%{text}<extra></extra>",
         "legendgroup": "Seafood, Italian",
         "marker": {
          "color": "#FFA15A",
          "pattern": {
           "shape": ""
          }
         },
         "name": "Seafood, Italian",
         "offsetgroup": "Seafood, Italian",
         "orientation": "v",
         "showlegend": true,
         "text": [
          5000
         ],
         "textposition": "outside",
         "texttemplate": "%{text:.2s}",
         "type": "bar",
         "x": [
          "Seafood, Italian"
         ],
         "xaxis": "x",
         "y": [
          5000
         ],
         "yaxis": "y"
        },
        {
         "alignmentgroup": "True",
         "hovertemplate": "Cuisines=%{x}<br>Average Cost=%{text}<extra></extra>",
         "legendgroup": "North Indian, European, Continental",
         "marker": {
          "color": "#19d3f3",
          "pattern": {
           "shape": ""
          }
         },
         "name": "North Indian, European, Continental",
         "offsetgroup": "North Indian, European, Continental",
         "orientation": "v",
         "showlegend": true,
         "text": [
          5000
         ],
         "textposition": "outside",
         "texttemplate": "%{text:.2s}",
         "type": "bar",
         "x": [
          "North Indian, European, Continental"
         ],
         "xaxis": "x",
         "y": [
          5000
         ],
         "yaxis": "y"
        },
        {
         "alignmentgroup": "True",
         "hovertemplate": "Cuisines=%{x}<br>Average Cost=%{text}<extra></extra>",
         "legendgroup": "Mediterranean, European",
         "marker": {
          "color": "#FF6692",
          "pattern": {
           "shape": ""
          }
         },
         "name": "Mediterranean, European",
         "offsetgroup": "Mediterranean, European",
         "orientation": "v",
         "showlegend": true,
         "text": [
          5000
         ],
         "textposition": "outside",
         "texttemplate": "%{text:.2s}",
         "type": "bar",
         "x": [
          "Mediterranean, European"
         ],
         "xaxis": "x",
         "y": [
          5000
         ],
         "yaxis": "y"
        },
        {
         "alignmentgroup": "True",
         "hovertemplate": "Cuisines=%{x}<br>Average Cost=%{text}<extra></extra>",
         "legendgroup": "Finger Food, Italian, Middle Eastern",
         "marker": {
          "color": "#B6E880",
          "pattern": {
           "shape": ""
          }
         },
         "name": "Finger Food, Italian, Middle Eastern",
         "offsetgroup": "Finger Food, Italian, Middle Eastern",
         "orientation": "v",
         "showlegend": true,
         "text": [
          4700
         ],
         "textposition": "outside",
         "texttemplate": "%{text:.2s}",
         "type": "bar",
         "x": [
          "Finger Food, Italian, Middle Eastern"
         ],
         "xaxis": "x",
         "y": [
          4700
         ],
         "yaxis": "y"
        },
        {
         "alignmentgroup": "True",
         "hovertemplate": "Cuisines=%{x}<br>Average Cost=%{text}<extra></extra>",
         "legendgroup": "Mughlai, North Indian, South Indian",
         "marker": {
          "color": "#FF97FF",
          "pattern": {
           "shape": ""
          }
         },
         "name": "Mughlai, North Indian, South Indian",
         "offsetgroup": "Mughlai, North Indian, South Indian",
         "orientation": "v",
         "showlegend": true,
         "text": [
          4500
         ],
         "textposition": "outside",
         "texttemplate": "%{text:.2s}",
         "type": "bar",
         "x": [
          "Mughlai, North Indian, South Indian"
         ],
         "xaxis": "x",
         "y": [
          4500
         ],
         "yaxis": "y"
        },
        {
         "alignmentgroup": "True",
         "hovertemplate": "Cuisines=%{x}<br>Average Cost=%{text}<extra></extra>",
         "legendgroup": "Continental, European, North Indian, French",
         "marker": {
          "color": "#FECB52",
          "pattern": {
           "shape": ""
          }
         },
         "name": "Continental, European, North Indian, French",
         "offsetgroup": "Continental, European, North Indian, French",
         "orientation": "v",
         "showlegend": true,
         "text": [
          4500
         ],
         "textposition": "outside",
         "texttemplate": "%{text:.2s}",
         "type": "bar",
         "x": [
          "Continental, European, North Indian, French"
         ],
         "xaxis": "x",
         "y": [
          4500
         ],
         "yaxis": "y"
        }
       ],
       "layout": {
        "barmode": "relative",
        "legend": {
         "title": {
          "text": "Cuisines"
         },
         "tracegroupgap": 0
        },
        "template": {
         "data": {
          "bar": [
           {
            "error_x": {
             "color": "#2a3f5f"
            },
            "error_y": {
             "color": "#2a3f5f"
            },
            "marker": {
             "line": {
              "color": "#E5ECF6",
              "width": 0.5
             },
             "pattern": {
              "fillmode": "overlay",
              "size": 10,
              "solidity": 0.2
             }
            },
            "type": "bar"
           }
          ],
          "barpolar": [
           {
            "marker": {
             "line": {
              "color": "#E5ECF6",
              "width": 0.5
             },
             "pattern": {
              "fillmode": "overlay",
              "size": 10,
              "solidity": 0.2
             }
            },
            "type": "barpolar"
           }
          ],
          "carpet": [
           {
            "aaxis": {
             "endlinecolor": "#2a3f5f",
             "gridcolor": "white",
             "linecolor": "white",
             "minorgridcolor": "white",
             "startlinecolor": "#2a3f5f"
            },
            "baxis": {
             "endlinecolor": "#2a3f5f",
             "gridcolor": "white",
             "linecolor": "white",
             "minorgridcolor": "white",
             "startlinecolor": "#2a3f5f"
            },
            "type": "carpet"
           }
          ],
          "choropleth": [
           {
            "colorbar": {
             "outlinewidth": 0,
             "ticks": ""
            },
            "type": "choropleth"
           }
          ],
          "contour": [
           {
            "colorbar": {
             "outlinewidth": 0,
             "ticks": ""
            },
            "colorscale": [
             [
              0,
              "#0d0887"
             ],
             [
              0.1111111111111111,
              "#46039f"
             ],
             [
              0.2222222222222222,
              "#7201a8"
             ],
             [
              0.3333333333333333,
              "#9c179e"
             ],
             [
              0.4444444444444444,
              "#bd3786"
             ],
             [
              0.5555555555555556,
              "#d8576b"
             ],
             [
              0.6666666666666666,
              "#ed7953"
             ],
             [
              0.7777777777777778,
              "#fb9f3a"
             ],
             [
              0.8888888888888888,
              "#fdca26"
             ],
             [
              1,
              "#f0f921"
             ]
            ],
            "type": "contour"
           }
          ],
          "contourcarpet": [
           {
            "colorbar": {
             "outlinewidth": 0,
             "ticks": ""
            },
            "type": "contourcarpet"
           }
          ],
          "heatmap": [
           {
            "colorbar": {
             "outlinewidth": 0,
             "ticks": ""
            },
            "colorscale": [
             [
              0,
              "#0d0887"
             ],
             [
              0.1111111111111111,
              "#46039f"
             ],
             [
              0.2222222222222222,
              "#7201a8"
             ],
             [
              0.3333333333333333,
              "#9c179e"
             ],
             [
              0.4444444444444444,
              "#bd3786"
             ],
             [
              0.5555555555555556,
              "#d8576b"
             ],
             [
              0.6666666666666666,
              "#ed7953"
             ],
             [
              0.7777777777777778,
              "#fb9f3a"
             ],
             [
              0.8888888888888888,
              "#fdca26"
             ],
             [
              1,
              "#f0f921"
             ]
            ],
            "type": "heatmap"
           }
          ],
          "heatmapgl": [
           {
            "colorbar": {
             "outlinewidth": 0,
             "ticks": ""
            },
            "colorscale": [
             [
              0,
              "#0d0887"
             ],
             [
              0.1111111111111111,
              "#46039f"
             ],
             [
              0.2222222222222222,
              "#7201a8"
             ],
             [
              0.3333333333333333,
              "#9c179e"
             ],
             [
              0.4444444444444444,
              "#bd3786"
             ],
             [
              0.5555555555555556,
              "#d8576b"
             ],
             [
              0.6666666666666666,
              "#ed7953"
             ],
             [
              0.7777777777777778,
              "#fb9f3a"
             ],
             [
              0.8888888888888888,
              "#fdca26"
             ],
             [
              1,
              "#f0f921"
             ]
            ],
            "type": "heatmapgl"
           }
          ],
          "histogram": [
           {
            "marker": {
             "pattern": {
              "fillmode": "overlay",
              "size": 10,
              "solidity": 0.2
             }
            },
            "type": "histogram"
           }
          ],
          "histogram2d": [
           {
            "colorbar": {
             "outlinewidth": 0,
             "ticks": ""
            },
            "colorscale": [
             [
              0,
              "#0d0887"
             ],
             [
              0.1111111111111111,
              "#46039f"
             ],
             [
              0.2222222222222222,
              "#7201a8"
             ],
             [
              0.3333333333333333,
              "#9c179e"
             ],
             [
              0.4444444444444444,
              "#bd3786"
             ],
             [
              0.5555555555555556,
              "#d8576b"
             ],
             [
              0.6666666666666666,
              "#ed7953"
             ],
             [
              0.7777777777777778,
              "#fb9f3a"
             ],
             [
              0.8888888888888888,
              "#fdca26"
             ],
             [
              1,
              "#f0f921"
             ]
            ],
            "type": "histogram2d"
           }
          ],
          "histogram2dcontour": [
           {
            "colorbar": {
             "outlinewidth": 0,
             "ticks": ""
            },
            "colorscale": [
             [
              0,
              "#0d0887"
             ],
             [
              0.1111111111111111,
              "#46039f"
             ],
             [
              0.2222222222222222,
              "#7201a8"
             ],
             [
              0.3333333333333333,
              "#9c179e"
             ],
             [
              0.4444444444444444,
              "#bd3786"
             ],
             [
              0.5555555555555556,
              "#d8576b"
             ],
             [
              0.6666666666666666,
              "#ed7953"
             ],
             [
              0.7777777777777778,
              "#fb9f3a"
             ],
             [
              0.8888888888888888,
              "#fdca26"
             ],
             [
              1,
              "#f0f921"
             ]
            ],
            "type": "histogram2dcontour"
           }
          ],
          "mesh3d": [
           {
            "colorbar": {
             "outlinewidth": 0,
             "ticks": ""
            },
            "type": "mesh3d"
           }
          ],
          "parcoords": [
           {
            "line": {
             "colorbar": {
              "outlinewidth": 0,
              "ticks": ""
             }
            },
            "type": "parcoords"
           }
          ],
          "pie": [
           {
            "automargin": true,
            "type": "pie"
           }
          ],
          "scatter": [
           {
            "fillpattern": {
             "fillmode": "overlay",
             "size": 10,
             "solidity": 0.2
            },
            "type": "scatter"
           }
          ],
          "scatter3d": [
           {
            "line": {
             "colorbar": {
              "outlinewidth": 0,
              "ticks": ""
             }
            },
            "marker": {
             "colorbar": {
              "outlinewidth": 0,
              "ticks": ""
             }
            },
            "type": "scatter3d"
           }
          ],
          "scattercarpet": [
           {
            "marker": {
             "colorbar": {
              "outlinewidth": 0,
              "ticks": ""
             }
            },
            "type": "scattercarpet"
           }
          ],
          "scattergeo": [
           {
            "marker": {
             "colorbar": {
              "outlinewidth": 0,
              "ticks": ""
             }
            },
            "type": "scattergeo"
           }
          ],
          "scattergl": [
           {
            "marker": {
             "colorbar": {
              "outlinewidth": 0,
              "ticks": ""
             }
            },
            "type": "scattergl"
           }
          ],
          "scattermapbox": [
           {
            "marker": {
             "colorbar": {
              "outlinewidth": 0,
              "ticks": ""
             }
            },
            "type": "scattermapbox"
           }
          ],
          "scatterpolar": [
           {
            "marker": {
             "colorbar": {
              "outlinewidth": 0,
              "ticks": ""
             }
            },
            "type": "scatterpolar"
           }
          ],
          "scatterpolargl": [
           {
            "marker": {
             "colorbar": {
              "outlinewidth": 0,
              "ticks": ""
             }
            },
            "type": "scatterpolargl"
           }
          ],
          "scatterternary": [
           {
            "marker": {
             "colorbar": {
              "outlinewidth": 0,
              "ticks": ""
             }
            },
            "type": "scatterternary"
           }
          ],
          "surface": [
           {
            "colorbar": {
             "outlinewidth": 0,
             "ticks": ""
            },
            "colorscale": [
             [
              0,
              "#0d0887"
             ],
             [
              0.1111111111111111,
              "#46039f"
             ],
             [
              0.2222222222222222,
              "#7201a8"
             ],
             [
              0.3333333333333333,
              "#9c179e"
             ],
             [
              0.4444444444444444,
              "#bd3786"
             ],
             [
              0.5555555555555556,
              "#d8576b"
             ],
             [
              0.6666666666666666,
              "#ed7953"
             ],
             [
              0.7777777777777778,
              "#fb9f3a"
             ],
             [
              0.8888888888888888,
              "#fdca26"
             ],
             [
              1,
              "#f0f921"
             ]
            ],
            "type": "surface"
           }
          ],
          "table": [
           {
            "cells": {
             "fill": {
              "color": "#EBF0F8"
             },
             "line": {
              "color": "white"
             }
            },
            "header": {
             "fill": {
              "color": "#C8D4E3"
             },
             "line": {
              "color": "white"
             }
            },
            "type": "table"
           }
          ]
         },
         "layout": {
          "annotationdefaults": {
           "arrowcolor": "#2a3f5f",
           "arrowhead": 0,
           "arrowwidth": 1
          },
          "autotypenumbers": "strict",
          "coloraxis": {
           "colorbar": {
            "outlinewidth": 0,
            "ticks": ""
           }
          },
          "colorscale": {
           "diverging": [
            [
             0,
             "#8e0152"
            ],
            [
             0.1,
             "#c51b7d"
            ],
            [
             0.2,
             "#de77ae"
            ],
            [
             0.3,
             "#f1b6da"
            ],
            [
             0.4,
             "#fde0ef"
            ],
            [
             0.5,
             "#f7f7f7"
            ],
            [
             0.6,
             "#e6f5d0"
            ],
            [
             0.7,
             "#b8e186"
            ],
            [
             0.8,
             "#7fbc41"
            ],
            [
             0.9,
             "#4d9221"
            ],
            [
             1,
             "#276419"
            ]
           ],
           "sequential": [
            [
             0,
             "#0d0887"
            ],
            [
             0.1111111111111111,
             "#46039f"
            ],
            [
             0.2222222222222222,
             "#7201a8"
            ],
            [
             0.3333333333333333,
             "#9c179e"
            ],
            [
             0.4444444444444444,
             "#bd3786"
            ],
            [
             0.5555555555555556,
             "#d8576b"
            ],
            [
             0.6666666666666666,
             "#ed7953"
            ],
            [
             0.7777777777777778,
             "#fb9f3a"
            ],
            [
             0.8888888888888888,
             "#fdca26"
            ],
            [
             1,
             "#f0f921"
            ]
           ],
           "sequentialminus": [
            [
             0,
             "#0d0887"
            ],
            [
             0.1111111111111111,
             "#46039f"
            ],
            [
             0.2222222222222222,
             "#7201a8"
            ],
            [
             0.3333333333333333,
             "#9c179e"
            ],
            [
             0.4444444444444444,
             "#bd3786"
            ],
            [
             0.5555555555555556,
             "#d8576b"
            ],
            [
             0.6666666666666666,
             "#ed7953"
            ],
            [
             0.7777777777777778,
             "#fb9f3a"
            ],
            [
             0.8888888888888888,
             "#fdca26"
            ],
            [
             1,
             "#f0f921"
            ]
           ]
          },
          "colorway": [
           "#636efa",
           "#EF553B",
           "#00cc96",
           "#ab63fa",
           "#FFA15A",
           "#19d3f3",
           "#FF6692",
           "#B6E880",
           "#FF97FF",
           "#FECB52"
          ],
          "font": {
           "color": "#2a3f5f"
          },
          "geo": {
           "bgcolor": "white",
           "lakecolor": "white",
           "landcolor": "#E5ECF6",
           "showlakes": true,
           "showland": true,
           "subunitcolor": "white"
          },
          "hoverlabel": {
           "align": "left"
          },
          "hovermode": "closest",
          "mapbox": {
           "style": "light"
          },
          "paper_bgcolor": "white",
          "plot_bgcolor": "#E5ECF6",
          "polar": {
           "angularaxis": {
            "gridcolor": "white",
            "linecolor": "white",
            "ticks": ""
           },
           "bgcolor": "#E5ECF6",
           "radialaxis": {
            "gridcolor": "white",
            "linecolor": "white",
            "ticks": ""
           }
          },
          "scene": {
           "xaxis": {
            "backgroundcolor": "#E5ECF6",
            "gridcolor": "white",
            "gridwidth": 2,
            "linecolor": "white",
            "showbackground": true,
            "ticks": "",
            "zerolinecolor": "white"
           },
           "yaxis": {
            "backgroundcolor": "#E5ECF6",
            "gridcolor": "white",
            "gridwidth": 2,
            "linecolor": "white",
            "showbackground": true,
            "ticks": "",
            "zerolinecolor": "white"
           },
           "zaxis": {
            "backgroundcolor": "#E5ECF6",
            "gridcolor": "white",
            "gridwidth": 2,
            "linecolor": "white",
            "showbackground": true,
            "ticks": "",
            "zerolinecolor": "white"
           }
          },
          "shapedefaults": {
           "line": {
            "color": "#2a3f5f"
           }
          },
          "ternary": {
           "aaxis": {
            "gridcolor": "white",
            "linecolor": "white",
            "ticks": ""
           },
           "baxis": {
            "gridcolor": "white",
            "linecolor": "white",
            "ticks": ""
           },
           "bgcolor": "#E5ECF6",
           "caxis": {
            "gridcolor": "white",
            "linecolor": "white",
            "ticks": ""
           }
          },
          "title": {
           "x": 0.05
          },
          "xaxis": {
           "automargin": true,
           "gridcolor": "white",
           "linecolor": "white",
           "ticks": "",
           "title": {
            "standoff": 15
           },
           "zerolinecolor": "white",
           "zerolinewidth": 2
          },
          "yaxis": {
           "automargin": true,
           "gridcolor": "white",
           "linecolor": "white",
           "ticks": "",
           "title": {
            "standoff": 15
           },
           "zerolinecolor": "white",
           "zerolinewidth": 2
          }
         }
        },
        "title": {
         "text": "Top 10 Costly Cuisines in India"
        },
        "xaxis": {
         "anchor": "y",
         "categoryarray": [
          "Asian, Japanese, Korean, Thai, Chinese",
          "North Indian, Chinese, South Indian, Italian",
          "Malaysian, Thai, Kerala, Vietnamese, Sri Lankan",
          "French, Italian",
          "Seafood, Italian",
          "North Indian, European, Continental",
          "Mediterranean, European",
          "Finger Food, Italian, Middle Eastern",
          "Mughlai, North Indian, South Indian",
          "Continental, European, North Indian, French"
         ],
         "categoryorder": "array",
         "domain": [
          0,
          1
         ],
         "title": {
          "text": "Cuisines"
         }
        },
        "yaxis": {
         "anchor": "x",
         "domain": [
          0,
          1
         ],
         "title": {
          "text": "Average Cost"
         }
        }
       }
      }
     },
     "metadata": {},
     "output_type": "display_data"
    }
   ],
   "source": [
    "#3 Top 10 Costly Cuisines in India\n",
    "\n",
    "# Assuming your dataframe is named 'zomato_data'\n",
    "# Replace 'zomato_data' with your actual dataframe name if different\n",
    "\n",
    "# Filter data for restaurants in India\n",
    "indian_restaurants = zomato_data[zomato_data['Country'] == 'India']\n",
    "\n",
    "# Calculate average cost for each cuisine\n",
    "cuisine_avg_cost = indian_restaurants.groupby('Cuisines')['Average Cost for two'].mean().reset_index()\n",
    "cuisine_avg_cost = cuisine_avg_cost.sort_values(by='Average Cost for two', ascending=False)\n",
    "\n",
    "# Plot bar chart\n",
    "fig = px.bar(cuisine_avg_cost.head(10), x='Cuisines', y='Average Cost for two', \n",
    "             title='Top 10 Costly Cuisines in India', color='Cuisines',\n",
    "             text='Average Cost for two', \n",
    "             labels={'Average Cost for two': 'Average Cost'})\n",
    "fig.update_traces(texttemplate='%{text:.2s}', textposition='outside')\n",
    "fig.update_layout(yaxis=dict(title='Average Cost'))\n",
    "fig.show()\n"
   ]
  },
  {
   "cell_type": "code",
   "execution_count": 76,
   "metadata": {},
   "outputs": [
    {
     "name": "stdout",
     "output_type": "stream",
     "text": [
      "locations of restaurants serving the most common cuisine in each city\n"
     ]
    },
    {
     "data": {
      "text/html": [
       "<div style=\"width:100%;\"><div style=\"position:relative;width:100%;height:0;padding-bottom:60%;\"><span style=\"color:#565656\">Make this Notebook Trusted to load map: File -> Trust Notebook</span><iframe srcdoc=\"&lt;!DOCTYPE html&gt;\n",
       "&lt;html&gt;\n",
       "&lt;head&gt;\n",
       "    \n",
       "    &lt;meta http-equiv=&quot;content-type&quot; content=&quot;text/html; charset=UTF-8&quot; /&gt;\n",
       "    \n",
       "        &lt;script&gt;\n",
       "            L_NO_TOUCH = false;\n",
       "            L_DISABLE_3D = false;\n",
       "        &lt;/script&gt;\n",
       "    \n",
       "    &lt;style&gt;html, body {width: 100%;height: 100%;margin: 0;padding: 0;}&lt;/style&gt;\n",
       "    &lt;style&gt;#map {position:absolute;top:0;bottom:0;right:0;left:0;}&lt;/style&gt;\n",
       "    &lt;script src=&quot;https://cdn.jsdelivr.net/npm/leaflet@1.9.3/dist/leaflet.js&quot;&gt;&lt;/script&gt;\n",
       "    &lt;script src=&quot;https://code.jquery.com/jquery-3.7.1.min.js&quot;&gt;&lt;/script&gt;\n",
       "    &lt;script src=&quot;https://cdn.jsdelivr.net/npm/bootstrap@5.2.2/dist/js/bootstrap.bundle.min.js&quot;&gt;&lt;/script&gt;\n",
       "    &lt;script src=&quot;https://cdnjs.cloudflare.com/ajax/libs/Leaflet.awesome-markers/2.0.2/leaflet.awesome-markers.js&quot;&gt;&lt;/script&gt;\n",
       "    &lt;link rel=&quot;stylesheet&quot; href=&quot;https://cdn.jsdelivr.net/npm/leaflet@1.9.3/dist/leaflet.css&quot;/&gt;\n",
       "    &lt;link rel=&quot;stylesheet&quot; href=&quot;https://cdn.jsdelivr.net/npm/bootstrap@5.2.2/dist/css/bootstrap.min.css&quot;/&gt;\n",
       "    &lt;link rel=&quot;stylesheet&quot; href=&quot;https://netdna.bootstrapcdn.com/bootstrap/3.0.0/css/bootstrap.min.css&quot;/&gt;\n",
       "    &lt;link rel=&quot;stylesheet&quot; href=&quot;https://cdn.jsdelivr.net/npm/@fortawesome/fontawesome-free@6.2.0/css/all.min.css&quot;/&gt;\n",
       "    &lt;link rel=&quot;stylesheet&quot; href=&quot;https://cdnjs.cloudflare.com/ajax/libs/Leaflet.awesome-markers/2.0.2/leaflet.awesome-markers.css&quot;/&gt;\n",
       "    &lt;link rel=&quot;stylesheet&quot; href=&quot;https://cdn.jsdelivr.net/gh/python-visualization/folium/folium/templates/leaflet.awesome.rotate.min.css&quot;/&gt;\n",
       "    \n",
       "            &lt;meta name=&quot;viewport&quot; content=&quot;width=device-width,\n",
       "                initial-scale=1.0, maximum-scale=1.0, user-scalable=no&quot; /&gt;\n",
       "            &lt;style&gt;\n",
       "                #map_d1cbc4d2c173ca027778d45be0dcd5c4 {\n",
       "                    position: relative;\n",
       "                    width: 100.0%;\n",
       "                    height: 100.0%;\n",
       "                    left: 0.0%;\n",
       "                    top: 0.0%;\n",
       "                }\n",
       "                .leaflet-container { font-size: 1rem; }\n",
       "            &lt;/style&gt;\n",
       "        \n",
       "    &lt;script src=&quot;https://cdnjs.cloudflare.com/ajax/libs/leaflet.markercluster/1.1.0/leaflet.markercluster.js&quot;&gt;&lt;/script&gt;\n",
       "    &lt;link rel=&quot;stylesheet&quot; href=&quot;https://cdnjs.cloudflare.com/ajax/libs/leaflet.markercluster/1.1.0/MarkerCluster.css&quot;/&gt;\n",
       "    &lt;link rel=&quot;stylesheet&quot; href=&quot;https://cdnjs.cloudflare.com/ajax/libs/leaflet.markercluster/1.1.0/MarkerCluster.Default.css&quot;/&gt;\n",
       "&lt;/head&gt;\n",
       "&lt;body&gt;\n",
       "    \n",
       "    \n",
       "            &lt;div class=&quot;folium-map&quot; id=&quot;map_d1cbc4d2c173ca027778d45be0dcd5c4&quot; &gt;&lt;/div&gt;\n",
       "        \n",
       "&lt;/body&gt;\n",
       "&lt;script&gt;\n",
       "    \n",
       "    \n",
       "            var map_d1cbc4d2c173ca027778d45be0dcd5c4 = L.map(\n",
       "                &quot;map_d1cbc4d2c173ca027778d45be0dcd5c4&quot;,\n",
       "                {\n",
       "                    center: [25.84853159488723, 64.27499746924892],\n",
       "                    crs: L.CRS.EPSG3857,\n",
       "                    zoom: 10,\n",
       "                    zoomControl: true,\n",
       "                    preferCanvas: false,\n",
       "                }\n",
       "            );\n",
       "\n",
       "            \n",
       "\n",
       "        \n",
       "    \n",
       "            var tile_layer_c13cb435dfc73235ff921dce06ee6ee1 = L.tileLayer(\n",
       "                &quot;https://tile.openstreetmap.org/{z}/{x}/{y}.png&quot;,\n",
       "                {&quot;attribution&quot;: &quot;\\u0026copy; \\u003ca href=\\&quot;https://www.openstreetmap.org/copyright\\&quot;\\u003eOpenStreetMap\\u003c/a\\u003e contributors&quot;, &quot;detectRetina&quot;: false, &quot;maxNativeZoom&quot;: 19, &quot;maxZoom&quot;: 19, &quot;minZoom&quot;: 0, &quot;noWrap&quot;: false, &quot;opacity&quot;: 1, &quot;subdomains&quot;: &quot;abc&quot;, &quot;tms&quot;: false}\n",
       "            );\n",
       "        \n",
       "    \n",
       "            tile_layer_c13cb435dfc73235ff921dce06ee6ee1.addTo(map_d1cbc4d2c173ca027778d45be0dcd5c4);\n",
       "        \n",
       "    \n",
       "            var marker_cluster_72d43044f160b0ae6f3a6825db048fd2 = L.markerClusterGroup(\n",
       "                {}\n",
       "            );\n",
       "        \n",
       "    \n",
       "            var marker_be514589644fbb539d2a30884e09c759 = L.marker(\n",
       "                [24.4642687255, 54.405998419499994],\n",
       "                {}\n",
       "            ).addTo(map_d1cbc4d2c173ca027778d45be0dcd5c4);\n",
       "        \n",
       "    \n",
       "        var popup_1b4853c380e19808cc2a7dbe78cad1a0 = L.popup({&quot;maxWidth&quot;: &quot;100%&quot;});\n",
       "\n",
       "        \n",
       "            \n",
       "                var html_1928662521be2ed732514ff65d49a033 = $(`&lt;div id=&quot;html_1928662521be2ed732514ff65d49a033&quot; style=&quot;width: 100.0%; height: 100.0%;&quot;&gt;Abu Dhabi: Indian (7 restaurants)&lt;/div&gt;`)[0];\n",
       "                popup_1b4853c380e19808cc2a7dbe78cad1a0.setContent(html_1928662521be2ed732514ff65d49a033);\n",
       "            \n",
       "        \n",
       "\n",
       "        marker_be514589644fbb539d2a30884e09c759.bindPopup(popup_1b4853c380e19808cc2a7dbe78cad1a0)\n",
       "        ;\n",
       "\n",
       "        \n",
       "    \n",
       "    \n",
       "            var marker_57a9b249d839cb1432c2f32fbd3f44a2 = L.marker(\n",
       "                [19.016683118499998, 54.6228302765],\n",
       "                {}\n",
       "            ).addTo(map_d1cbc4d2c173ca027778d45be0dcd5c4);\n",
       "        \n",
       "    \n",
       "        var popup_4c0b9cdd2b5f7bef55646e6a5c8f346d = L.popup({&quot;maxWidth&quot;: &quot;100%&quot;});\n",
       "\n",
       "        \n",
       "            \n",
       "                var html_32d657b51704f4f703b53bf02c5095c0 = $(`&lt;div id=&quot;html_32d657b51704f4f703b53bf02c5095c0&quot; style=&quot;width: 100.0%; height: 100.0%;&quot;&gt;Agra: North Indian (15 restaurants)&lt;/div&gt;`)[0];\n",
       "                popup_4c0b9cdd2b5f7bef55646e6a5c8f346d.setContent(html_32d657b51704f4f703b53bf02c5095c0);\n",
       "            \n",
       "        \n",
       "\n",
       "        marker_57a9b249d839cb1432c2f32fbd3f44a2.bindPopup(popup_4c0b9cdd2b5f7bef55646e6a5c8f346d)\n",
       "        ;\n",
       "\n",
       "        \n",
       "    \n",
       "    \n",
       "            var marker_bdc1b74ae76abdeab033622b0f14beeb = L.marker(\n",
       "                [23.036909637142855, 72.53132398952381],\n",
       "                {}\n",
       "            ).addTo(map_d1cbc4d2c173ca027778d45be0dcd5c4);\n",
       "        \n",
       "    \n",
       "        var popup_70f26a5f42948c4610f6b42cd19f113c = L.popup({&quot;maxWidth&quot;: &quot;100%&quot;});\n",
       "\n",
       "        \n",
       "            \n",
       "                var html_0dbffdcca7d99313dacc998c78f52225 = $(`&lt;div id=&quot;html_0dbffdcca7d99313dacc998c78f52225&quot; style=&quot;width: 100.0%; height: 100.0%;&quot;&gt;Ahmedabad: Continental (12 restaurants)&lt;/div&gt;`)[0];\n",
       "                popup_70f26a5f42948c4610f6b42cd19f113c.setContent(html_0dbffdcca7d99313dacc998c78f52225);\n",
       "            \n",
       "        \n",
       "\n",
       "        marker_bdc1b74ae76abdeab033622b0f14beeb.bindPopup(popup_70f26a5f42948c4610f6b42cd19f113c)\n",
       "        ;\n",
       "\n",
       "        \n",
       "    \n",
       "    \n",
       "            var marker_d600884597102c296b2227db7c58659c = L.marker(\n",
       "                [31.606986388235295, -84.19109063529412],\n",
       "                {}\n",
       "            ).addTo(map_d1cbc4d2c173ca027778d45be0dcd5c4);\n",
       "        \n",
       "    \n",
       "        var popup_4b1106c3d5522ac4936c20414fcaf682 = L.popup({&quot;maxWidth&quot;: &quot;100%&quot;});\n",
       "\n",
       "        \n",
       "            \n",
       "                var html_8cfd63d25d897b3e913d0fd214956269 = $(`&lt;div id=&quot;html_8cfd63d25d897b3e913d0fd214956269&quot; style=&quot;width: 100.0%; height: 100.0%;&quot;&gt;Albany: American (4 restaurants)&lt;/div&gt;`)[0];\n",
       "                popup_4b1106c3d5522ac4936c20414fcaf682.setContent(html_8cfd63d25d897b3e913d0fd214956269);\n",
       "            \n",
       "        \n",
       "\n",
       "        marker_d600884597102c296b2227db7c58659c.bindPopup(popup_4b1106c3d5522ac4936c20414fcaf682)\n",
       "        ;\n",
       "\n",
       "        \n",
       "    \n",
       "    \n",
       "            var marker_38021dfd7861d20507dd639933744ea4 = L.marker(\n",
       "                [19.0893709845, 61.3787931605],\n",
       "                {}\n",
       "            ).addTo(map_d1cbc4d2c173ca027778d45be0dcd5c4);\n",
       "        \n",
       "    \n",
       "        var popup_2164708e0a279f66f04b5f3fc4605366 = L.popup({&quot;maxWidth&quot;: &quot;100%&quot;});\n",
       "\n",
       "        \n",
       "            \n",
       "                var html_6493e3f0703d3a47626aa54878f631bb = $(`&lt;div id=&quot;html_6493e3f0703d3a47626aa54878f631bb&quot; style=&quot;width: 100.0%; height: 100.0%;&quot;&gt;Allahabad: North Indian (12 restaurants)&lt;/div&gt;`)[0];\n",
       "                popup_2164708e0a279f66f04b5f3fc4605366.setContent(html_6493e3f0703d3a47626aa54878f631bb);\n",
       "            \n",
       "        \n",
       "\n",
       "        marker_38021dfd7861d20507dd639933744ea4.bindPopup(popup_2164708e0a279f66f04b5f3fc4605366)\n",
       "        ;\n",
       "\n",
       "        \n",
       "    \n",
       "    \n",
       "            var marker_a36b3ad8bef5fe9672a32f0ef4d5e59d = L.marker(\n",
       "                [25.61115285666667, 60.613097549999985],\n",
       "                {}\n",
       "            ).addTo(map_d1cbc4d2c173ca027778d45be0dcd5c4);\n",
       "        \n",
       "    \n",
       "        var popup_5f7b770786f50d663ad4da8651a35d27 = L.popup({&quot;maxWidth&quot;: &quot;100%&quot;});\n",
       "\n",
       "        \n",
       "            \n",
       "                var html_aad579819c52a0207da901654b433b51 = $(`&lt;div id=&quot;html_aad579819c52a0207da901654b433b51&quot; style=&quot;width: 100.0%; height: 100.0%;&quot;&gt;Amritsar: North Indian (15 restaurants)&lt;/div&gt;`)[0];\n",
       "                popup_5f7b770786f50d663ad4da8651a35d27.setContent(html_aad579819c52a0207da901654b433b51);\n",
       "            \n",
       "        \n",
       "\n",
       "        marker_a36b3ad8bef5fe9672a32f0ef4d5e59d.bindPopup(popup_5f7b770786f50d663ad4da8651a35d27)\n",
       "        ;\n",
       "\n",
       "        \n",
       "    \n",
       "    \n",
       "            var marker_409589ef794be86f57b4da38f4d34b62 = L.marker(\n",
       "                [39.906428855, 32.824276161],\n",
       "                {}\n",
       "            ).addTo(map_d1cbc4d2c173ca027778d45be0dcd5c4);\n",
       "        \n",
       "    \n",
       "        var popup_170b11cd66aa4b568432a6d7f8448daa = L.popup({&quot;maxWidth&quot;: &quot;100%&quot;});\n",
       "\n",
       "        \n",
       "            \n",
       "                var html_813d635ffeb8981378d3803be20928d1 = $(`&lt;div id=&quot;html_813d635ffeb8981378d3803be20928d1&quot; style=&quot;width: 100.0%; height: 100.0%;&quot;&gt;Ankara: Kebab (10 restaurants)&lt;/div&gt;`)[0];\n",
       "                popup_170b11cd66aa4b568432a6d7f8448daa.setContent(html_813d635ffeb8981378d3803be20928d1);\n",
       "            \n",
       "        \n",
       "\n",
       "        marker_409589ef794be86f57b4da38f4d34b62.bindPopup(popup_170b11cd66aa4b568432a6d7f8448daa)\n",
       "        ;\n",
       "\n",
       "        \n",
       "    \n",
       "    \n",
       "            var marker_018d2966250dfbbcf11d606f8c8a484b = L.marker(\n",
       "                [-30.5147169, 151.6688792],\n",
       "                {}\n",
       "            ).addTo(map_d1cbc4d2c173ca027778d45be0dcd5c4);\n",
       "        \n",
       "    \n",
       "        var popup_1fbfa2ea16a84271fa66642f90623b59 = L.popup({&quot;maxWidth&quot;: &quot;100%&quot;});\n",
       "\n",
       "        \n",
       "            \n",
       "                var html_c132f5eecfd4dcbd35f9852abc5dcc69 = $(`&lt;div id=&quot;html_c132f5eecfd4dcbd35f9852abc5dcc69&quot; style=&quot;width: 100.0%; height: 100.0%;&quot;&gt;Armidale: Bar Food (1 restaurants)&lt;/div&gt;`)[0];\n",
       "                popup_1fbfa2ea16a84271fa66642f90623b59.setContent(html_c132f5eecfd4dcbd35f9852abc5dcc69);\n",
       "            \n",
       "        \n",
       "\n",
       "        marker_018d2966250dfbbcf11d606f8c8a484b.bindPopup(popup_1fbfa2ea16a84271fa66642f90623b59)\n",
       "        ;\n",
       "\n",
       "        \n",
       "    \n",
       "    \n",
       "            var marker_6c3007a00522bbc3c23d5966942a7eea = L.marker(\n",
       "                [33.95380840999999, -83.38049078],\n",
       "                {}\n",
       "            ).addTo(map_d1cbc4d2c173ca027778d45be0dcd5c4);\n",
       "        \n",
       "    \n",
       "        var popup_d0e01d33acd8627a76e7adf2dc08f036 = L.popup({&quot;maxWidth&quot;: &quot;100%&quot;});\n",
       "\n",
       "        \n",
       "            \n",
       "                var html_b4be3e2a9e1d92317bf60a77c16ad5aa = $(`&lt;div id=&quot;html_b4be3e2a9e1d92317bf60a77c16ad5aa&quot; style=&quot;width: 100.0%; height: 100.0%;&quot;&gt;Athens: American (5 restaurants)&lt;/div&gt;`)[0];\n",
       "                popup_d0e01d33acd8627a76e7adf2dc08f036.setContent(html_b4be3e2a9e1d92317bf60a77c16ad5aa);\n",
       "            \n",
       "        \n",
       "\n",
       "        marker_6c3007a00522bbc3c23d5966942a7eea.bindPopup(popup_d0e01d33acd8627a76e7adf2dc08f036)\n",
       "        ;\n",
       "\n",
       "        \n",
       "    \n",
       "    \n",
       "            var marker_96e9759f8fa372c8c05615fea6d72bdf = L.marker(\n",
       "                [-35.018806837, 174.76193619],\n",
       "                {}\n",
       "            ).addTo(map_d1cbc4d2c173ca027778d45be0dcd5c4);\n",
       "        \n",
       "    \n",
       "        var popup_672c856da0c9983285cc11b6a9f0653e = L.popup({&quot;maxWidth&quot;: &quot;100%&quot;});\n",
       "\n",
       "        \n",
       "            \n",
       "                var html_07f48fdd24ded79251956fdb16e6764b = $(`&lt;div id=&quot;html_07f48fdd24ded79251956fdb16e6764b&quot; style=&quot;width: 100.0%; height: 100.0%;&quot;&gt;Auckland: Cafe (5 restaurants)&lt;/div&gt;`)[0];\n",
       "                popup_672c856da0c9983285cc11b6a9f0653e.setContent(html_07f48fdd24ded79251956fdb16e6764b);\n",
       "            \n",
       "        \n",
       "\n",
       "        marker_96e9759f8fa372c8c05615fea6d72bdf.bindPopup(popup_672c856da0c9983285cc11b6a9f0653e)\n",
       "        ;\n",
       "\n",
       "        \n",
       "    \n",
       "    \n",
       "            var marker_3773be8094369527fe5b2204b1d580de = L.marker(\n",
       "                [33.48917119, -82.053204815],\n",
       "                {}\n",
       "            ).addTo(map_d1cbc4d2c173ca027778d45be0dcd5c4);\n",
       "        \n",
       "    \n",
       "        var popup_5ba6c6479b9b72520950ef42735ba51e = L.popup({&quot;maxWidth&quot;: &quot;100%&quot;});\n",
       "\n",
       "        \n",
       "            \n",
       "                var html_07723837709ae927557ef80ed7fe04e0 = $(`&lt;div id=&quot;html_07723837709ae927557ef80ed7fe04e0&quot; style=&quot;width: 100.0%; height: 100.0%;&quot;&gt;Augusta: American (3 restaurants)&lt;/div&gt;`)[0];\n",
       "                popup_5ba6c6479b9b72520950ef42735ba51e.setContent(html_07723837709ae927557ef80ed7fe04e0);\n",
       "            \n",
       "        \n",
       "\n",
       "        marker_3773be8094369527fe5b2204b1d580de.bindPopup(popup_5ba6c6479b9b72520950ef42735ba51e)\n",
       "        ;\n",
       "\n",
       "        \n",
       "    \n",
       "    \n",
       "            var marker_559a5a88c012eeb69304fb293932ff66 = L.marker(\n",
       "                [15.901220759499997, 60.27382031449999],\n",
       "                {}\n",
       "            ).addTo(map_d1cbc4d2c173ca027778d45be0dcd5c4);\n",
       "        \n",
       "    \n",
       "        var popup_29814d71641c7923287236485ab7adb9 = L.popup({&quot;maxWidth&quot;: &quot;100%&quot;});\n",
       "\n",
       "        \n",
       "            \n",
       "                var html_87adbe7757afc96a67a0cc8ae110ba18 = $(`&lt;div id=&quot;html_87adbe7757afc96a67a0cc8ae110ba18&quot; style=&quot;width: 100.0%; height: 100.0%;&quot;&gt;Aurangabad: North Indian (15 restaurants)&lt;/div&gt;`)[0];\n",
       "                popup_29814d71641c7923287236485ab7adb9.setContent(html_87adbe7757afc96a67a0cc8ae110ba18);\n",
       "            \n",
       "        \n",
       "\n",
       "        marker_559a5a88c012eeb69304fb293932ff66.bindPopup(popup_29814d71641c7923287236485ab7adb9)\n",
       "        ;\n",
       "\n",
       "        \n",
       "    \n",
       "    \n",
       "            var marker_e8da769c036b03f18188acde39340902 = L.marker(\n",
       "                [-33.7845269, 115.9844924],\n",
       "                {}\n",
       "            ).addTo(map_d1cbc4d2c173ca027778d45be0dcd5c4);\n",
       "        \n",
       "    \n",
       "        var popup_8747e58bbdaa6867d6f4c8991527ae8d = L.popup({&quot;maxWidth&quot;: &quot;100%&quot;});\n",
       "\n",
       "        \n",
       "            \n",
       "                var html_ca23bfa0531d0e581118625aab682861 = $(`&lt;div id=&quot;html_ca23bfa0531d0e581118625aab682861&quot; style=&quot;width: 100.0%; height: 100.0%;&quot;&gt;Balingup: Modern Australian (1 restaurants)&lt;/div&gt;`)[0];\n",
       "                popup_8747e58bbdaa6867d6f4c8991527ae8d.setContent(html_ca23bfa0531d0e581118625aab682861);\n",
       "            \n",
       "        \n",
       "\n",
       "        marker_e8da769c036b03f18188acde39340902.bindPopup(popup_8747e58bbdaa6867d6f4c8991527ae8d)\n",
       "        ;\n",
       "\n",
       "        \n",
       "    \n",
       "    \n",
       "            var marker_6185636d35a97926f53f3d0153825f8c = L.marker(\n",
       "                [-6.887057501, 107.6127895],\n",
       "                {}\n",
       "            ).addTo(map_d1cbc4d2c173ca027778d45be0dcd5c4);\n",
       "        \n",
       "    \n",
       "        var popup_28d785d21cf2ddffe1f3b53e13294400 = L.popup({&quot;maxWidth&quot;: &quot;100%&quot;});\n",
       "\n",
       "        \n",
       "            \n",
       "                var html_58e151a75f0d313e5fbb7f5baa3c2976 = $(`&lt;div id=&quot;html_58e151a75f0d313e5fbb7f5baa3c2976&quot; style=&quot;width: 100.0%; height: 100.0%;&quot;&gt;Bandung: Cafe (1 restaurants)&lt;/div&gt;`)[0];\n",
       "                popup_28d785d21cf2ddffe1f3b53e13294400.setContent(html_58e151a75f0d313e5fbb7f5baa3c2976);\n",
       "            \n",
       "        \n",
       "\n",
       "        marker_6185636d35a97926f53f3d0153825f8c.bindPopup(popup_28d785d21cf2ddffe1f3b53e13294400)\n",
       "        ;\n",
       "\n",
       "        \n",
       "    \n",
       "    \n",
       "            var marker_eb201f9f36ce83f306f0a82f62c21833 = L.marker(\n",
       "                [12.955034355499999, 77.6344059925],\n",
       "                {}\n",
       "            ).addTo(map_d1cbc4d2c173ca027778d45be0dcd5c4);\n",
       "        \n",
       "    \n",
       "        var popup_e46103ebbc4a418c2ff0ab37cff46492 = L.popup({&quot;maxWidth&quot;: &quot;100%&quot;});\n",
       "\n",
       "        \n",
       "            \n",
       "                var html_f176a1e18736d6620ee0776f8d25b4bc = $(`&lt;div id=&quot;html_f176a1e18736d6620ee0776f8d25b4bc&quot; style=&quot;width: 100.0%; height: 100.0%;&quot;&gt;Bangalore: Italian (8 restaurants)&lt;/div&gt;`)[0];\n",
       "                popup_e46103ebbc4a418c2ff0ab37cff46492.setContent(html_f176a1e18736d6620ee0776f8d25b4bc);\n",
       "            \n",
       "        \n",
       "\n",
       "        marker_eb201f9f36ce83f306f0a82f62c21833.bindPopup(popup_e46103ebbc4a418c2ff0ab37cff46492)\n",
       "        ;\n",
       "\n",
       "        \n",
       "    \n",
       "    \n",
       "            var marker_52de0bdd1c12f3e99475164484490d05 = L.marker(\n",
       "                [-36.360439, 146.685852],\n",
       "                {}\n",
       "            ).addTo(map_d1cbc4d2c173ca027778d45be0dcd5c4);\n",
       "        \n",
       "    \n",
       "        var popup_896d0016cb27d4427a97c4fe21913d38 = L.popup({&quot;maxWidth&quot;: &quot;100%&quot;});\n",
       "\n",
       "        \n",
       "            \n",
       "                var html_626d5e863fcd34a73392f3468860ec3f = $(`&lt;div id=&quot;html_626d5e863fcd34a73392f3468860ec3f&quot; style=&quot;width: 100.0%; height: 100.0%;&quot;&gt;Beechworth: Bar Food (1 restaurants)&lt;/div&gt;`)[0];\n",
       "                popup_896d0016cb27d4427a97c4fe21913d38.setContent(html_626d5e863fcd34a73392f3468860ec3f);\n",
       "            \n",
       "        \n",
       "\n",
       "        marker_52de0bdd1c12f3e99475164484490d05.bindPopup(popup_896d0016cb27d4427a97c4fe21913d38)\n",
       "        ;\n",
       "\n",
       "        \n",
       "    \n",
       "    \n",
       "            var marker_5fa746e8e71f0cd21a7f17087a92b2fb = L.marker(\n",
       "                [16.2603727335, 54.191667947999996],\n",
       "                {}\n",
       "            ).addTo(map_d1cbc4d2c173ca027778d45be0dcd5c4);\n",
       "        \n",
       "    \n",
       "        var popup_c8123de11e0d0aeacf5b447b17ac6706 = L.popup({&quot;maxWidth&quot;: &quot;100%&quot;});\n",
       "\n",
       "        \n",
       "            \n",
       "                var html_34a6f9de53b63ed4d05502a9f97898f2 = $(`&lt;div id=&quot;html_34a6f9de53b63ed4d05502a9f97898f2&quot; style=&quot;width: 100.0%; height: 100.0%;&quot;&gt;Bhopal: Fast Food (8 restaurants)&lt;/div&gt;`)[0];\n",
       "                popup_c8123de11e0d0aeacf5b447b17ac6706.setContent(html_34a6f9de53b63ed4d05502a9f97898f2);\n",
       "            \n",
       "        \n",
       "\n",
       "        marker_5fa746e8e71f0cd21a7f17087a92b2fb.bindPopup(popup_c8123de11e0d0aeacf5b447b17ac6706)\n",
       "        ;\n",
       "\n",
       "        \n",
       "    \n",
       "    \n",
       "            var marker_4693d7fa2f0ea932bebe9c660da57594 = L.marker(\n",
       "                [16.453016752857145, 69.47785703666666],\n",
       "                {}\n",
       "            ).addTo(map_d1cbc4d2c173ca027778d45be0dcd5c4);\n",
       "        \n",
       "    \n",
       "        var popup_28c263058333230fa9b2f63ca5161b5c = L.popup({&quot;maxWidth&quot;: &quot;100%&quot;});\n",
       "\n",
       "        \n",
       "            \n",
       "                var html_ae0a6b6ed3fecaf9ea969b8066f95919 = $(`&lt;div id=&quot;html_ae0a6b6ed3fecaf9ea969b8066f95919&quot; style=&quot;width: 100.0%; height: 100.0%;&quot;&gt;Bhubaneshwar: Chinese (12 restaurants)&lt;/div&gt;`)[0];\n",
       "                popup_28c263058333230fa9b2f63ca5161b5c.setContent(html_ae0a6b6ed3fecaf9ea969b8066f95919);\n",
       "            \n",
       "        \n",
       "\n",
       "        marker_4693d7fa2f0ea932bebe9c660da57594.bindPopup(popup_28c263058333230fa9b2f63ca5161b5c)\n",
       "        ;\n",
       "\n",
       "        \n",
       "    \n",
       "    \n",
       "            var marker_2df27ba2e3fbe6dffe99ce7b4dd06798 = L.marker(\n",
       "                [52.47527640049999, -1.9016762060999999],\n",
       "                {}\n",
       "            ).addTo(map_d1cbc4d2c173ca027778d45be0dcd5c4);\n",
       "        \n",
       "    \n",
       "        var popup_40c143f140bdf40dacf8e637cc61e7e0 = L.popup({&quot;maxWidth&quot;: &quot;100%&quot;});\n",
       "\n",
       "        \n",
       "            \n",
       "                var html_9334bc52b8fd9c385ac68813f86434e6 = $(`&lt;div id=&quot;html_9334bc52b8fd9c385ac68813f86434e6&quot; style=&quot;width: 100.0%; height: 100.0%;&quot;&gt;Birmingham: British (4 restaurants)&lt;/div&gt;`)[0];\n",
       "                popup_40c143f140bdf40dacf8e637cc61e7e0.setContent(html_9334bc52b8fd9c385ac68813f86434e6);\n",
       "            \n",
       "        \n",
       "\n",
       "        marker_2df27ba2e3fbe6dffe99ce7b4dd06798.bindPopup(popup_40c143f140bdf40dacf8e637cc61e7e0)\n",
       "        ;\n",
       "\n",
       "        \n",
       "    \n",
       "    \n",
       "            var marker_eaac8b81339bcf8ff83e9254eae77dde = L.marker(\n",
       "                [-6.591747397, 106.80907565],\n",
       "                {}\n",
       "            ).addTo(map_d1cbc4d2c173ca027778d45be0dcd5c4);\n",
       "        \n",
       "    \n",
       "        var popup_be1269a1ff756fe2d3bd73b27c519f15 = L.popup({&quot;maxWidth&quot;: &quot;100%&quot;});\n",
       "\n",
       "        \n",
       "            \n",
       "                var html_aa5f6b0139ea9fb847b98edcd9b61f82 = $(`&lt;div id=&quot;html_aa5f6b0139ea9fb847b98edcd9b61f82&quot; style=&quot;width: 100.0%; height: 100.0%;&quot;&gt;Bogor: Beverages (1 restaurants)&lt;/div&gt;`)[0];\n",
       "                popup_be1269a1ff756fe2d3bd73b27c519f15.setContent(html_aa5f6b0139ea9fb847b98edcd9b61f82);\n",
       "            \n",
       "        \n",
       "\n",
       "        marker_eaac8b81339bcf8ff83e9254eae77dde.bindPopup(popup_be1269a1ff756fe2d3bd73b27c519f15)\n",
       "        ;\n",
       "\n",
       "        \n",
       "    \n",
       "    \n",
       "            var marker_4e85a4c9b1042f1d841aae6e1afc6d2b = L.marker(\n",
       "                [43.610375145000006, -116.2418823],\n",
       "                {}\n",
       "            ).addTo(map_d1cbc4d2c173ca027778d45be0dcd5c4);\n",
       "        \n",
       "    \n",
       "        var popup_de5b5304130599ded81d09fc0dd3e2fe = L.popup({&quot;maxWidth&quot;: &quot;100%&quot;});\n",
       "\n",
       "        \n",
       "            \n",
       "                var html_e79fc0debfef275601ada4059a335657 = $(`&lt;div id=&quot;html_e79fc0debfef275601ada4059a335657&quot; style=&quot;width: 100.0%; height: 100.0%;&quot;&gt;Boise: American (8 restaurants)&lt;/div&gt;`)[0];\n",
       "                popup_de5b5304130599ded81d09fc0dd3e2fe.setContent(html_e79fc0debfef275601ada4059a335657);\n",
       "            \n",
       "        \n",
       "\n",
       "        marker_4e85a4c9b1042f1d841aae6e1afc6d2b.bindPopup(popup_de5b5304130599ded81d09fc0dd3e2fe)\n",
       "        ;\n",
       "\n",
       "        \n",
       "    \n",
       "    \n",
       "            var marker_44e96d274293c95948343f0daca4f2d8 = L.marker(\n",
       "                [-15.8075752835, -47.91590827350001],\n",
       "                {}\n",
       "            ).addTo(map_d1cbc4d2c173ca027778d45be0dcd5c4);\n",
       "        \n",
       "    \n",
       "        var popup_072eb4421bf972f0978a094e006b8373 = L.popup({&quot;maxWidth&quot;: &quot;100%&quot;});\n",
       "\n",
       "        \n",
       "            \n",
       "                var html_f2e3de3d6a977ee17218bc2a15925172 = $(`&lt;div id=&quot;html_f2e3de3d6a977ee17218bc2a15925172&quot; style=&quot;width: 100.0%; height: 100.0%;&quot;&gt;Bras韄lia: Brazilian (3 restaurants)&lt;/div&gt;`)[0];\n",
       "                popup_072eb4421bf972f0978a094e006b8373.setContent(html_f2e3de3d6a977ee17218bc2a15925172);\n",
       "            \n",
       "        \n",
       "\n",
       "        marker_44e96d274293c95948343f0daca4f2d8.bindPopup(popup_072eb4421bf972f0978a094e006b8373)\n",
       "        ;\n",
       "\n",
       "        \n",
       "    \n",
       "    \n",
       "            var marker_939a853abe7063f5aabc6a20e916ca01 = L.marker(\n",
       "                [-33.927229892999996, 18.4251830925],\n",
       "                {}\n",
       "            ).addTo(map_d1cbc4d2c173ca027778d45be0dcd5c4);\n",
       "        \n",
       "    \n",
       "        var popup_044dcc028c5705f26c380d10170a4a8e = L.popup({&quot;maxWidth&quot;: &quot;100%&quot;});\n",
       "\n",
       "        \n",
       "            \n",
       "                var html_ce8991fc2cf2a8886590588055dfd94b = $(`&lt;div id=&quot;html_ce8991fc2cf2a8886590588055dfd94b&quot; style=&quot;width: 100.0%; height: 100.0%;&quot;&gt;Cape Town: Cafe (7 restaurants)&lt;/div&gt;`)[0];\n",
       "                popup_044dcc028c5705f26c380d10170a4a8e.setContent(html_ce8991fc2cf2a8886590588055dfd94b);\n",
       "            \n",
       "        \n",
       "\n",
       "        marker_939a853abe7063f5aabc6a20e916ca01.bindPopup(popup_044dcc028c5705f26c380d10170a4a8e)\n",
       "        ;\n",
       "\n",
       "        \n",
       "    \n",
       "    \n",
       "            var marker_8d637b8fd53c57383af6948b81aea766 = L.marker(\n",
       "                [41.820305785, -91.58551136],\n",
       "                {}\n",
       "            ).addTo(map_d1cbc4d2c173ca027778d45be0dcd5c4);\n",
       "        \n",
       "    \n",
       "        var popup_dd1ab409ae4130e8bbd87e016c8d05f2 = L.popup({&quot;maxWidth&quot;: &quot;100%&quot;});\n",
       "\n",
       "        \n",
       "            \n",
       "                var html_ea76dad9c612d3a868387aca7671847b = $(`&lt;div id=&quot;html_ea76dad9c612d3a868387aca7671847b&quot; style=&quot;width: 100.0%; height: 100.0%;&quot;&gt;Cedar Rapids/Iowa City: American (7 restaurants)&lt;/div&gt;`)[0];\n",
       "                popup_dd1ab409ae4130e8bbd87e016c8d05f2.setContent(html_ea76dad9c612d3a868387aca7671847b);\n",
       "            \n",
       "        \n",
       "\n",
       "        marker_8d637b8fd53c57383af6948b81aea766.bindPopup(popup_dd1ab409ae4130e8bbd87e016c8d05f2)\n",
       "        ;\n",
       "\n",
       "        \n",
       "    \n",
       "    \n",
       "            var marker_af28a4156e564d31973bfd97ae8386e4 = L.marker(\n",
       "                [30.72020503333333, 76.78993902222221],\n",
       "                {}\n",
       "            ).addTo(map_d1cbc4d2c173ca027778d45be0dcd5c4);\n",
       "        \n",
       "    \n",
       "        var popup_d3228853e40d68362fe4f5671c2e8820 = L.popup({&quot;maxWidth&quot;: &quot;100%&quot;});\n",
       "\n",
       "        \n",
       "            \n",
       "                var html_c4a7836efb22683b10af9d8a83d15af3 = $(`&lt;div id=&quot;html_c4a7836efb22683b10af9d8a83d15af3&quot; style=&quot;width: 100.0%; height: 100.0%;&quot;&gt;Chandigarh: North Indian (6 restaurants)&lt;/div&gt;`)[0];\n",
       "                popup_d3228853e40d68362fe4f5671c2e8820.setContent(html_c4a7836efb22683b10af9d8a83d15af3);\n",
       "            \n",
       "        \n",
       "\n",
       "        marker_af28a4156e564d31973bfd97ae8386e4.bindPopup(popup_d3228853e40d68362fe4f5671c2e8820)\n",
       "        ;\n",
       "\n",
       "        \n",
       "    \n",
       "    \n",
       "            var marker_2306a8e14eb261e2f949d99366d1e9dd = L.marker(\n",
       "                [42.397683, -82.188438],\n",
       "                {}\n",
       "            ).addTo(map_d1cbc4d2c173ca027778d45be0dcd5c4);\n",
       "        \n",
       "    \n",
       "        var popup_2a0a50496d2c07523173cd1b5964693c = L.popup({&quot;maxWidth&quot;: &quot;100%&quot;});\n",
       "\n",
       "        \n",
       "            \n",
       "                var html_151d9a53ab4d0cbd6e52738a1ba00e7d = $(`&lt;div id=&quot;html_151d9a53ab4d0cbd6e52738a1ba00e7d&quot; style=&quot;width: 100.0%; height: 100.0%;&quot;&gt;Chatham-Kent: Japanese (1 restaurants)&lt;/div&gt;`)[0];\n",
       "                popup_2a0a50496d2c07523173cd1b5964693c.setContent(html_151d9a53ab4d0cbd6e52738a1ba00e7d);\n",
       "            \n",
       "        \n",
       "\n",
       "        marker_2306a8e14eb261e2f949d99366d1e9dd.bindPopup(popup_2a0a50496d2c07523173cd1b5964693c)\n",
       "        ;\n",
       "\n",
       "        \n",
       "    \n",
       "    \n",
       "            var marker_f9b7ff46b34bb2d0dc20e6e9d99dee1d = L.marker(\n",
       "                [13.034892899499999, 80.23815012],\n",
       "                {}\n",
       "            ).addTo(map_d1cbc4d2c173ca027778d45be0dcd5c4);\n",
       "        \n",
       "    \n",
       "        var popup_5fd715f1e7bdd9bf4b6d8816bc7811ec = L.popup({&quot;maxWidth&quot;: &quot;100%&quot;});\n",
       "\n",
       "        \n",
       "            \n",
       "                var html_6d445d3da5c3f1f3dd0a661a72e1caef = $(`&lt;div id=&quot;html_6d445d3da5c3f1f3dd0a661a72e1caef&quot; style=&quot;width: 100.0%; height: 100.0%;&quot;&gt;Chennai: North Indian (11 restaurants)&lt;/div&gt;`)[0];\n",
       "                popup_5fd715f1e7bdd9bf4b6d8816bc7811ec.setContent(html_6d445d3da5c3f1f3dd0a661a72e1caef);\n",
       "            \n",
       "        \n",
       "\n",
       "        marker_f9b7ff46b34bb2d0dc20e6e9d99dee1d.bindPopup(popup_5fd715f1e7bdd9bf4b6d8816bc7811ec)\n",
       "        ;\n",
       "\n",
       "        \n",
       "    \n",
       "    \n",
       "            var marker_6276e8c9e834d56fc2aaae3d14552168 = L.marker(\n",
       "                [46.126967, -123.368151],\n",
       "                {}\n",
       "            ).addTo(map_d1cbc4d2c173ca027778d45be0dcd5c4);\n",
       "        \n",
       "    \n",
       "        var popup_c1e5643bf035bcba233bdc489903b3c1 = L.popup({&quot;maxWidth&quot;: &quot;100%&quot;});\n",
       "\n",
       "        \n",
       "            \n",
       "                var html_bcaed6542b31d659698739bcc18c66af = $(`&lt;div id=&quot;html_bcaed6542b31d659698739bcc18c66af&quot; style=&quot;width: 100.0%; height: 100.0%;&quot;&gt;Clatskanie: American (1 restaurants)&lt;/div&gt;`)[0];\n",
       "                popup_c1e5643bf035bcba233bdc489903b3c1.setContent(html_bcaed6542b31d659698739bcc18c66af);\n",
       "            \n",
       "        \n",
       "\n",
       "        marker_6276e8c9e834d56fc2aaae3d14552168.bindPopup(popup_c1e5643bf035bcba233bdc489903b3c1)\n",
       "        ;\n",
       "\n",
       "        \n",
       "    \n",
       "    \n",
       "            var marker_8ee91747d70f1a8bb7830aaf155e00ed = L.marker(\n",
       "                [51.183934, -114.472474],\n",
       "                {}\n",
       "            ).addTo(map_d1cbc4d2c173ca027778d45be0dcd5c4);\n",
       "        \n",
       "    \n",
       "        var popup_ba4f1b3ba9af0df154b33c78bbeb377e = L.popup({&quot;maxWidth&quot;: &quot;100%&quot;});\n",
       "\n",
       "        \n",
       "            \n",
       "                var html_93742ea0eb52453de71676bdfbd27d78 = $(`&lt;div id=&quot;html_93742ea0eb52453de71676bdfbd27d78&quot; style=&quot;width: 100.0%; height: 100.0%;&quot;&gt;Cochrane: Asian (1 restaurants)&lt;/div&gt;`)[0];\n",
       "                popup_ba4f1b3ba9af0df154b33c78bbeb377e.setContent(html_93742ea0eb52453de71676bdfbd27d78);\n",
       "            \n",
       "        \n",
       "\n",
       "        marker_8ee91747d70f1a8bb7830aaf155e00ed.bindPopup(popup_ba4f1b3ba9af0df154b33c78bbeb377e)\n",
       "        ;\n",
       "\n",
       "        \n",
       "    \n",
       "    \n",
       "            var marker_aca33ec2dbce50fd7637065d6ef816c7 = L.marker(\n",
       "                [11.009894047, 76.97817052050002],\n",
       "                {}\n",
       "            ).addTo(map_d1cbc4d2c173ca027778d45be0dcd5c4);\n",
       "        \n",
       "    \n",
       "        var popup_ef818ae27fdcf833ca197f7b994846d4 = L.popup({&quot;maxWidth&quot;: &quot;100%&quot;});\n",
       "\n",
       "        \n",
       "            \n",
       "                var html_54d0b88050221977cfe51dcc25eb1c90 = $(`&lt;div id=&quot;html_54d0b88050221977cfe51dcc25eb1c90&quot; style=&quot;width: 100.0%; height: 100.0%;&quot;&gt;Coimbatore: North Indian (10 restaurants)&lt;/div&gt;`)[0];\n",
       "                popup_ef818ae27fdcf833ca197f7b994846d4.setContent(html_54d0b88050221977cfe51dcc25eb1c90);\n",
       "            \n",
       "        \n",
       "\n",
       "        marker_aca33ec2dbce50fd7637065d6ef816c7.bindPopup(popup_ef818ae27fdcf833ca197f7b994846d4)\n",
       "        ;\n",
       "\n",
       "        \n",
       "    \n",
       "    \n",
       "            var marker_ff2afb832465ee0cbd09b123f5834c40 = L.marker(\n",
       "                [6.55914923435, 75.86794958150001],\n",
       "                {}\n",
       "            ).addTo(map_d1cbc4d2c173ca027778d45be0dcd5c4);\n",
       "        \n",
       "    \n",
       "        var popup_54ef2b46f7757bb405a03202515cb135 = L.popup({&quot;maxWidth&quot;: &quot;100%&quot;});\n",
       "\n",
       "        \n",
       "            \n",
       "                var html_79a26659e08cdc99f2240b0d3b83292c = $(`&lt;div id=&quot;html_79a26659e08cdc99f2240b0d3b83292c&quot; style=&quot;width: 100.0%; height: 100.0%;&quot;&gt;Colombo: American (6 restaurants)&lt;/div&gt;`)[0];\n",
       "                popup_54ef2b46f7757bb405a03202515cb135.setContent(html_79a26659e08cdc99f2240b0d3b83292c);\n",
       "            \n",
       "        \n",
       "\n",
       "        marker_ff2afb832465ee0cbd09b123f5834c40.bindPopup(popup_54ef2b46f7757bb405a03202515cb135)\n",
       "        ;\n",
       "\n",
       "        \n",
       "    \n",
       "    \n",
       "            var marker_d7d069a610c4ff801dddf6fc3b6ee22d = L.marker(\n",
       "                [32.51937822, -84.96644000499998],\n",
       "                {}\n",
       "            ).addTo(map_d1cbc4d2c173ca027778d45be0dcd5c4);\n",
       "        \n",
       "    \n",
       "        var popup_824d6551846431f4d6848dd4a1cb9037 = L.popup({&quot;maxWidth&quot;: &quot;100%&quot;});\n",
       "\n",
       "        \n",
       "            \n",
       "                var html_43feb95a59035f3b34362b145e853608 = $(`&lt;div id=&quot;html_43feb95a59035f3b34362b145e853608&quot; style=&quot;width: 100.0%; height: 100.0%;&quot;&gt;Columbus: American (5 restaurants)&lt;/div&gt;`)[0];\n",
       "                popup_824d6551846431f4d6848dd4a1cb9037.setContent(html_43feb95a59035f3b34362b145e853608);\n",
       "            \n",
       "        \n",
       "\n",
       "        marker_d7d069a610c4ff801dddf6fc3b6ee22d.bindPopup(popup_824d6551846431f4d6848dd4a1cb9037)\n",
       "        ;\n",
       "\n",
       "        \n",
       "    \n",
       "    \n",
       "            var marker_69352ae5f74c5232301ecb77cb98fb9d = L.marker(\n",
       "                [52.0082889, -110.7746994],\n",
       "                {}\n",
       "            ).addTo(map_d1cbc4d2c173ca027778d45be0dcd5c4);\n",
       "        \n",
       "    \n",
       "        var popup_67fea1852f0fea2fae4e79b937753f56 = L.popup({&quot;maxWidth&quot;: &quot;100%&quot;});\n",
       "\n",
       "        \n",
       "            \n",
       "                var html_bf666d530be8d3b1f08ee7bf1d67ebe8 = $(`&lt;div id=&quot;html_bf666d530be8d3b1f08ee7bf1d67ebe8&quot; style=&quot;width: 100.0%; height: 100.0%;&quot;&gt;Consort: Canadian (1 restaurants)&lt;/div&gt;`)[0];\n",
       "                popup_67fea1852f0fea2fae4e79b937753f56.setContent(html_bf666d530be8d3b1f08ee7bf1d67ebe8);\n",
       "            \n",
       "        \n",
       "\n",
       "        marker_69352ae5f74c5232301ecb77cb98fb9d.bindPopup(popup_67fea1852f0fea2fae4e79b937753f56)\n",
       "        ;\n",
       "\n",
       "        \n",
       "    \n",
       "    \n",
       "            var marker_932b628c3411e7e676f8d55d0bdba2c2 = L.marker(\n",
       "                [34.775855074999996, -85.056923845],\n",
       "                {}\n",
       "            ).addTo(map_d1cbc4d2c173ca027778d45be0dcd5c4);\n",
       "        \n",
       "    \n",
       "        var popup_d619fbc5a9c33f7034c50201667a2ae9 = L.popup({&quot;maxWidth&quot;: &quot;100%&quot;});\n",
       "\n",
       "        \n",
       "            \n",
       "                var html_bf8ba1ccf98dedf98a2c86df759972b1 = $(`&lt;div id=&quot;html_bf8ba1ccf98dedf98a2c86df759972b1&quot; style=&quot;width: 100.0%; height: 100.0%;&quot;&gt;Dalton: American (6 restaurants)&lt;/div&gt;`)[0];\n",
       "                popup_d619fbc5a9c33f7034c50201667a2ae9.setContent(html_bf8ba1ccf98dedf98a2c86df759972b1);\n",
       "            \n",
       "        \n",
       "\n",
       "        marker_932b628c3411e7e676f8d55d0bdba2c2.bindPopup(popup_d619fbc5a9c33f7034c50201667a2ae9)\n",
       "        ;\n",
       "\n",
       "        \n",
       "    \n",
       "    \n",
       "            var marker_de99114c844b60004aefd48aafb0dab4 = L.marker(\n",
       "                [41.561015592, -90.54306947100001],\n",
       "                {}\n",
       "            ).addTo(map_d1cbc4d2c173ca027778d45be0dcd5c4);\n",
       "        \n",
       "    \n",
       "        var popup_c0bf5eb77ad110ed2ba23099d722a203 = L.popup({&quot;maxWidth&quot;: &quot;100%&quot;});\n",
       "\n",
       "        \n",
       "            \n",
       "                var html_6665f657407d8e24e7789f68ddcd3005 = $(`&lt;div id=&quot;html_6665f657407d8e24e7789f68ddcd3005&quot; style=&quot;width: 100.0%; height: 100.0%;&quot;&gt;Davenport: American (8 restaurants)&lt;/div&gt;`)[0];\n",
       "                popup_c0bf5eb77ad110ed2ba23099d722a203.setContent(html_6665f657407d8e24e7789f68ddcd3005);\n",
       "            \n",
       "        \n",
       "\n",
       "        marker_de99114c844b60004aefd48aafb0dab4.bindPopup(popup_c0bf5eb77ad110ed2ba23099d722a203)\n",
       "        ;\n",
       "\n",
       "        \n",
       "    \n",
       "    \n",
       "            var marker_1fff998d57bca847ab8fc1ae23d6704e = L.marker(\n",
       "                [19.724805089500002, 50.738920994],\n",
       "                {}\n",
       "            ).addTo(map_d1cbc4d2c173ca027778d45be0dcd5c4);\n",
       "        \n",
       "    \n",
       "        var popup_6f1f39acd88803ea6ad3cdc071d23919 = L.popup({&quot;maxWidth&quot;: &quot;100%&quot;});\n",
       "\n",
       "        \n",
       "            \n",
       "                var html_e8169c9123f1c283b09a6bc70a0ad5dc = $(`&lt;div id=&quot;html_e8169c9123f1c283b09a6bc70a0ad5dc&quot; style=&quot;width: 100.0%; height: 100.0%;&quot;&gt;Dehradun: Chinese (11 restaurants)&lt;/div&gt;`)[0];\n",
       "                popup_6f1f39acd88803ea6ad3cdc071d23919.setContent(html_e8169c9123f1c283b09a6bc70a0ad5dc);\n",
       "            \n",
       "        \n",
       "\n",
       "        marker_1fff998d57bca847ab8fc1ae23d6704e.bindPopup(popup_6f1f39acd88803ea6ad3cdc071d23919)\n",
       "        ;\n",
       "\n",
       "        \n",
       "    \n",
       "    \n",
       "            var marker_705a3d835c6ce3d83db78fa57b821fe7 = L.marker(\n",
       "                [41.63989198, -93.662813285],\n",
       "                {}\n",
       "            ).addTo(map_d1cbc4d2c173ca027778d45be0dcd5c4);\n",
       "        \n",
       "    \n",
       "        var popup_0a5eb3b88953a9668cdbde6dd4c0b4f8 = L.popup({&quot;maxWidth&quot;: &quot;100%&quot;});\n",
       "\n",
       "        \n",
       "            \n",
       "                var html_58b2760d6d3c392d9bafdf770b0cc309 = $(`&lt;div id=&quot;html_58b2760d6d3c392d9bafdf770b0cc309&quot; style=&quot;width: 100.0%; height: 100.0%;&quot;&gt;Des Moines: American (5 restaurants)&lt;/div&gt;`)[0];\n",
       "                popup_0a5eb3b88953a9668cdbde6dd4c0b4f8.setContent(html_58b2760d6d3c392d9bafdf770b0cc309);\n",
       "            \n",
       "        \n",
       "\n",
       "        marker_705a3d835c6ce3d83db78fa57b821fe7.bindPopup(popup_0a5eb3b88953a9668cdbde6dd4c0b4f8)\n",
       "        ;\n",
       "\n",
       "        \n",
       "    \n",
       "    \n",
       "            var marker_cf02d02bb509a3664750722714e96b49 = L.marker(\n",
       "                [-26.783576, 153.137401],\n",
       "                {}\n",
       "            ).addTo(map_d1cbc4d2c173ca027778d45be0dcd5c4);\n",
       "        \n",
       "    \n",
       "        var popup_045a93ca87c37d967fa1daa82d85d5a0 = L.popup({&quot;maxWidth&quot;: &quot;100%&quot;});\n",
       "\n",
       "        \n",
       "            \n",
       "                var html_f511351bb5c8d0a1933a614ec34c3f9e = $(`&lt;div id=&quot;html_f511351bb5c8d0a1933a614ec34c3f9e&quot; style=&quot;width: 100.0%; height: 100.0%;&quot;&gt;Dicky Beach: Coffee and Tea (1 restaurants)&lt;/div&gt;`)[0];\n",
       "                popup_045a93ca87c37d967fa1daa82d85d5a0.setContent(html_f511351bb5c8d0a1933a614ec34c3f9e);\n",
       "            \n",
       "        \n",
       "\n",
       "        marker_cf02d02bb509a3664750722714e96b49.bindPopup(popup_045a93ca87c37d967fa1daa82d85d5a0)\n",
       "        ;\n",
       "\n",
       "        \n",
       "    \n",
       "    \n",
       "            var marker_3b6b01ba740df37ba761b5d23e159050 = L.marker(\n",
       "                [25.286204500500002, 51.512866177],\n",
       "                {}\n",
       "            ).addTo(map_d1cbc4d2c173ca027778d45be0dcd5c4);\n",
       "        \n",
       "    \n",
       "        var popup_6861e01008817e2c7ef79f9d7aeb6960 = L.popup({&quot;maxWidth&quot;: &quot;100%&quot;});\n",
       "\n",
       "        \n",
       "            \n",
       "                var html_c28c073843cf15dc6b4b67b083db504f = $(`&lt;div id=&quot;html_c28c073843cf15dc6b4b67b083db504f&quot; style=&quot;width: 100.0%; height: 100.0%;&quot;&gt;Doha: Indian (7 restaurants)&lt;/div&gt;`)[0];\n",
       "                popup_6861e01008817e2c7ef79f9d7aeb6960.setContent(html_c28c073843cf15dc6b4b67b083db504f);\n",
       "            \n",
       "        \n",
       "\n",
       "        marker_3b6b01ba740df37ba761b5d23e159050.bindPopup(popup_6861e01008817e2c7ef79f9d7aeb6960)\n",
       "        ;\n",
       "\n",
       "        \n",
       "    \n",
       "    \n",
       "            var marker_000fe0396da82f333164750b88a22ab1 = L.marker(\n",
       "                [25.198020583499996, 55.274324102],\n",
       "                {}\n",
       "            ).addTo(map_d1cbc4d2c173ca027778d45be0dcd5c4);\n",
       "        \n",
       "    \n",
       "        var popup_d8e71fede3212692f76dd6cc0f6105ce = L.popup({&quot;maxWidth&quot;: &quot;100%&quot;});\n",
       "\n",
       "        \n",
       "            \n",
       "                var html_6b3cd73d86c0a289cddda01264d07540 = $(`&lt;div id=&quot;html_6b3cd73d86c0a289cddda01264d07540&quot; style=&quot;width: 100.0%; height: 100.0%;&quot;&gt;Dubai: Indian (11 restaurants)&lt;/div&gt;`)[0];\n",
       "                popup_d8e71fede3212692f76dd6cc0f6105ce.setContent(html_6b3cd73d86c0a289cddda01264d07540);\n",
       "            \n",
       "        \n",
       "\n",
       "        marker_000fe0396da82f333164750b88a22ab1.bindPopup(popup_d8e71fede3212692f76dd6cc0f6105ce)\n",
       "        ;\n",
       "\n",
       "        \n",
       "    \n",
       "    \n",
       "            var marker_a133713ff956bf5aba88fa079cad3d4c = L.marker(\n",
       "                [42.50102428500001, -90.678075315],\n",
       "                {}\n",
       "            ).addTo(map_d1cbc4d2c173ca027778d45be0dcd5c4);\n",
       "        \n",
       "    \n",
       "        var popup_948fc610b0a1f2c46da51971bcbd4e9c = L.popup({&quot;maxWidth&quot;: &quot;100%&quot;});\n",
       "\n",
       "        \n",
       "            \n",
       "                var html_4134fbe5ee72fdf4ff997a5d70c4c2ba = $(`&lt;div id=&quot;html_4134fbe5ee72fdf4ff997a5d70c4c2ba&quot; style=&quot;width: 100.0%; height: 100.0%;&quot;&gt;Dubuque: American (9 restaurants)&lt;/div&gt;`)[0];\n",
       "                popup_948fc610b0a1f2c46da51971bcbd4e9c.setContent(html_4134fbe5ee72fdf4ff997a5d70c4c2ba);\n",
       "            \n",
       "        \n",
       "\n",
       "        marker_a133713ff956bf5aba88fa079cad3d4c.bindPopup(popup_948fc610b0a1f2c46da51971bcbd4e9c)\n",
       "        ;\n",
       "\n",
       "        \n",
       "    \n",
       "    \n",
       "            var marker_f52fe27950b12ff46f0e60cae46143ba = L.marker(\n",
       "                [-28.862663, 153.593331],\n",
       "                {}\n",
       "            ).addTo(map_d1cbc4d2c173ca027778d45be0dcd5c4);\n",
       "        \n",
       "    \n",
       "        var popup_fac72943f6f646f0c1de7790809bc61c = L.popup({&quot;maxWidth&quot;: &quot;100%&quot;});\n",
       "\n",
       "        \n",
       "            \n",
       "                var html_90f9d097e1a0ebe839d685ad105084e5 = $(`&lt;div id=&quot;html_90f9d097e1a0ebe839d685ad105084e5&quot; style=&quot;width: 100.0%; height: 100.0%;&quot;&gt;East Ballina: Cafe (1 restaurants)&lt;/div&gt;`)[0];\n",
       "                popup_fac72943f6f646f0c1de7790809bc61c.setContent(html_90f9d097e1a0ebe839d685ad105084e5);\n",
       "            \n",
       "        \n",
       "\n",
       "        marker_f52fe27950b12ff46f0e60cae46143ba.bindPopup(popup_fac72943f6f646f0c1de7790809bc61c)\n",
       "        ;\n",
       "\n",
       "        \n",
       "    \n",
       "    \n",
       "            var marker_c8946113b00d5d1f31f96f852211358a = L.marker(\n",
       "                [55.953480328, -3.1919999499499996],\n",
       "                {}\n",
       "            ).addTo(map_d1cbc4d2c173ca027778d45be0dcd5c4);\n",
       "        \n",
       "    \n",
       "        var popup_aec0a65bc27aed6fc257ced3b7eff13f = L.popup({&quot;maxWidth&quot;: &quot;100%&quot;});\n",
       "\n",
       "        \n",
       "            \n",
       "                var html_d9aef248dd8803402b669d7e37bfc90e = $(`&lt;div id=&quot;html_d9aef248dd8803402b669d7e37bfc90e&quot; style=&quot;width: 100.0%; height: 100.0%;&quot;&gt;Edinburgh: Cafe (6 restaurants)&lt;/div&gt;`)[0];\n",
       "                popup_aec0a65bc27aed6fc257ced3b7eff13f.setContent(html_d9aef248dd8803402b669d7e37bfc90e);\n",
       "            \n",
       "        \n",
       "\n",
       "        marker_c8946113b00d5d1f31f96f852211358a.bindPopup(popup_aec0a65bc27aed6fc257ced3b7eff13f)\n",
       "        ;\n",
       "\n",
       "        \n",
       "    \n",
       "    \n",
       "            var marker_b6ef0eb04283be47e8d1cd4103be25e1 = L.marker(\n",
       "                [25.941119397689242, 70.53537124298806],\n",
       "                {}\n",
       "            ).addTo(map_d1cbc4d2c173ca027778d45be0dcd5c4);\n",
       "        \n",
       "    \n",
       "        var popup_84d73fe11d9b723469bdc4a862301ec5 = L.popup({&quot;maxWidth&quot;: &quot;100%&quot;});\n",
       "\n",
       "        \n",
       "            \n",
       "                var html_93912835f48fa0aad76acffca58c8bf5 = $(`&lt;div id=&quot;html_93912835f48fa0aad76acffca58c8bf5&quot; style=&quot;width: 100.0%; height: 100.0%;&quot;&gt;Faridabad: North Indian (122 restaurants)&lt;/div&gt;`)[0];\n",
       "                popup_84d73fe11d9b723469bdc4a862301ec5.setContent(html_93912835f48fa0aad76acffca58c8bf5);\n",
       "            \n",
       "        \n",
       "\n",
       "        marker_b6ef0eb04283be47e8d1cd4103be25e1.bindPopup(popup_84d73fe11d9b723469bdc4a862301ec5)\n",
       "        ;\n",
       "\n",
       "        \n",
       "    \n",
       "    \n",
       "            var marker_2b5a625b6b54da0150a0e28a08907db5 = L.marker(\n",
       "                [39.607515, -119.252694],\n",
       "                {}\n",
       "            ).addTo(map_d1cbc4d2c173ca027778d45be0dcd5c4);\n",
       "        \n",
       "    \n",
       "        var popup_c62240d6d7bcd4b496d3b2ee6ba4bb63 = L.popup({&quot;maxWidth&quot;: &quot;100%&quot;});\n",
       "\n",
       "        \n",
       "            \n",
       "                var html_9bbe3e8748241865c702ebbd933c5856 = $(`&lt;div id=&quot;html_9bbe3e8748241865c702ebbd933c5856&quot; style=&quot;width: 100.0%; height: 100.0%;&quot;&gt;Fernley: Mexican (1 restaurants)&lt;/div&gt;`)[0];\n",
       "                popup_c62240d6d7bcd4b496d3b2ee6ba4bb63.setContent(html_9bbe3e8748241865c702ebbd933c5856);\n",
       "            \n",
       "        \n",
       "\n",
       "        marker_2b5a625b6b54da0150a0e28a08907db5.bindPopup(popup_c62240d6d7bcd4b496d3b2ee6ba4bb63)\n",
       "        ;\n",
       "\n",
       "        \n",
       "    \n",
       "    \n",
       "            var marker_8f8137587e5c63cd641f1813bbca76be = L.marker(\n",
       "                [-26.6521332, 152.8771473],\n",
       "                {}\n",
       "            ).addTo(map_d1cbc4d2c173ca027778d45be0dcd5c4);\n",
       "        \n",
       "    \n",
       "        var popup_0bbc9b09d929569b0bb06d6cb7eec4a3 = L.popup({&quot;maxWidth&quot;: &quot;100%&quot;});\n",
       "\n",
       "        \n",
       "            \n",
       "                var html_ac25d201b59935e3dc4f57aa3aa6c438 = $(`&lt;div id=&quot;html_ac25d201b59935e3dc4f57aa3aa6c438&quot; style=&quot;width: 100.0%; height: 100.0%;&quot;&gt;Flaxton: Modern Australian (1 restaurants)&lt;/div&gt;`)[0];\n",
       "                popup_0bbc9b09d929569b0bb06d6cb7eec4a3.setContent(html_ac25d201b59935e3dc4f57aa3aa6c438);\n",
       "            \n",
       "        \n",
       "\n",
       "        marker_8f8137587e5c63cd641f1813bbca76be.bindPopup(popup_0bbc9b09d929569b0bb06d6cb7eec4a3)\n",
       "        ;\n",
       "\n",
       "        \n",
       "    \n",
       "    \n",
       "            var marker_69f71b3644928cbd3ad3d86c975a55bd = L.marker(\n",
       "                [-38.517292, 143.714315],\n",
       "                {}\n",
       "            ).addTo(map_d1cbc4d2c173ca027778d45be0dcd5c4);\n",
       "        \n",
       "    \n",
       "        var popup_027e71e2a8ec215bfa62d9b1a123e40e = L.popup({&quot;maxWidth&quot;: &quot;100%&quot;});\n",
       "\n",
       "        \n",
       "            \n",
       "                var html_7bf9b7e0a803f5bfb48c99fd244d18ad = $(`&lt;div id=&quot;html_7bf9b7e0a803f5bfb48c99fd244d18ad&quot; style=&quot;width: 100.0%; height: 100.0%;&quot;&gt;Forrest: Australian (1 restaurants)&lt;/div&gt;`)[0];\n",
       "                popup_027e71e2a8ec215bfa62d9b1a123e40e.setContent(html_7bf9b7e0a803f5bfb48c99fd244d18ad);\n",
       "            \n",
       "        \n",
       "\n",
       "        marker_69f71b3644928cbd3ad3d86c975a55bd.bindPopup(popup_027e71e2a8ec215bfa62d9b1a123e40e)\n",
       "        ;\n",
       "\n",
       "        \n",
       "    \n",
       "    \n",
       "            var marker_a5008ba242c747bab15c62a0be484bf7 = L.marker(\n",
       "                [34.41690126315789, -83.84459610526318],\n",
       "                {}\n",
       "            ).addTo(map_d1cbc4d2c173ca027778d45be0dcd5c4);\n",
       "        \n",
       "    \n",
       "        var popup_8b7bbeb632d8f177d2728c28b0cdfa8c = L.popup({&quot;maxWidth&quot;: &quot;100%&quot;});\n",
       "\n",
       "        \n",
       "            \n",
       "                var html_e68ea73a674e3bed6ba0754e1bb1f3b6 = $(`&lt;div id=&quot;html_e68ea73a674e3bed6ba0754e1bb1f3b6&quot; style=&quot;width: 100.0%; height: 100.0%;&quot;&gt;Gainesville: Sandwich (6 restaurants)&lt;/div&gt;`)[0];\n",
       "                popup_8b7bbeb632d8f177d2728c28b0cdfa8c.setContent(html_e68ea73a674e3bed6ba0754e1bb1f3b6);\n",
       "            \n",
       "        \n",
       "\n",
       "        marker_a5008ba242c747bab15c62a0be484bf7.bindPopup(popup_8b7bbeb632d8f177d2728c28b0cdfa8c)\n",
       "        ;\n",
       "\n",
       "        \n",
       "    \n",
       "    \n",
       "            var marker_98c70b02cfd4c90363fbb5a62fd46cd5 = L.marker(\n",
       "                [28.6374747812, 77.36246978439999],\n",
       "                {}\n",
       "            ).addTo(map_d1cbc4d2c173ca027778d45be0dcd5c4);\n",
       "        \n",
       "    \n",
       "        var popup_c3b5556bf1bf6b44588dd191326d4a78 = L.popup({&quot;maxWidth&quot;: &quot;100%&quot;});\n",
       "\n",
       "        \n",
       "            \n",
       "                var html_5ef9870917867b47d4f20ac3067f969a = $(`&lt;div id=&quot;html_5ef9870917867b47d4f20ac3067f969a&quot; style=&quot;width: 100.0%; height: 100.0%;&quot;&gt;Ghaziabad: North Indian (10 restaurants)&lt;/div&gt;`)[0];\n",
       "                popup_c3b5556bf1bf6b44588dd191326d4a78.setContent(html_5ef9870917867b47d4f20ac3067f969a);\n",
       "            \n",
       "        \n",
       "\n",
       "        marker_98c70b02cfd4c90363fbb5a62fd46cd5.bindPopup(popup_c3b5556bf1bf6b44588dd191326d4a78)\n",
       "        ;\n",
       "\n",
       "        \n",
       "    \n",
       "    \n",
       "            var marker_2a5220f6d81d87ea033bcf3268478e1d = L.marker(\n",
       "                [13.178196682499998, 62.7225063],\n",
       "                {}\n",
       "            ).addTo(map_d1cbc4d2c173ca027778d45be0dcd5c4);\n",
       "        \n",
       "    \n",
       "        var popup_ccac68da842169100ba492409c029ac8 = L.popup({&quot;maxWidth&quot;: &quot;100%&quot;});\n",
       "\n",
       "        \n",
       "            \n",
       "                var html_ecb774759e1ceb765d2cff15d6c82700 = $(`&lt;div id=&quot;html_ecb774759e1ceb765d2cff15d6c82700&quot; style=&quot;width: 100.0%; height: 100.0%;&quot;&gt;Goa: Goan (11 restaurants)&lt;/div&gt;`)[0];\n",
       "                popup_ccac68da842169100ba492409c029ac8.setContent(html_ecb774759e1ceb765d2cff15d6c82700);\n",
       "            \n",
       "        \n",
       "\n",
       "        marker_2a5220f6d81d87ea033bcf3268478e1d.bindPopup(popup_ccac68da842169100ba492409c029ac8)\n",
       "        ;\n",
       "\n",
       "        \n",
       "    \n",
       "    \n",
       "            var marker_2f4e714424a7c3ebd908acc2ab03cfe3 = L.marker(\n",
       "                [27.24471790780859, 73.76257232096602],\n",
       "                {}\n",
       "            ).addTo(map_d1cbc4d2c173ca027778d45be0dcd5c4);\n",
       "        \n",
       "    \n",
       "        var popup_1948e485fcc52a63445a8156ee5f23bf = L.popup({&quot;maxWidth&quot;: &quot;100%&quot;});\n",
       "\n",
       "        \n",
       "            \n",
       "                var html_f84f4f2562ee46ca9127786b62ff6279 = $(`&lt;div id=&quot;html_f84f4f2562ee46ca9127786b62ff6279&quot; style=&quot;width: 100.0%; height: 100.0%;&quot;&gt;Gurgaon: North Indian (508 restaurants)&lt;/div&gt;`)[0];\n",
       "                popup_1948e485fcc52a63445a8156ee5f23bf.setContent(html_f84f4f2562ee46ca9127786b62ff6279);\n",
       "            \n",
       "        \n",
       "\n",
       "        marker_2f4e714424a7c3ebd908acc2ab03cfe3.bindPopup(popup_1948e485fcc52a63445a8156ee5f23bf)\n",
       "        ;\n",
       "\n",
       "        \n",
       "    \n",
       "    \n",
       "            var marker_ae373cef6bb0a70557dac006546a3610 = L.marker(\n",
       "                [18.69481348571429, 65.55042233190476],\n",
       "                {}\n",
       "            ).addTo(map_d1cbc4d2c173ca027778d45be0dcd5c4);\n",
       "        \n",
       "    \n",
       "        var popup_84beb9df926c18cbd34e2110f70ec743 = L.popup({&quot;maxWidth&quot;: &quot;100%&quot;});\n",
       "\n",
       "        \n",
       "            \n",
       "                var html_534d530b438185a1f5d0ceee5e4ee620 = $(`&lt;div id=&quot;html_534d530b438185a1f5d0ceee5e4ee620&quot; style=&quot;width: 100.0%; height: 100.0%;&quot;&gt;Guwahati: Chinese (11 restaurants)&lt;/div&gt;`)[0];\n",
       "                popup_84beb9df926c18cbd34e2110f70ec743.setContent(html_534d530b438185a1f5d0ceee5e4ee620);\n",
       "            \n",
       "        \n",
       "\n",
       "        marker_ae373cef6bb0a70557dac006546a3610.bindPopup(popup_84beb9df926c18cbd34e2110f70ec743)\n",
       "        ;\n",
       "\n",
       "        \n",
       "    \n",
       "    \n",
       "            var marker_82073a2e520552ad417d3414bb6b7e37 = L.marker(\n",
       "                [-37.293910350000004, 144.12438170000001],\n",
       "                {}\n",
       "            ).addTo(map_d1cbc4d2c173ca027778d45be0dcd5c4);\n",
       "        \n",
       "    \n",
       "        var popup_51ede3c5d5232c884fcb5f9d4c75f2db = L.popup({&quot;maxWidth&quot;: &quot;100%&quot;});\n",
       "\n",
       "        \n",
       "            \n",
       "                var html_4541194d35e92b96b999dca362878e3b = $(`&lt;div id=&quot;html_4541194d35e92b96b999dca362878e3b&quot; style=&quot;width: 100.0%; height: 100.0%;&quot;&gt;Hepburn Springs: Cafe (2 restaurants)&lt;/div&gt;`)[0];\n",
       "                popup_51ede3c5d5232c884fcb5f9d4c75f2db.setContent(html_4541194d35e92b96b999dca362878e3b);\n",
       "            \n",
       "        \n",
       "\n",
       "        marker_82073a2e520552ad417d3414bb6b7e37.bindPopup(popup_51ede3c5d5232c884fcb5f9d4c75f2db)\n",
       "        ;\n",
       "\n",
       "        \n",
       "    \n",
       "    \n",
       "            var marker_210848b8d9367d5274132d3832fd9407 = L.marker(\n",
       "                [-35.0388698, 150.6710743],\n",
       "                {}\n",
       "            ).addTo(map_d1cbc4d2c173ca027778d45be0dcd5c4);\n",
       "        \n",
       "    \n",
       "        var popup_2ac7df44644db315d839de28838c1f92 = L.popup({&quot;maxWidth&quot;: &quot;100%&quot;});\n",
       "\n",
       "        \n",
       "            \n",
       "                var html_c9ef45a2d8e1c7557ddddda0ba48f5c2 = $(`&lt;div id=&quot;html_c9ef45a2d8e1c7557ddddda0ba48f5c2&quot; style=&quot;width: 100.0%; height: 100.0%;&quot;&gt;Huskisson: Breakfast (1 restaurants)&lt;/div&gt;`)[0];\n",
       "                popup_2ac7df44644db315d839de28838c1f92.setContent(html_c9ef45a2d8e1c7557ddddda0ba48f5c2);\n",
       "            \n",
       "        \n",
       "\n",
       "        marker_210848b8d9367d5274132d3832fd9407.bindPopup(popup_2ac7df44644db315d839de28838c1f92)\n",
       "        ;\n",
       "\n",
       "        \n",
       "    \n",
       "    \n",
       "            var marker_a4b8cd60c3cd61885081932e494ef998 = L.marker(\n",
       "                [17.432760579444444, 78.39625728611112],\n",
       "                {}\n",
       "            ).addTo(map_d1cbc4d2c173ca027778d45be0dcd5c4);\n",
       "        \n",
       "    \n",
       "        var popup_8099f1bd60d98f305110d7d495ec7977 = L.popup({&quot;maxWidth&quot;: &quot;100%&quot;});\n",
       "\n",
       "        \n",
       "            \n",
       "                var html_adbd98387075dda8eb19ca66c8d6d86a = $(`&lt;div id=&quot;html_adbd98387075dda8eb19ca66c8d6d86a&quot; style=&quot;width: 100.0%; height: 100.0%;&quot;&gt;Hyderabad: North Indian (9 restaurants)&lt;/div&gt;`)[0];\n",
       "                popup_8099f1bd60d98f305110d7d495ec7977.setContent(html_adbd98387075dda8eb19ca66c8d6d86a);\n",
       "            \n",
       "        \n",
       "\n",
       "        marker_a4b8cd60c3cd61885081932e494ef998.bindPopup(popup_8099f1bd60d98f305110d7d495ec7977)\n",
       "        ;\n",
       "\n",
       "        \n",
       "    \n",
       "    \n",
       "            var marker_a2315b1d685f0622a962d0f53d69a430 = L.marker(\n",
       "                [22.736774547, 75.888196957],\n",
       "                {}\n",
       "            ).addTo(map_d1cbc4d2c173ca027778d45be0dcd5c4);\n",
       "        \n",
       "    \n",
       "        var popup_7da2ac3da42559d45c3b8c52f2110b01 = L.popup({&quot;maxWidth&quot;: &quot;100%&quot;});\n",
       "\n",
       "        \n",
       "            \n",
       "                var html_b2a33333a3d7c5ae17428f46617b41db = $(`&lt;div id=&quot;html_b2a33333a3d7c5ae17428f46617b41db&quot; style=&quot;width: 100.0%; height: 100.0%;&quot;&gt;Indore: North Indian (9 restaurants)&lt;/div&gt;`)[0];\n",
       "                popup_7da2ac3da42559d45c3b8c52f2110b01.setContent(html_b2a33333a3d7c5ae17428f46617b41db);\n",
       "            \n",
       "        \n",
       "\n",
       "        marker_a2315b1d685f0622a962d0f53d69a430.bindPopup(popup_7da2ac3da42559d45c3b8c52f2110b01)\n",
       "        ;\n",
       "\n",
       "        \n",
       "    \n",
       "    \n",
       "            var marker_7fb762e73a19704f9aba95451b69991b = L.marker(\n",
       "                [-26.2051845, 28.0460275],\n",
       "                {}\n",
       "            ).addTo(map_d1cbc4d2c173ca027778d45be0dcd5c4);\n",
       "        \n",
       "    \n",
       "        var popup_33754d435a0cfa2916b4c59a7ece29b6 = L.popup({&quot;maxWidth&quot;: &quot;100%&quot;});\n",
       "\n",
       "        \n",
       "            \n",
       "                var html_b28d6fb0a7a4e411da6affcd99cdd613 = $(`&lt;div id=&quot;html_b28d6fb0a7a4e411da6affcd99cdd613&quot; style=&quot;width: 100.0%; height: 100.0%;&quot;&gt;Inner City: Contemporary (1 restaurants)&lt;/div&gt;`)[0];\n",
       "                popup_33754d435a0cfa2916b4c59a7ece29b6.setContent(html_b28d6fb0a7a4e411da6affcd99cdd613);\n",
       "            \n",
       "        \n",
       "\n",
       "        marker_7fb762e73a19704f9aba95451b69991b.bindPopup(popup_33754d435a0cfa2916b4c59a7ece29b6)\n",
       "        ;\n",
       "\n",
       "        \n",
       "    \n",
       "    \n",
       "            var marker_dfd24a64d824914ec6a0ab99240ac1c0 = L.marker(\n",
       "                [-38.6347458, 145.7287133],\n",
       "                {}\n",
       "            ).addTo(map_d1cbc4d2c173ca027778d45be0dcd5c4);\n",
       "        \n",
       "    \n",
       "        var popup_2b19c75c9f167df37d2dd1b08f156eda = L.popup({&quot;maxWidth&quot;: &quot;100%&quot;});\n",
       "\n",
       "        \n",
       "            \n",
       "                var html_c9dfb132bab83cd34c30ac380269074c = $(`&lt;div id=&quot;html_c9dfb132bab83cd34c30ac380269074c&quot; style=&quot;width: 100.0%; height: 100.0%;&quot;&gt;Inverloch: Burger (1 restaurants)&lt;/div&gt;`)[0];\n",
       "                popup_2b19c75c9f167df37d2dd1b08f156eda.setContent(html_c9dfb132bab83cd34c30ac380269074c);\n",
       "            \n",
       "        \n",
       "\n",
       "        marker_dfd24a64d824914ec6a0ab99240ac1c0.bindPopup(popup_2b19c75c9f167df37d2dd1b08f156eda)\n",
       "        ;\n",
       "\n",
       "        \n",
       "    \n",
       "    \n",
       "            var marker_a09198610d5a7cc71ef5f2f4fa82831a = L.marker(\n",
       "                [26.895980518, 75.7944745645],\n",
       "                {}\n",
       "            ).addTo(map_d1cbc4d2c173ca027778d45be0dcd5c4);\n",
       "        \n",
       "    \n",
       "        var popup_73fc4958fe506019c4555e4a19c6d925 = L.popup({&quot;maxWidth&quot;: &quot;100%&quot;});\n",
       "\n",
       "        \n",
       "            \n",
       "                var html_598ae351cccd19cd24a9f624a59deb9b = $(`&lt;div id=&quot;html_598ae351cccd19cd24a9f624a59deb9b&quot; style=&quot;width: 100.0%; height: 100.0%;&quot;&gt;Jaipur: Continental (13 restaurants)&lt;/div&gt;`)[0];\n",
       "                popup_73fc4958fe506019c4555e4a19c6d925.setContent(html_598ae351cccd19cd24a9f624a59deb9b);\n",
       "            \n",
       "        \n",
       "\n",
       "        marker_a09198610d5a7cc71ef5f2f4fa82831a.bindPopup(popup_73fc4958fe506019c4555e4a19c6d925)\n",
       "        ;\n",
       "\n",
       "        \n",
       "    \n",
       "    \n",
       "            var marker_a690590203f16ec3a46151dbec1679e2 = L.marker(\n",
       "                [-5.813649541937499, 100.1433017375],\n",
       "                {}\n",
       "            ).addTo(map_d1cbc4d2c173ca027778d45be0dcd5c4);\n",
       "        \n",
       "    \n",
       "        var popup_fb6bfff5bf055b7c8b7c17511fa61330 = L.popup({&quot;maxWidth&quot;: &quot;100%&quot;});\n",
       "\n",
       "        \n",
       "            \n",
       "                var html_db548affdeeffa562f27f980234f895a = $(`&lt;div id=&quot;html_db548affdeeffa562f27f980234f895a&quot; style=&quot;width: 100.0%; height: 100.0%;&quot;&gt;Jakarta: Western (8 restaurants)&lt;/div&gt;`)[0];\n",
       "                popup_fb6bfff5bf055b7c8b7c17511fa61330.setContent(html_db548affdeeffa562f27f980234f895a);\n",
       "            \n",
       "        \n",
       "\n",
       "        marker_a690590203f16ec3a46151dbec1679e2.bindPopup(popup_fb6bfff5bf055b7c8b7c17511fa61330)\n",
       "        ;\n",
       "\n",
       "        \n",
       "    \n",
       "    \n",
       "            var marker_401d02293cc55b6f0045a1685459aca2 = L.marker(\n",
       "                [-26.14171512333333, 28.02086124],\n",
       "                {}\n",
       "            ).addTo(map_d1cbc4d2c173ca027778d45be0dcd5c4);\n",
       "        \n",
       "    \n",
       "        var popup_632e296feb30f66eeb6360122499a5bc = L.popup({&quot;maxWidth&quot;: &quot;100%&quot;});\n",
       "\n",
       "        \n",
       "            \n",
       "                var html_c5b2eace068b476941d036e11c92849b = $(`&lt;div id=&quot;html_c5b2eace068b476941d036e11c92849b&quot; style=&quot;width: 100.0%; height: 100.0%;&quot;&gt;Johannesburg: American (2 restaurants)&lt;/div&gt;`)[0];\n",
       "                popup_632e296feb30f66eeb6360122499a5bc.setContent(html_c5b2eace068b476941d036e11c92849b);\n",
       "            \n",
       "        \n",
       "\n",
       "        marker_401d02293cc55b6f0045a1685459aca2.bindPopup(popup_632e296feb30f66eeb6360122499a5bc)\n",
       "        ;\n",
       "\n",
       "        \n",
       "    \n",
       "    \n",
       "            var marker_f3376f7ea638826f3a08c3e54b79d3bf = L.marker(\n",
       "                [23.8296823145, 72.297590821],\n",
       "                {}\n",
       "            ).addTo(map_d1cbc4d2c173ca027778d45be0dcd5c4);\n",
       "        \n",
       "    \n",
       "        var popup_61a38da8129452707cd585eb887b3923 = L.popup({&quot;maxWidth&quot;: &quot;100%&quot;});\n",
       "\n",
       "        \n",
       "            \n",
       "                var html_c710365c1e5d974d3e9e1df6210b90a6 = $(`&lt;div id=&quot;html_c710365c1e5d974d3e9e1df6210b90a6&quot; style=&quot;width: 100.0%; height: 100.0%;&quot;&gt;Kanpur: North Indian (10 restaurants)&lt;/div&gt;`)[0];\n",
       "                popup_61a38da8129452707cd585eb887b3923.setContent(html_c710365c1e5d974d3e9e1df6210b90a6);\n",
       "            \n",
       "        \n",
       "\n",
       "        marker_f3376f7ea638826f3a08c3e54b79d3bf.bindPopup(popup_61a38da8129452707cd585eb887b3923)\n",
       "        ;\n",
       "\n",
       "        \n",
       "    \n",
       "    \n",
       "            var marker_94001fc65e0aaf5caa08b7388b8f1f5d = L.marker(\n",
       "                [9.992868139199999, 76.30118890399999],\n",
       "                {}\n",
       "            ).addTo(map_d1cbc4d2c173ca027778d45be0dcd5c4);\n",
       "        \n",
       "    \n",
       "        var popup_0200aa10ed5f5c2602702189142d7f0d = L.popup({&quot;maxWidth&quot;: &quot;100%&quot;});\n",
       "\n",
       "        \n",
       "            \n",
       "                var html_9c854b7371e29b8ba6f71ecb3a6a95a5 = $(`&lt;div id=&quot;html_9c854b7371e29b8ba6f71ecb3a6a95a5&quot; style=&quot;width: 100.0%; height: 100.0%;&quot;&gt;Kochi: Cafe (7 restaurants)&lt;/div&gt;`)[0];\n",
       "                popup_0200aa10ed5f5c2602702189142d7f0d.setContent(html_9c854b7371e29b8ba6f71ecb3a6a95a5);\n",
       "            \n",
       "        \n",
       "\n",
       "        marker_94001fc65e0aaf5caa08b7388b8f1f5d.bindPopup(popup_0200aa10ed5f5c2602702189142d7f0d)\n",
       "        ;\n",
       "\n",
       "        \n",
       "    \n",
       "    \n",
       "            var marker_600469e9619b9c4ecd19e7c9c4a76f0e = L.marker(\n",
       "                [22.541205974, 88.3724881635],\n",
       "                {}\n",
       "            ).addTo(map_d1cbc4d2c173ca027778d45be0dcd5c4);\n",
       "        \n",
       "    \n",
       "        var popup_bffd13c36784afa85c99f382f0ce3239 = L.popup({&quot;maxWidth&quot;: &quot;100%&quot;});\n",
       "\n",
       "        \n",
       "            \n",
       "                var html_1874649b9959b253a2d75c0221138feb = $(`&lt;div id=&quot;html_1874649b9959b253a2d75c0221138feb&quot; style=&quot;width: 100.0%; height: 100.0%;&quot;&gt;Kolkata: North Indian (12 restaurants)&lt;/div&gt;`)[0];\n",
       "                popup_bffd13c36784afa85c99f382f0ce3239.setContent(html_1874649b9959b253a2d75c0221138feb);\n",
       "            \n",
       "        \n",
       "\n",
       "        marker_600469e9619b9c4ecd19e7c9c4a76f0e.bindPopup(popup_bffd13c36784afa85c99f382f0ce3239)\n",
       "        ;\n",
       "\n",
       "        \n",
       "    \n",
       "    \n",
       "            var marker_4becf1893d3da1e621ed8e4729d222d7 = L.marker(\n",
       "                [-37.8783865, 147.9942247],\n",
       "                {}\n",
       "            ).addTo(map_d1cbc4d2c173ca027778d45be0dcd5c4);\n",
       "        \n",
       "    \n",
       "        var popup_364b29003003b4d1fb0c4f39d7e8bf6e = L.popup({&quot;maxWidth&quot;: &quot;100%&quot;});\n",
       "\n",
       "        \n",
       "            \n",
       "                var html_e76dc6de1bd679c05bd28d26525e95bd = $(`&lt;div id=&quot;html_e76dc6de1bd679c05bd28d26525e95bd&quot; style=&quot;width: 100.0%; height: 100.0%;&quot;&gt;Lakes Entrance: Breakfast (1 restaurants)&lt;/div&gt;`)[0];\n",
       "                popup_364b29003003b4d1fb0c4f39d7e8bf6e.setContent(html_e76dc6de1bd679c05bd28d26525e95bd);\n",
       "            \n",
       "        \n",
       "\n",
       "        marker_4becf1893d3da1e621ed8e4729d222d7.bindPopup(popup_364b29003003b4d1fb0c4f39d7e8bf6e)\n",
       "        ;\n",
       "\n",
       "        \n",
       "    \n",
       "    \n",
       "            var marker_ca5e7e372fc2b73800b656b9dcdd8e2e = L.marker(\n",
       "                [42.1885, -120.3458],\n",
       "                {}\n",
       "            ).addTo(map_d1cbc4d2c173ca027778d45be0dcd5c4);\n",
       "        \n",
       "    \n",
       "        var popup_a7c9a92935e043edfd5f4608ec750472 = L.popup({&quot;maxWidth&quot;: &quot;100%&quot;});\n",
       "\n",
       "        \n",
       "            \n",
       "                var html_fe853783130e3575a361982b7894bc04 = $(`&lt;div id=&quot;html_fe853783130e3575a361982b7894bc04&quot; style=&quot;width: 100.0%; height: 100.0%;&quot;&gt;Lakeview: Burger (1 restaurants)&lt;/div&gt;`)[0];\n",
       "                popup_a7c9a92935e043edfd5f4608ec750472.setContent(html_fe853783130e3575a361982b7894bc04);\n",
       "            \n",
       "        \n",
       "\n",
       "        marker_ca5e7e372fc2b73800b656b9dcdd8e2e.bindPopup(popup_a7c9a92935e043edfd5f4608ec750472)\n",
       "        ;\n",
       "\n",
       "        \n",
       "    \n",
       "    \n",
       "            var marker_eae18826676c7e0c0a8f414012a85518 = L.marker(\n",
       "                [40.8143, -96.7072],\n",
       "                {}\n",
       "            ).addTo(map_d1cbc4d2c173ca027778d45be0dcd5c4);\n",
       "        \n",
       "    \n",
       "        var popup_b649802083fa0ae02245b99bbbf34e93 = L.popup({&quot;maxWidth&quot;: &quot;100%&quot;});\n",
       "\n",
       "        \n",
       "            \n",
       "                var html_c01946e386454a67a436aa48d251fdc0 = $(`&lt;div id=&quot;html_c01946e386454a67a436aa48d251fdc0&quot; style=&quot;width: 100.0%; height: 100.0%;&quot;&gt;Lincoln: Thai (1 restaurants)&lt;/div&gt;`)[0];\n",
       "                popup_b649802083fa0ae02245b99bbbf34e93.setContent(html_c01946e386454a67a436aa48d251fdc0);\n",
       "            \n",
       "        \n",
       "\n",
       "        marker_eae18826676c7e0c0a8f414012a85518.bindPopup(popup_b649802083fa0ae02245b99bbbf34e93)\n",
       "        ;\n",
       "\n",
       "        \n",
       "    \n",
       "    \n",
       "            var marker_3fe26cacfad85ea2c343cbe15ef14f38 = L.marker(\n",
       "                [51.512015611, -0.13108822225],\n",
       "                {}\n",
       "            ).addTo(map_d1cbc4d2c173ca027778d45be0dcd5c4);\n",
       "        \n",
       "    \n",
       "        var popup_cabbea6fbf1d7ea8eb346b7aaeaaee1e = L.popup({&quot;maxWidth&quot;: &quot;100%&quot;});\n",
       "\n",
       "        \n",
       "            \n",
       "                var html_194f51be6b9142507ed935acb1def829 = $(`&lt;div id=&quot;html_194f51be6b9142507ed935acb1def829&quot; style=&quot;width: 100.0%; height: 100.0%;&quot;&gt;London: Indian (5 restaurants)&lt;/div&gt;`)[0];\n",
       "                popup_cabbea6fbf1d7ea8eb346b7aaeaaee1e.setContent(html_194f51be6b9142507ed935acb1def829);\n",
       "            \n",
       "        \n",
       "\n",
       "        marker_3fe26cacfad85ea2c343cbe15ef14f38.bindPopup(popup_cabbea6fbf1d7ea8eb346b7aaeaaee1e)\n",
       "        ;\n",
       "\n",
       "        \n",
       "    \n",
       "    \n",
       "            var marker_4a7149e28232139b5e5dae5b6530b284 = L.marker(\n",
       "                [-32.728097, 151.558475],\n",
       "                {}\n",
       "            ).addTo(map_d1cbc4d2c173ca027778d45be0dcd5c4);\n",
       "        \n",
       "    \n",
       "        var popup_cfb517592c3198520b1957876e297f87 = L.popup({&quot;maxWidth&quot;: &quot;100%&quot;});\n",
       "\n",
       "        \n",
       "            \n",
       "                var html_5447cd231788eb3a33bf233e1ebc24e7 = $(`&lt;div id=&quot;html_5447cd231788eb3a33bf233e1ebc24e7&quot; style=&quot;width: 100.0%; height: 100.0%;&quot;&gt;Lorn: Breakfast (1 restaurants)&lt;/div&gt;`)[0];\n",
       "                popup_cfb517592c3198520b1957876e297f87.setContent(html_5447cd231788eb3a33bf233e1ebc24e7);\n",
       "            \n",
       "        \n",
       "\n",
       "        marker_4a7149e28232139b5e5dae5b6530b284.bindPopup(popup_cfb517592c3198520b1957876e297f87)\n",
       "        ;\n",
       "\n",
       "        \n",
       "    \n",
       "    \n",
       "            var marker_046ca6a4ffa867f83da92b1202bf67db = L.marker(\n",
       "                [21.73813946047619, 65.55336541047619],\n",
       "                {}\n",
       "            ).addTo(map_d1cbc4d2c173ca027778d45be0dcd5c4);\n",
       "        \n",
       "    \n",
       "        var popup_7d3ea22a0f59830e042498794548f4a1 = L.popup({&quot;maxWidth&quot;: &quot;100%&quot;});\n",
       "\n",
       "        \n",
       "            \n",
       "                var html_6cb64f31613c4e504b4ed60ac44ed303 = $(`&lt;div id=&quot;html_6cb64f31613c4e504b4ed60ac44ed303&quot; style=&quot;width: 100.0%; height: 100.0%;&quot;&gt;Lucknow: Cafe (8 restaurants)&lt;/div&gt;`)[0];\n",
       "                popup_7d3ea22a0f59830e042498794548f4a1.setContent(html_6cb64f31613c4e504b4ed60ac44ed303);\n",
       "            \n",
       "        \n",
       "\n",
       "        marker_046ca6a4ffa867f83da92b1202bf67db.bindPopup(popup_7d3ea22a0f59830e042498794548f4a1)\n",
       "        ;\n",
       "\n",
       "        \n",
       "    \n",
       "    \n",
       "            var marker_536b4235f617ca629f90363c57b13828 = L.marker(\n",
       "                [27.804749478500003, 68.23790636750002],\n",
       "                {}\n",
       "            ).addTo(map_d1cbc4d2c173ca027778d45be0dcd5c4);\n",
       "        \n",
       "    \n",
       "        var popup_e91c70d299cfa07220085c44e133e264 = L.popup({&quot;maxWidth&quot;: &quot;100%&quot;});\n",
       "\n",
       "        \n",
       "            \n",
       "                var html_b162ef7be7983a18c09afc2b341227ce = $(`&lt;div id=&quot;html_b162ef7be7983a18c09afc2b341227ce&quot; style=&quot;width: 100.0%; height: 100.0%;&quot;&gt;Ludhiana: North Indian (11 restaurants)&lt;/div&gt;`)[0];\n",
       "                popup_e91c70d299cfa07220085c44e133e264.setContent(html_b162ef7be7983a18c09afc2b341227ce);\n",
       "            \n",
       "        \n",
       "\n",
       "        marker_536b4235f617ca629f90363c57b13828.bindPopup(popup_e91c70d299cfa07220085c44e133e264)\n",
       "        ;\n",
       "\n",
       "        \n",
       "    \n",
       "    \n",
       "            var marker_df038310f2a89250be6b1b38bcd76eb8 = L.marker(\n",
       "                [-37.423189, 144.564174],\n",
       "                {}\n",
       "            ).addTo(map_d1cbc4d2c173ca027778d45be0dcd5c4);\n",
       "        \n",
       "    \n",
       "        var popup_4be334bb3c92396007e5b598a7ac7d5c = L.popup({&quot;maxWidth&quot;: &quot;100%&quot;});\n",
       "\n",
       "        \n",
       "            \n",
       "                var html_4d7dbbf89cf95a107554526d7c099c95 = $(`&lt;div id=&quot;html_4d7dbbf89cf95a107554526d7c099c95&quot; style=&quot;width: 100.0%; height: 100.0%;&quot;&gt;Macedon: Cafe (1 restaurants)&lt;/div&gt;`)[0];\n",
       "                popup_4be334bb3c92396007e5b598a7ac7d5c.setContent(html_4d7dbbf89cf95a107554526d7c099c95);\n",
       "            \n",
       "        \n",
       "\n",
       "        marker_df038310f2a89250be6b1b38bcd76eb8.bindPopup(popup_4be334bb3c92396007e5b598a7ac7d5c)\n",
       "        ;\n",
       "\n",
       "        \n",
       "    \n",
       "    \n",
       "            var marker_6059e4066cc9769849dd6e483cb740a2 = L.marker(\n",
       "                [32.72506536315789, -83.66260105263159],\n",
       "                {}\n",
       "            ).addTo(map_d1cbc4d2c173ca027778d45be0dcd5c4);\n",
       "        \n",
       "    \n",
       "        var popup_5264d0b20e8ee502a77c0f30ba8111e0 = L.popup({&quot;maxWidth&quot;: &quot;100%&quot;});\n",
       "\n",
       "        \n",
       "            \n",
       "                var html_d891c43adf443e0019076bc1e49cfc88 = $(`&lt;div id=&quot;html_d891c43adf443e0019076bc1e49cfc88&quot; style=&quot;width: 100.0%; height: 100.0%;&quot;&gt;Macon: Sushi (4 restaurants)&lt;/div&gt;`)[0];\n",
       "                popup_5264d0b20e8ee502a77c0f30ba8111e0.setContent(html_d891c43adf443e0019076bc1e49cfc88);\n",
       "            \n",
       "        \n",
       "\n",
       "        marker_6059e4066cc9769849dd6e483cb740a2.bindPopup(popup_5264d0b20e8ee502a77c0f30ba8111e0)\n",
       "        ;\n",
       "\n",
       "        \n",
       "    \n",
       "    \n",
       "            var marker_b5e8c1007a7d2e3b141493547ca2e370 = L.marker(\n",
       "                [14.559575500000001, 121.02081799999999],\n",
       "                {}\n",
       "            ).addTo(map_d1cbc4d2c173ca027778d45be0dcd5c4);\n",
       "        \n",
       "    \n",
       "        var popup_9710f6d7abfa76df64e148ccd36d6e97 = L.popup({&quot;maxWidth&quot;: &quot;100%&quot;});\n",
       "\n",
       "        \n",
       "            \n",
       "                var html_2a91363766e9ca3fba34f9a5454a3407 = $(`&lt;div id=&quot;html_2a91363766e9ca3fba34f9a5454a3407&quot; style=&quot;width: 100.0%; height: 100.0%;&quot;&gt;Makati City: Japanese (2 restaurants)&lt;/div&gt;`)[0];\n",
       "                popup_9710f6d7abfa76df64e148ccd36d6e97.setContent(html_2a91363766e9ca3fba34f9a5454a3407);\n",
       "            \n",
       "        \n",
       "\n",
       "        marker_b5e8c1007a7d2e3b141493547ca2e370.bindPopup(popup_9710f6d7abfa76df64e148ccd36d6e97)\n",
       "        ;\n",
       "\n",
       "        \n",
       "    \n",
       "    \n",
       "            var marker_16521762279eedee9b8cfc6bb033560f = L.marker(\n",
       "                [53.4782088995, -2.23903381655],\n",
       "                {}\n",
       "            ).addTo(map_d1cbc4d2c173ca027778d45be0dcd5c4);\n",
       "        \n",
       "    \n",
       "        var popup_bb808bc8e4e145d8a6cf4687aae40e58 = L.popup({&quot;maxWidth&quot;: &quot;100%&quot;});\n",
       "\n",
       "        \n",
       "            \n",
       "                var html_03d17337a573c52d6de11efe793045e5 = $(`&lt;div id=&quot;html_03d17337a573c52d6de11efe793045e5&quot; style=&quot;width: 100.0%; height: 100.0%;&quot;&gt;Manchester: American (5 restaurants)&lt;/div&gt;`)[0];\n",
       "                popup_bb808bc8e4e145d8a6cf4687aae40e58.setContent(html_03d17337a573c52d6de11efe793045e5);\n",
       "            \n",
       "        \n",
       "\n",
       "        marker_16521762279eedee9b8cfc6bb033560f.bindPopup(popup_bb808bc8e4e145d8a6cf4687aae40e58)\n",
       "        ;\n",
       "\n",
       "        \n",
       "    \n",
       "    \n",
       "            var marker_e89fc9a36f2a6620b765aa8004c322aa = L.marker(\n",
       "                [14.583734, 121.056782],\n",
       "                {}\n",
       "            ).addTo(map_d1cbc4d2c173ca027778d45be0dcd5c4);\n",
       "        \n",
       "    \n",
       "        var popup_1084971b390e1b1dd07cec394b70914a = L.popup({&quot;maxWidth&quot;: &quot;100%&quot;});\n",
       "\n",
       "        \n",
       "            \n",
       "                var html_2306d088c4d7bbe8de6fb734b7a38f73 = $(`&lt;div id=&quot;html_2306d088c4d7bbe8de6fb734b7a38f73&quot; style=&quot;width: 100.0%; height: 100.0%;&quot;&gt;Mandaluyong City: Japanese (2 restaurants)&lt;/div&gt;`)[0];\n",
       "                popup_1084971b390e1b1dd07cec394b70914a.setContent(html_2306d088c4d7bbe8de6fb734b7a38f73);\n",
       "            \n",
       "        \n",
       "\n",
       "        marker_e89fc9a36f2a6620b765aa8004c322aa.bindPopup(popup_1084971b390e1b1dd07cec394b70914a)\n",
       "        ;\n",
       "\n",
       "        \n",
       "    \n",
       "    \n",
       "            var marker_b41b5b29b7714a9406dff1ad78cfebb3 = L.marker(\n",
       "                [7.081714164499999, 41.167689388499994],\n",
       "                {}\n",
       "            ).addTo(map_d1cbc4d2c173ca027778d45be0dcd5c4);\n",
       "        \n",
       "    \n",
       "        var popup_683560dd5c888ea8ca1d1b85b2dbb7e4 = L.popup({&quot;maxWidth&quot;: &quot;100%&quot;});\n",
       "\n",
       "        \n",
       "            \n",
       "                var html_0ccf2271e84b5ecbbd21c05ad6f9467b = $(`&lt;div id=&quot;html_0ccf2271e84b5ecbbd21c05ad6f9467b&quot; style=&quot;width: 100.0%; height: 100.0%;&quot;&gt;Mangalore: North Indian (9 restaurants)&lt;/div&gt;`)[0];\n",
       "                popup_683560dd5c888ea8ca1d1b85b2dbb7e4.setContent(html_0ccf2271e84b5ecbbd21c05ad6f9467b);\n",
       "            \n",
       "        \n",
       "\n",
       "        marker_b41b5b29b7714a9406dff1ad78cfebb3.bindPopup(popup_683560dd5c888ea8ca1d1b85b2dbb7e4)\n",
       "        ;\n",
       "\n",
       "        \n",
       "    \n",
       "    \n",
       "            var marker_1836ffbd21e95cd09b550c66a8f3023a = L.marker(\n",
       "                [-32.899178, 151.7343832],\n",
       "                {}\n",
       "            ).addTo(map_d1cbc4d2c173ca027778d45be0dcd5c4);\n",
       "        \n",
       "    \n",
       "        var popup_1ff78287959e1dada48f75b85942bedc = L.popup({&quot;maxWidth&quot;: &quot;100%&quot;});\n",
       "\n",
       "        \n",
       "            \n",
       "                var html_c9163946d760636e0c92c0c8e5bc3b8b = $(`&lt;div id=&quot;html_c9163946d760636e0c92c0c8e5bc3b8b&quot; style=&quot;width: 100.0%; height: 100.0%;&quot;&gt;Mayfield: Asian (1 restaurants)&lt;/div&gt;`)[0];\n",
       "                popup_1ff78287959e1dada48f75b85942bedc.setContent(html_c9163946d760636e0c92c0c8e5bc3b8b);\n",
       "            \n",
       "        \n",
       "\n",
       "        marker_1836ffbd21e95cd09b550c66a8f3023a.bindPopup(popup_1ff78287959e1dada48f75b85942bedc)\n",
       "        ;\n",
       "\n",
       "        \n",
       "    \n",
       "    \n",
       "            var marker_d9204fa43c99bbc7b8f0de12e499881e = L.marker(\n",
       "                [46.3718, -85.7363],\n",
       "                {}\n",
       "            ).addTo(map_d1cbc4d2c173ca027778d45be0dcd5c4);\n",
       "        \n",
       "    \n",
       "        var popup_e95fce34e1de853a69cc53b5c7ef0d84 = L.popup({&quot;maxWidth&quot;: &quot;100%&quot;});\n",
       "\n",
       "        \n",
       "            \n",
       "                var html_749a023b7662db2b74e9ef22ecd0cde5 = $(`&lt;div id=&quot;html_749a023b7662db2b74e9ef22ecd0cde5&quot; style=&quot;width: 100.0%; height: 100.0%;&quot;&gt;Mc Millan: Breakfast (1 restaurants)&lt;/div&gt;`)[0];\n",
       "                popup_e95fce34e1de853a69cc53b5c7ef0d84.setContent(html_749a023b7662db2b74e9ef22ecd0cde5);\n",
       "            \n",
       "        \n",
       "\n",
       "        marker_d9204fa43c99bbc7b8f0de12e499881e.bindPopup(popup_e95fce34e1de853a69cc53b5c7ef0d84)\n",
       "        ;\n",
       "\n",
       "        \n",
       "    \n",
       "    \n",
       "            var marker_3bb0d7575d8d1b1598916025fd096c5c = L.marker(\n",
       "                [-35.025861, 117.917166],\n",
       "                {}\n",
       "            ).addTo(map_d1cbc4d2c173ca027778d45be0dcd5c4);\n",
       "        \n",
       "    \n",
       "        var popup_18082b778b102e00a6d8d4ba176c5373 = L.popup({&quot;maxWidth&quot;: &quot;100%&quot;});\n",
       "\n",
       "        \n",
       "            \n",
       "                var html_29bea634afe410fb35ce2ff83e36b71f = $(`&lt;div id=&quot;html_29bea634afe410fb35ce2ff83e36b71f&quot; style=&quot;width: 100.0%; height: 100.0%;&quot;&gt;Middleton Beach: Bar Food (1 restaurants)&lt;/div&gt;`)[0];\n",
       "                popup_18082b778b102e00a6d8d4ba176c5373.setContent(html_29bea634afe410fb35ce2ff83e36b71f);\n",
       "            \n",
       "        \n",
       "\n",
       "        marker_3bb0d7575d8d1b1598916025fd096c5c.bindPopup(popup_18082b778b102e00a6d8d4ba176c5373)\n",
       "        ;\n",
       "\n",
       "        \n",
       "    \n",
       "    \n",
       "            var marker_1f17a777c5e79bbc4f49794dd49e2f44 = L.marker(\n",
       "                [30.6955506, 76.7187888],\n",
       "                {}\n",
       "            ).addTo(map_d1cbc4d2c173ca027778d45be0dcd5c4);\n",
       "        \n",
       "    \n",
       "        var popup_069b6ffe259eab3529866171604c48e7 = L.popup({&quot;maxWidth&quot;: &quot;100%&quot;});\n",
       "\n",
       "        \n",
       "            \n",
       "                var html_b5e0bd0a275cd64c8414c2134da482e2 = $(`&lt;div id=&quot;html_b5e0bd0a275cd64c8414c2134da482e2&quot; style=&quot;width: 100.0%; height: 100.0%;&quot;&gt;Mohali: Continental (1 restaurants)&lt;/div&gt;`)[0];\n",
       "                popup_069b6ffe259eab3529866171604c48e7.setContent(html_b5e0bd0a275cd64c8414c2134da482e2);\n",
       "            \n",
       "        \n",
       "\n",
       "        marker_1f17a777c5e79bbc4f49794dd49e2f44.bindPopup(popup_069b6ffe259eab3529866171604c48e7)\n",
       "        ;\n",
       "\n",
       "        \n",
       "    \n",
       "    \n",
       "            var marker_643a0c6d7f4417bdcc1646f8d9420ff7 = L.marker(\n",
       "                [42.606306, -89.653487],\n",
       "                {}\n",
       "            ).addTo(map_d1cbc4d2c173ca027778d45be0dcd5c4);\n",
       "        \n",
       "    \n",
       "        var popup_9922f1139bf51dfdd42c28459c83fbc0 = L.popup({&quot;maxWidth&quot;: &quot;100%&quot;});\n",
       "\n",
       "        \n",
       "            \n",
       "                var html_e56ef0704a9c9680f219eb0d91678226 = $(`&lt;div id=&quot;html_e56ef0704a9c9680f219eb0d91678226&quot; style=&quot;width: 100.0%; height: 100.0%;&quot;&gt;Monroe: Italian (1 restaurants)&lt;/div&gt;`)[0];\n",
       "                popup_9922f1139bf51dfdd42c28459c83fbc0.setContent(html_e56ef0704a9c9680f219eb0d91678226);\n",
       "            \n",
       "        \n",
       "\n",
       "        marker_643a0c6d7f4417bdcc1646f8d9420ff7.bindPopup(popup_9922f1139bf51dfdd42c28459c83fbc0)\n",
       "        ;\n",
       "\n",
       "        \n",
       "    \n",
       "    \n",
       "            var marker_23f2d504bd7894a62fbe07def673f355 = L.marker(\n",
       "                [-26.690462, 152.893735],\n",
       "                {}\n",
       "            ).addTo(map_d1cbc4d2c173ca027778d45be0dcd5c4);\n",
       "        \n",
       "    \n",
       "        var popup_fc15c91203f119d65b428873eb90e93e = L.popup({&quot;maxWidth&quot;: &quot;100%&quot;});\n",
       "\n",
       "        \n",
       "            \n",
       "                var html_a846a7ee7785d2aec960e01608fd7a6f = $(`&lt;div id=&quot;html_a846a7ee7785d2aec960e01608fd7a6f&quot; style=&quot;width: 100.0%; height: 100.0%;&quot;&gt;Montville: Coffee and Tea (1 restaurants)&lt;/div&gt;`)[0];\n",
       "                popup_fc15c91203f119d65b428873eb90e93e.setContent(html_a846a7ee7785d2aec960e01608fd7a6f);\n",
       "            \n",
       "        \n",
       "\n",
       "        marker_23f2d504bd7894a62fbe07def673f355.bindPopup(popup_fc15c91203f119d65b428873eb90e93e)\n",
       "        ;\n",
       "\n",
       "        \n",
       "    \n",
       "    \n",
       "            var marker_c6781ed6cc83ec9d6839eaedfe949b57 = L.marker(\n",
       "                [19.1143873445, 72.848456371],\n",
       "                {}\n",
       "            ).addTo(map_d1cbc4d2c173ca027778d45be0dcd5c4);\n",
       "        \n",
       "    \n",
       "        var popup_385ace1ccdcec3a3643f8f362317ad88 = L.popup({&quot;maxWidth&quot;: &quot;100%&quot;});\n",
       "\n",
       "        \n",
       "            \n",
       "                var html_10c8e3a6233b2491722224dc895b21c1 = $(`&lt;div id=&quot;html_10c8e3a6233b2491722224dc895b21c1&quot; style=&quot;width: 100.0%; height: 100.0%;&quot;&gt;Mumbai: Italian (9 restaurants)&lt;/div&gt;`)[0];\n",
       "                popup_385ace1ccdcec3a3643f8f362317ad88.setContent(html_10c8e3a6233b2491722224dc895b21c1);\n",
       "            \n",
       "        \n",
       "\n",
       "        marker_c6781ed6cc83ec9d6839eaedfe949b57.bindPopup(popup_385ace1ccdcec3a3643f8f362317ad88)\n",
       "        ;\n",
       "\n",
       "        \n",
       "    \n",
       "    \n",
       "            var marker_659476ef46ded5cc097d422635333b80 = L.marker(\n",
       "                [11.703185705, 72.80035181150001],\n",
       "                {}\n",
       "            ).addTo(map_d1cbc4d2c173ca027778d45be0dcd5c4);\n",
       "        \n",
       "    \n",
       "        var popup_a7749a823bcf40529d9eced1afd53a54 = L.popup({&quot;maxWidth&quot;: &quot;100%&quot;});\n",
       "\n",
       "        \n",
       "            \n",
       "                var html_36f2e0949591f877938d121baf7f5e4f = $(`&lt;div id=&quot;html_36f2e0949591f877938d121baf7f5e4f&quot; style=&quot;width: 100.0%; height: 100.0%;&quot;&gt;Mysore: North Indian (12 restaurants)&lt;/div&gt;`)[0];\n",
       "                popup_a7749a823bcf40529d9eced1afd53a54.setContent(html_36f2e0949591f877938d121baf7f5e4f);\n",
       "            \n",
       "        \n",
       "\n",
       "        marker_659476ef46ded5cc097d422635333b80.bindPopup(popup_a7749a823bcf40529d9eced1afd53a54)\n",
       "        ;\n",
       "\n",
       "        \n",
       "    \n",
       "    \n",
       "            var marker_49871d2e391df74055efbe6c0a4d9d5e = L.marker(\n",
       "                [20.080411780000002, 75.115403616],\n",
       "                {}\n",
       "            ).addTo(map_d1cbc4d2c173ca027778d45be0dcd5c4);\n",
       "        \n",
       "    \n",
       "        var popup_9867a1e08ed21b44b8b86ad68f611759 = L.popup({&quot;maxWidth&quot;: &quot;100%&quot;});\n",
       "\n",
       "        \n",
       "            \n",
       "                var html_229edd7b69dd8adf8dd1d566fc44ba99 = $(`&lt;div id=&quot;html_229edd7b69dd8adf8dd1d566fc44ba99&quot; style=&quot;width: 100.0%; height: 100.0%;&quot;&gt;Nagpur: Chinese (8 restaurants)&lt;/div&gt;`)[0];\n",
       "                popup_9867a1e08ed21b44b8b86ad68f611759.setContent(html_229edd7b69dd8adf8dd1d566fc44ba99);\n",
       "            \n",
       "        \n",
       "\n",
       "        marker_49871d2e391df74055efbe6c0a4d9d5e.bindPopup(popup_9867a1e08ed21b44b8b86ad68f611759)\n",
       "        ;\n",
       "\n",
       "        \n",
       "    \n",
       "    \n",
       "            var marker_09626e3c9df5d1c6c5ac8532d58503c9 = L.marker(\n",
       "                [14.002308698999997, 51.6304818025],\n",
       "                {}\n",
       "            ).addTo(map_d1cbc4d2c173ca027778d45be0dcd5c4);\n",
       "        \n",
       "    \n",
       "        var popup_b37d3c126bf2da56bc3fb5dddb7edb9d = L.popup({&quot;maxWidth&quot;: &quot;100%&quot;});\n",
       "\n",
       "        \n",
       "            \n",
       "                var html_e934c696910e423c5199053562447597 = $(`&lt;div id=&quot;html_e934c696910e423c5199053562447597&quot; style=&quot;width: 100.0%; height: 100.0%;&quot;&gt;Nashik: North Indian (11 restaurants)&lt;/div&gt;`)[0];\n",
       "                popup_b37d3c126bf2da56bc3fb5dddb7edb9d.setContent(html_e934c696910e423c5199053562447597);\n",
       "            \n",
       "        \n",
       "\n",
       "        marker_09626e3c9df5d1c6c5ac8532d58503c9.bindPopup(popup_b37d3c126bf2da56bc3fb5dddb7edb9d)\n",
       "        ;\n",
       "\n",
       "        \n",
       "    \n",
       "    \n",
       "            var marker_0945088c101a60ab74ce599deee3ee4e = L.marker(\n",
       "                [27.39820543576831, 73.903791625465],\n",
       "                {}\n",
       "            ).addTo(map_d1cbc4d2c173ca027778d45be0dcd5c4);\n",
       "        \n",
       "    \n",
       "        var popup_49cf5e5cbf36de7a9cb66b4826a7dab9 = L.popup({&quot;maxWidth&quot;: &quot;100%&quot;});\n",
       "\n",
       "        \n",
       "            \n",
       "                var html_7fe122b3c3e137dc3a64ac78aa263f98 = $(`&lt;div id=&quot;html_7fe122b3c3e137dc3a64ac78aa263f98&quot; style=&quot;width: 100.0%; height: 100.0%;&quot;&gt;New Delhi: North Indian (2425 restaurants)&lt;/div&gt;`)[0];\n",
       "                popup_49cf5e5cbf36de7a9cb66b4826a7dab9.setContent(html_7fe122b3c3e137dc3a64ac78aa263f98);\n",
       "            \n",
       "        \n",
       "\n",
       "        marker_0945088c101a60ab74ce599deee3ee4e.bindPopup(popup_49cf5e5cbf36de7a9cb66b4826a7dab9)\n",
       "        ;\n",
       "\n",
       "        \n",
       "    \n",
       "    \n",
       "            var marker_49828a5bd3ab27b68cd87690f6dbc1a1 = L.marker(\n",
       "                [26.106910491296297, 70.62713066021297],\n",
       "                {}\n",
       "            ).addTo(map_d1cbc4d2c173ca027778d45be0dcd5c4);\n",
       "        \n",
       "    \n",
       "        var popup_55caf0ffe89d35b056cf3bda8497f5f4 = L.popup({&quot;maxWidth&quot;: &quot;100%&quot;});\n",
       "\n",
       "        \n",
       "            \n",
       "                var html_35f1daf4ab62105dd655b9f71138fe7a = $(`&lt;div id=&quot;html_35f1daf4ab62105dd655b9f71138fe7a&quot; style=&quot;width: 100.0%; height: 100.0%;&quot;&gt;Noida: North Indian (532 restaurants)&lt;/div&gt;`)[0];\n",
       "                popup_55caf0ffe89d35b056cf3bda8497f5f4.setContent(html_35f1daf4ab62105dd655b9f71138fe7a);\n",
       "            \n",
       "        \n",
       "\n",
       "        marker_49828a5bd3ab27b68cd87690f6dbc1a1.bindPopup(popup_55caf0ffe89d35b056cf3bda8497f5f4)\n",
       "        ;\n",
       "\n",
       "        \n",
       "    \n",
       "    \n",
       "            var marker_95a44efe8ddbaa0d1630b81f751f3c81 = L.marker(\n",
       "                [36.313638, -106.057666],\n",
       "                {}\n",
       "            ).addTo(map_d1cbc4d2c173ca027778d45be0dcd5c4);\n",
       "        \n",
       "    \n",
       "        var popup_ea7738324ef0f527b97cba30804a4842 = L.popup({&quot;maxWidth&quot;: &quot;100%&quot;});\n",
       "\n",
       "        \n",
       "            \n",
       "                var html_00ace638f03c48570ac0aa9059a87985 = $(`&lt;div id=&quot;html_00ace638f03c48570ac0aa9059a87985&quot; style=&quot;width: 100.0%; height: 100.0%;&quot;&gt;Ojo Caliente: American (1 restaurants)&lt;/div&gt;`)[0];\n",
       "                popup_ea7738324ef0f527b97cba30804a4842.setContent(html_00ace638f03c48570ac0aa9059a87985);\n",
       "            \n",
       "        \n",
       "\n",
       "        marker_95a44efe8ddbaa0d1630b81f751f3c81.bindPopup(popup_ea7738324ef0f527b97cba30804a4842)\n",
       "        ;\n",
       "\n",
       "        \n",
       "    \n",
       "    \n",
       "            var marker_6392f49386acd4f5d41fb25e985ff1f5 = L.marker(\n",
       "                [28.521050836842104, -81.41897336315789],\n",
       "                {}\n",
       "            ).addTo(map_d1cbc4d2c173ca027778d45be0dcd5c4);\n",
       "        \n",
       "    \n",
       "        var popup_2348820e181d0ec194eb4fbd538b1b29 = L.popup({&quot;maxWidth&quot;: &quot;100%&quot;});\n",
       "\n",
       "        \n",
       "            \n",
       "                var html_6f96f93ff21f6cab03664c0f3379f47c = $(`&lt;div id=&quot;html_6f96f93ff21f6cab03664c0f3379f47c&quot; style=&quot;width: 100.0%; height: 100.0%;&quot;&gt;Orlando: American (5 restaurants)&lt;/div&gt;`)[0];\n",
       "                popup_2348820e181d0ec194eb4fbd538b1b29.setContent(html_6f96f93ff21f6cab03664c0f3379f47c);\n",
       "            \n",
       "        \n",
       "\n",
       "        marker_6392f49386acd4f5d41fb25e985ff1f5.bindPopup(popup_2348820e181d0ec194eb4fbd538b1b29)\n",
       "        ;\n",
       "\n",
       "        \n",
       "    \n",
       "    \n",
       "            var marker_2ec323a255a73eff5dc70eabd871d7fd = L.marker(\n",
       "                [-16.748083, 145.670768],\n",
       "                {}\n",
       "            ).addTo(map_d1cbc4d2c173ca027778d45be0dcd5c4);\n",
       "        \n",
       "    \n",
       "        var popup_cc7054f7f15c5725b8c13c7458f5c6a4 = L.popup({&quot;maxWidth&quot;: &quot;100%&quot;});\n",
       "\n",
       "        \n",
       "            \n",
       "                var html_4ac6e4623b77848a16594735a9c6398a = $(`&lt;div id=&quot;html_4ac6e4623b77848a16594735a9c6398a&quot; style=&quot;width: 100.0%; height: 100.0%;&quot;&gt;Palm Cove: Mediterranean (1 restaurants)&lt;/div&gt;`)[0];\n",
       "                popup_cc7054f7f15c5725b8c13c7458f5c6a4.setContent(html_4ac6e4623b77848a16594735a9c6398a);\n",
       "            \n",
       "        \n",
       "\n",
       "        marker_2ec323a255a73eff5dc70eabd871d7fd.bindPopup(popup_cc7054f7f15c5725b8c13c7458f5c6a4)\n",
       "        ;\n",
       "\n",
       "        \n",
       "    \n",
       "    \n",
       "            var marker_25a8e05dfdafcf1e7a4a6012aca9305c = L.marker(\n",
       "                [30.6978586, 76.849258],\n",
       "                {}\n",
       "            ).addTo(map_d1cbc4d2c173ca027778d45be0dcd5c4);\n",
       "        \n",
       "    \n",
       "        var popup_eae9183427ee58a5005165ed14dc8996 = L.popup({&quot;maxWidth&quot;: &quot;100%&quot;});\n",
       "\n",
       "        \n",
       "            \n",
       "                var html_75e57650f8e62a5f812b8d81db6b9b8d = $(`&lt;div id=&quot;html_75e57650f8e62a5f812b8d81db6b9b8d&quot; style=&quot;width: 100.0%; height: 100.0%;&quot;&gt;Panchkula: Middle Eastern (1 restaurants)&lt;/div&gt;`)[0];\n",
       "                popup_eae9183427ee58a5005165ed14dc8996.setContent(html_75e57650f8e62a5f812b8d81db6b9b8d);\n",
       "            \n",
       "        \n",
       "\n",
       "        marker_25a8e05dfdafcf1e7a4a6012aca9305c.bindPopup(popup_eae9183427ee58a5005165ed14dc8996)\n",
       "        ;\n",
       "\n",
       "        \n",
       "    \n",
       "    \n",
       "            var marker_61e269eca703ed044128bc2f26dc77b1 = L.marker(\n",
       "                [14.541441110000001, 120.97969666666667],\n",
       "                {}\n",
       "            ).addTo(map_d1cbc4d2c173ca027778d45be0dcd5c4);\n",
       "        \n",
       "    \n",
       "        var popup_092e24e98bfe1791439b32e9ab2a65d4 = L.popup({&quot;maxWidth&quot;: &quot;100%&quot;});\n",
       "\n",
       "        \n",
       "            \n",
       "                var html_08d01c128ee44cb2977827d842c89240 = $(`&lt;div id=&quot;html_08d01c128ee44cb2977827d842c89240&quot; style=&quot;width: 100.0%; height: 100.0%;&quot;&gt;Pasay City: Asian (3 restaurants)&lt;/div&gt;`)[0];\n",
       "                popup_092e24e98bfe1791439b32e9ab2a65d4.setContent(html_08d01c128ee44cb2977827d842c89240);\n",
       "            \n",
       "        \n",
       "\n",
       "        marker_61e269eca703ed044128bc2f26dc77b1.bindPopup(popup_092e24e98bfe1791439b32e9ab2a65d4)\n",
       "        ;\n",
       "\n",
       "        \n",
       "    \n",
       "    \n",
       "            var marker_eafb184a82e9f71fa0b14be69569bfca = L.marker(\n",
       "                [14.570193000000002, 121.05842266666667],\n",
       "                {}\n",
       "            ).addTo(map_d1cbc4d2c173ca027778d45be0dcd5c4);\n",
       "        \n",
       "    \n",
       "        var popup_be90faef4c50ed92f240863f6eaa8fe4 = L.popup({&quot;maxWidth&quot;: &quot;100%&quot;});\n",
       "\n",
       "        \n",
       "            \n",
       "                var html_3561ed6a100b776713cf2f52b39de2ca = $(`&lt;div id=&quot;html_3561ed6a100b776713cf2f52b39de2ca&quot; style=&quot;width: 100.0%; height: 100.0%;&quot;&gt;Pasig City: Filipino (2 restaurants)&lt;/div&gt;`)[0];\n",
       "                popup_be90faef4c50ed92f240863f6eaa8fe4.setContent(html_3561ed6a100b776713cf2f52b39de2ca);\n",
       "            \n",
       "        \n",
       "\n",
       "        marker_eafb184a82e9f71fa0b14be69569bfca.bindPopup(popup_be90faef4c50ed92f240863f6eaa8fe4)\n",
       "        ;\n",
       "\n",
       "        \n",
       "    \n",
       "    \n",
       "            var marker_bcd43ea97573fa4ddf2a77bc014ad348 = L.marker(\n",
       "                [21.772366481, 72.35764884650001],\n",
       "                {}\n",
       "            ).addTo(map_d1cbc4d2c173ca027778d45be0dcd5c4);\n",
       "        \n",
       "    \n",
       "        var popup_948c4c42b86707c7804b504e7c069e1c = L.popup({&quot;maxWidth&quot;: &quot;100%&quot;});\n",
       "\n",
       "        \n",
       "            \n",
       "                var html_94ba06b984f8df7ef4ef6f43f7920036 = $(`&lt;div id=&quot;html_94ba06b984f8df7ef4ef6f43f7920036&quot; style=&quot;width: 100.0%; height: 100.0%;&quot;&gt;Patna: North Indian (15 restaurants)&lt;/div&gt;`)[0];\n",
       "                popup_948c4c42b86707c7804b504e7c069e1c.setContent(html_94ba06b984f8df7ef4ef6f43f7920036);\n",
       "            \n",
       "        \n",
       "\n",
       "        marker_bcd43ea97573fa4ddf2a77bc014ad348.bindPopup(popup_948c4c42b86707c7804b504e7c069e1c)\n",
       "        ;\n",
       "\n",
       "        \n",
       "    \n",
       "    \n",
       "            var marker_89b03814d27d4a393fa18dd50d888e02 = L.marker(\n",
       "                [-37.9194154, 147.7227832],\n",
       "                {}\n",
       "            ).addTo(map_d1cbc4d2c173ca027778d45be0dcd5c4);\n",
       "        \n",
       "    \n",
       "        var popup_bfcdf35c2edd92cc0eb07de356613a0c = L.popup({&quot;maxWidth&quot;: &quot;100%&quot;});\n",
       "\n",
       "        \n",
       "            \n",
       "                var html_f5b41274a6029bd7999faed00f406abd = $(`&lt;div id=&quot;html_f5b41274a6029bd7999faed00f406abd&quot; style=&quot;width: 100.0%; height: 100.0%;&quot;&gt;Paynesville: Modern Australian (1 restaurants)&lt;/div&gt;`)[0];\n",
       "                popup_bfcdf35c2edd92cc0eb07de356613a0c.setContent(html_f5b41274a6029bd7999faed00f406abd);\n",
       "            \n",
       "        \n",
       "\n",
       "        marker_89b03814d27d4a393fa18dd50d888e02.bindPopup(popup_bfcdf35c2edd92cc0eb07de356613a0c)\n",
       "        ;\n",
       "\n",
       "        \n",
       "    \n",
       "    \n",
       "            var marker_f9f4382064bd3d61b2b9a7b7f13645f1 = L.marker(\n",
       "                [-37.379153, 140.837409],\n",
       "                {}\n",
       "            ).addTo(map_d1cbc4d2c173ca027778d45be0dcd5c4);\n",
       "        \n",
       "    \n",
       "        var popup_b51041474400cf7590d7ec77fc2dd26e = L.popup({&quot;maxWidth&quot;: &quot;100%&quot;});\n",
       "\n",
       "        \n",
       "            \n",
       "                var html_f3858326ffac8c75f9bc3dafde7a1b3a = $(`&lt;div id=&quot;html_f3858326ffac8c75f9bc3dafde7a1b3a&quot; style=&quot;width: 100.0%; height: 100.0%;&quot;&gt;Penola: Cafe (1 restaurants)&lt;/div&gt;`)[0];\n",
       "                popup_b51041474400cf7590d7ec77fc2dd26e.setContent(html_f3858326ffac8c75f9bc3dafde7a1b3a);\n",
       "            \n",
       "        \n",
       "\n",
       "        marker_f9f4382064bd3d61b2b9a7b7f13645f1.bindPopup(popup_b51041474400cf7590d7ec77fc2dd26e)\n",
       "        ;\n",
       "\n",
       "        \n",
       "    \n",
       "    \n",
       "            var marker_9232181d3f9e21657973eab578e7adb4 = L.marker(\n",
       "                [30.395173004999993, -87.19811637500001],\n",
       "                {}\n",
       "            ).addTo(map_d1cbc4d2c173ca027778d45be0dcd5c4);\n",
       "        \n",
       "    \n",
       "        var popup_db64cd3daa6c7ecbb59dc6e9bd8008c0 = L.popup({&quot;maxWidth&quot;: &quot;100%&quot;});\n",
       "\n",
       "        \n",
       "            \n",
       "                var html_ad63a86788db950302b8ecb51561a0bd = $(`&lt;div id=&quot;html_ad63a86788db950302b8ecb51561a0bd&quot; style=&quot;width: 100.0%; height: 100.0%;&quot;&gt;Pensacola: Seafood (8 restaurants)&lt;/div&gt;`)[0];\n",
       "                popup_db64cd3daa6c7ecbb59dc6e9bd8008c0.setContent(html_ad63a86788db950302b8ecb51561a0bd);\n",
       "            \n",
       "        \n",
       "\n",
       "        marker_9232181d3f9e21657973eab578e7adb4.bindPopup(popup_db64cd3daa6c7ecbb59dc6e9bd8008c0)\n",
       "        ;\n",
       "\n",
       "        \n",
       "    \n",
       "    \n",
       "            var marker_ef62499a5453948fabca0d44c506ce03 = L.marker(\n",
       "                [-38.448307, 145.237813],\n",
       "                {}\n",
       "            ).addTo(map_d1cbc4d2c173ca027778d45be0dcd5c4);\n",
       "        \n",
       "    \n",
       "        var popup_9749170359ec51364c9d46b6b0b2d6ab = L.popup({&quot;maxWidth&quot;: &quot;100%&quot;});\n",
       "\n",
       "        \n",
       "            \n",
       "                var html_d18ce014893cd96958d38e3c9cd3c1bc = $(`&lt;div id=&quot;html_d18ce014893cd96958d38e3c9cd3c1bc&quot; style=&quot;width: 100.0%; height: 100.0%;&quot;&gt;Phillip Island: Breakfast (1 restaurants)&lt;/div&gt;`)[0];\n",
       "                popup_9749170359ec51364c9d46b6b0b2d6ab.setContent(html_d18ce014893cd96958d38e3c9cd3c1bc);\n",
       "            \n",
       "        \n",
       "\n",
       "        marker_ef62499a5453948fabca0d44c506ce03.bindPopup(popup_9749170359ec51364c9d46b6b0b2d6ab)\n",
       "        ;\n",
       "\n",
       "        \n",
       "    \n",
       "    \n",
       "            var marker_b2985163c7f7873798513e6a3d54416b = L.marker(\n",
       "                [42.867359085, -112.39785958],\n",
       "                {}\n",
       "            ).addTo(map_d1cbc4d2c173ca027778d45be0dcd5c4);\n",
       "        \n",
       "    \n",
       "        var popup_228c455be0e5d1e1d2ed79a186888f79 = L.popup({&quot;maxWidth&quot;: &quot;100%&quot;});\n",
       "\n",
       "        \n",
       "            \n",
       "                var html_21df1fae2264b3f550f252555d493cf0 = $(`&lt;div id=&quot;html_21df1fae2264b3f550f252555d493cf0&quot; style=&quot;width: 100.0%; height: 100.0%;&quot;&gt;Pocatello: American (5 restaurants)&lt;/div&gt;`)[0];\n",
       "                popup_228c455be0e5d1e1d2ed79a186888f79.setContent(html_21df1fae2264b3f550f252555d493cf0);\n",
       "            \n",
       "        \n",
       "\n",
       "        marker_b2985163c7f7873798513e6a3d54416b.bindPopup(popup_228c455be0e5d1e1d2ed79a186888f79)\n",
       "        ;\n",
       "\n",
       "        \n",
       "    \n",
       "    \n",
       "            var marker_9a9bb7bd6680dda24757854a1f90cf4c = L.marker(\n",
       "                [32.613431, -116.704731],\n",
       "                {}\n",
       "            ).addTo(map_d1cbc4d2c173ca027778d45be0dcd5c4);\n",
       "        \n",
       "    \n",
       "        var popup_403c63e87dd668e1a8f84a3bde5c3341 = L.popup({&quot;maxWidth&quot;: &quot;100%&quot;});\n",
       "\n",
       "        \n",
       "            \n",
       "                var html_0b354513b0a56b5ab7ea8c5eb3e5bfb0 = $(`&lt;div id=&quot;html_0b354513b0a56b5ab7ea8c5eb3e5bfb0&quot; style=&quot;width: 100.0%; height: 100.0%;&quot;&gt;Potrero: American (1 restaurants)&lt;/div&gt;`)[0];\n",
       "                popup_403c63e87dd668e1a8f84a3bde5c3341.setContent(html_0b354513b0a56b5ab7ea8c5eb3e5bfb0);\n",
       "            \n",
       "        \n",
       "\n",
       "        marker_9a9bb7bd6680dda24757854a1f90cf4c.bindPopup(popup_403c63e87dd668e1a8f84a3bde5c3341)\n",
       "        ;\n",
       "\n",
       "        \n",
       "    \n",
       "    \n",
       "            var marker_4642cdb5787a68710b0ef60c816e5212 = L.marker(\n",
       "                [-25.779438526499995, 28.257865699],\n",
       "                {}\n",
       "            ).addTo(map_d1cbc4d2c173ca027778d45be0dcd5c4);\n",
       "        \n",
       "    \n",
       "        var popup_a76ace5409a9f7ac66eceb3ebd687ce3 = L.popup({&quot;maxWidth&quot;: &quot;100%&quot;});\n",
       "\n",
       "        \n",
       "            \n",
       "                var html_a90a26d7bdee384e643cff0b80aef736 = $(`&lt;div id=&quot;html_a90a26d7bdee384e643cff0b80aef736&quot; style=&quot;width: 100.0%; height: 100.0%;&quot;&gt;Pretoria: Burger (7 restaurants)&lt;/div&gt;`)[0];\n",
       "                popup_a76ace5409a9f7ac66eceb3ebd687ce3.setContent(html_a90a26d7bdee384e643cff0b80aef736);\n",
       "            \n",
       "        \n",
       "\n",
       "        marker_4642cdb5787a68710b0ef60c816e5212.bindPopup(popup_a76ace5409a9f7ac66eceb3ebd687ce3)\n",
       "        ;\n",
       "\n",
       "        \n",
       "    \n",
       "    \n",
       "            var marker_d85fc1b011afcb607a01e12ded7c1b6c = L.marker(\n",
       "                [40.352385, -74.651139],\n",
       "                {}\n",
       "            ).addTo(map_d1cbc4d2c173ca027778d45be0dcd5c4);\n",
       "        \n",
       "    \n",
       "        var popup_9b2f320c379317891a72eee3ccbc18f8 = L.popup({&quot;maxWidth&quot;: &quot;100%&quot;});\n",
       "\n",
       "        \n",
       "            \n",
       "                var html_a20d443ce63530b2d2a8c1045f935f95 = $(`&lt;div id=&quot;html_a20d443ce63530b2d2a8c1045f935f95&quot; style=&quot;width: 100.0%; height: 100.0%;&quot;&gt;Princeton: Seafood (1 restaurants)&lt;/div&gt;`)[0];\n",
       "                popup_9b2f320c379317891a72eee3ccbc18f8.setContent(html_a20d443ce63530b2d2a8c1045f935f95);\n",
       "            \n",
       "        \n",
       "\n",
       "        marker_d85fc1b011afcb607a01e12ded7c1b6c.bindPopup(popup_9b2f320c379317891a72eee3ccbc18f8)\n",
       "        ;\n",
       "\n",
       "        \n",
       "    \n",
       "    \n",
       "            var marker_68758416c0690cf4bd74a28d54c4b95e = L.marker(\n",
       "                [11.93696777, 79.83290421550001],\n",
       "                {}\n",
       "            ).addTo(map_d1cbc4d2c173ca027778d45be0dcd5c4);\n",
       "        \n",
       "    \n",
       "        var popup_8b7d293fe9a2ef120dd3839c2359558d = L.popup({&quot;maxWidth&quot;: &quot;100%&quot;});\n",
       "\n",
       "        \n",
       "            \n",
       "                var html_5be9a44d8b0c58d4c3bfc3c6aa8cf696 = $(`&lt;div id=&quot;html_5be9a44d8b0c58d4c3bfc3c6aa8cf696&quot; style=&quot;width: 100.0%; height: 100.0%;&quot;&gt;Puducherry: Continental (6 restaurants)&lt;/div&gt;`)[0];\n",
       "                popup_8b7d293fe9a2ef120dd3839c2359558d.setContent(html_5be9a44d8b0c58d4c3bfc3c6aa8cf696);\n",
       "            \n",
       "        \n",
       "\n",
       "        marker_68758416c0690cf4bd74a28d54c4b95e.bindPopup(popup_8b7d293fe9a2ef120dd3839c2359558d)\n",
       "        ;\n",
       "\n",
       "        \n",
       "    \n",
       "    \n",
       "            var marker_26941132fba2c4cccea7502feca6bb0d = L.marker(\n",
       "                [18.551124155, 73.84967069749999],\n",
       "                {}\n",
       "            ).addTo(map_d1cbc4d2c173ca027778d45be0dcd5c4);\n",
       "        \n",
       "    \n",
       "        var popup_c4e4a67f85232f92dc52214269fc4055 = L.popup({&quot;maxWidth&quot;: &quot;100%&quot;});\n",
       "\n",
       "        \n",
       "            \n",
       "                var html_f942458761c40cc966a66533f342ff23 = $(`&lt;div id=&quot;html_f942458761c40cc966a66533f342ff23&quot; style=&quot;width: 100.0%; height: 100.0%;&quot;&gt;Pune: North Indian (11 restaurants)&lt;/div&gt;`)[0];\n",
       "                popup_c4e4a67f85232f92dc52214269fc4055.setContent(html_f942458761c40cc966a66533f342ff23);\n",
       "            \n",
       "        \n",
       "\n",
       "        marker_26941132fba2c4cccea7502feca6bb0d.bindPopup(popup_c4e4a67f85232f92dc52214269fc4055)\n",
       "        ;\n",
       "\n",
       "        \n",
       "    \n",
       "    \n",
       "            var marker_824e8b458a4dbb42a9efc9874ccce2b2 = L.marker(\n",
       "                [14.649503, 121.075419],\n",
       "                {}\n",
       "            ).addTo(map_d1cbc4d2c173ca027778d45be0dcd5c4);\n",
       "        \n",
       "    \n",
       "        var popup_ba8b39eae4a8091678ef1eb6f64be19e = L.popup({&quot;maxWidth&quot;: &quot;100%&quot;});\n",
       "\n",
       "        \n",
       "            \n",
       "                var html_63e3f7cd136664f21d718da8cf424769 = $(`&lt;div id=&quot;html_63e3f7cd136664f21d718da8cf424769&quot; style=&quot;width: 100.0%; height: 100.0%;&quot;&gt;Quezon City: Filipino (1 restaurants)&lt;/div&gt;`)[0];\n",
       "                popup_ba8b39eae4a8091678ef1eb6f64be19e.setContent(html_63e3f7cd136664f21d718da8cf424769);\n",
       "            \n",
       "        \n",
       "\n",
       "        marker_824e8b458a4dbb42a9efc9874ccce2b2.bindPopup(popup_ba8b39eae4a8091678ef1eb6f64be19e)\n",
       "        ;\n",
       "\n",
       "        \n",
       "    \n",
       "    \n",
       "            var marker_01568c5926dee6120756997a9bfab1cf = L.marker(\n",
       "                [18.692065876500003, 68.26491826499999],\n",
       "                {}\n",
       "            ).addTo(map_d1cbc4d2c173ca027778d45be0dcd5c4);\n",
       "        \n",
       "    \n",
       "        var popup_6caa9649b1d1508b01d983f9543a42be = L.popup({&quot;maxWidth&quot;: &quot;100%&quot;});\n",
       "\n",
       "        \n",
       "            \n",
       "                var html_4c9d3d1a160e1c1e148e69a72e5bf696 = $(`&lt;div id=&quot;html_4c9d3d1a160e1c1e148e69a72e5bf696&quot; style=&quot;width: 100.0%; height: 100.0%;&quot;&gt;Ranchi: North Indian (16 restaurants)&lt;/div&gt;`)[0];\n",
       "                popup_6caa9649b1d1508b01d983f9543a42be.setContent(html_4c9d3d1a160e1c1e148e69a72e5bf696);\n",
       "            \n",
       "        \n",
       "\n",
       "        marker_01568c5926dee6120756997a9bfab1cf.bindPopup(popup_6caa9649b1d1508b01d983f9543a42be)\n",
       "        ;\n",
       "\n",
       "        \n",
       "    \n",
       "    \n",
       "            var marker_a7fca061beae8b1077fdd3633d71c4b2 = L.marker(\n",
       "                [-26.14026, 27.991791],\n",
       "                {}\n",
       "            ).addTo(map_d1cbc4d2c173ca027778d45be0dcd5c4);\n",
       "        \n",
       "    \n",
       "        var popup_57e455af8effa4660d6f50879d1cc085 = L.popup({&quot;maxWidth&quot;: &quot;100%&quot;});\n",
       "\n",
       "        \n",
       "            \n",
       "                var html_708e341bdc0de5e017354e533d23305c = $(`&lt;div id=&quot;html_708e341bdc0de5e017354e533d23305c&quot; style=&quot;width: 100.0%; height: 100.0%;&quot;&gt;Randburg: Cafe (1 restaurants)&lt;/div&gt;`)[0];\n",
       "                popup_57e455af8effa4660d6f50879d1cc085.setContent(html_708e341bdc0de5e017354e533d23305c);\n",
       "            \n",
       "        \n",
       "\n",
       "        marker_a7fca061beae8b1077fdd3633d71c4b2.bindPopup(popup_57e455af8effa4660d6f50879d1cc085)\n",
       "        ;\n",
       "\n",
       "        \n",
       "    \n",
       "    \n",
       "            var marker_6b76833c9980683336152b2d755e9041 = L.marker(\n",
       "                [20.982467305263157, -157.0689545736842],\n",
       "                {}\n",
       "            ).addTo(map_d1cbc4d2c173ca027778d45be0dcd5c4);\n",
       "        \n",
       "    \n",
       "        var popup_27a6c2b5efce6d2756d7a5fba0467a4e = L.popup({&quot;maxWidth&quot;: &quot;100%&quot;});\n",
       "\n",
       "        \n",
       "            \n",
       "                var html_c2dac06e543153b7ca9260cc71fb36be = $(`&lt;div id=&quot;html_c2dac06e543153b7ca9260cc71fb36be&quot; style=&quot;width: 100.0%; height: 100.0%;&quot;&gt;Rest of Hawaii: Seafood (8 restaurants)&lt;/div&gt;`)[0];\n",
       "                popup_27a6c2b5efce6d2756d7a5fba0467a4e.setContent(html_c2dac06e543153b7ca9260cc71fb36be);\n",
       "            \n",
       "        \n",
       "\n",
       "        marker_6b76833c9980683336152b2d755e9041.bindPopup(popup_27a6c2b5efce6d2756d7a5fba0467a4e)\n",
       "        ;\n",
       "\n",
       "        \n",
       "    \n",
       "    \n",
       "            var marker_872ef9ea4cd29ee5705f17653797aadf = L.marker(\n",
       "                [-22.962617860499996, -43.2201907225],\n",
       "                {}\n",
       "            ).addTo(map_d1cbc4d2c173ca027778d45be0dcd5c4);\n",
       "        \n",
       "    \n",
       "        var popup_f9c7f9154446bee3957ce7d734a229ec = L.popup({&quot;maxWidth&quot;: &quot;100%&quot;});\n",
       "\n",
       "        \n",
       "            \n",
       "                var html_0bad93ec8d462955c06dad86f356c74a = $(`&lt;div id=&quot;html_0bad93ec8d462955c06dad86f356c74a&quot; style=&quot;width: 100.0%; height: 100.0%;&quot;&gt;Rio de Janeiro: Brazilian (13 restaurants)&lt;/div&gt;`)[0];\n",
       "                popup_f9c7f9154446bee3957ce7d734a229ec.setContent(html_0bad93ec8d462955c06dad86f356c74a);\n",
       "            \n",
       "        \n",
       "\n",
       "        marker_872ef9ea4cd29ee5705f17653797aadf.bindPopup(popup_f9c7f9154446bee3957ce7d734a229ec)\n",
       "        ;\n",
       "\n",
       "        \n",
       "    \n",
       "    \n",
       "            var marker_1f7a2159fd8f3e87bfa738995ff1bf7b = L.marker(\n",
       "                [14.59617, 121.03585085],\n",
       "                {}\n",
       "            ).addTo(map_d1cbc4d2c173ca027778d45be0dcd5c4);\n",
       "        \n",
       "    \n",
       "        var popup_601fece612759fab8d35f4277db75374 = L.popup({&quot;maxWidth&quot;: &quot;100%&quot;});\n",
       "\n",
       "        \n",
       "            \n",
       "                var html_0710ee8121d118189b54d078de0ef0af = $(`&lt;div id=&quot;html_0710ee8121d118189b54d078de0ef0af&quot; style=&quot;width: 100.0%; height: 100.0%;&quot;&gt;San Juan City: Filipino (1 restaurants)&lt;/div&gt;`)[0];\n",
       "                popup_601fece612759fab8d35f4277db75374.setContent(html_0710ee8121d118189b54d078de0ef0af);\n",
       "            \n",
       "        \n",
       "\n",
       "        marker_1f7a2159fd8f3e87bfa738995ff1bf7b.bindPopup(popup_601fece612759fab8d35f4277db75374)\n",
       "        ;\n",
       "\n",
       "        \n",
       "    \n",
       "    \n",
       "            var marker_5df30994bb54d4bcd01c5bb434893de1 = L.marker(\n",
       "                [-26.072717750909092, 28.039619141818182],\n",
       "                {}\n",
       "            ).addTo(map_d1cbc4d2c173ca027778d45be0dcd5c4);\n",
       "        \n",
       "    \n",
       "        var popup_27e186b1263e5268ec3fd3ee111d157c = L.popup({&quot;maxWidth&quot;: &quot;100%&quot;});\n",
       "\n",
       "        \n",
       "            \n",
       "                var html_a2ce9ce3c49453319662b91fe53011c4 = $(`&lt;div id=&quot;html_a2ce9ce3c49453319662b91fe53011c4&quot; style=&quot;width: 100.0%; height: 100.0%;&quot;&gt;Sandton: Italian (4 restaurants)&lt;/div&gt;`)[0];\n",
       "                popup_27e186b1263e5268ec3fd3ee111d157c.setContent(html_a2ce9ce3c49453319662b91fe53011c4);\n",
       "            \n",
       "        \n",
       "\n",
       "        marker_5df30994bb54d4bcd01c5bb434893de1.bindPopup(popup_27e186b1263e5268ec3fd3ee111d157c)\n",
       "        ;\n",
       "\n",
       "        \n",
       "    \n",
       "    \n",
       "            var marker_9255ba887d3272d6dc606e9fe7004eda = L.marker(\n",
       "                [14.237380485, 121.05681369999999],\n",
       "                {}\n",
       "            ).addTo(map_d1cbc4d2c173ca027778d45be0dcd5c4);\n",
       "        \n",
       "    \n",
       "        var popup_44168caaec3d67bab6d31f3dfbf5de8e = L.popup({&quot;maxWidth&quot;: &quot;100%&quot;});\n",
       "\n",
       "        \n",
       "            \n",
       "                var html_992decc2b465c70a6ef382a6f4eabe3d = $(`&lt;div id=&quot;html_992decc2b465c70a6ef382a6f4eabe3d&quot; style=&quot;width: 100.0%; height: 100.0%;&quot;&gt;Santa Rosa: Italian (2 restaurants)&lt;/div&gt;`)[0];\n",
       "                popup_44168caaec3d67bab6d31f3dfbf5de8e.setContent(html_992decc2b465c70a6ef382a6f4eabe3d);\n",
       "            \n",
       "        \n",
       "\n",
       "        marker_9255ba887d3272d6dc606e9fe7004eda.bindPopup(popup_44168caaec3d67bab6d31f3dfbf5de8e)\n",
       "        ;\n",
       "\n",
       "        \n",
       "    \n",
       "    \n",
       "            var marker_fe6539348cc4fb87959ea6bc9556fdd1 = L.marker(\n",
       "                [32.07362393157896, -81.08026812105264],\n",
       "                {}\n",
       "            ).addTo(map_d1cbc4d2c173ca027778d45be0dcd5c4);\n",
       "        \n",
       "    \n",
       "        var popup_350210f7a4f11868dcaabf641bbd367e = L.popup({&quot;maxWidth&quot;: &quot;100%&quot;});\n",
       "\n",
       "        \n",
       "            \n",
       "                var html_1172d8b9a9788a1d89210eb2b88a2482 = $(`&lt;div id=&quot;html_1172d8b9a9788a1d89210eb2b88a2482&quot; style=&quot;width: 100.0%; height: 100.0%;&quot;&gt;Savannah: American (8 restaurants)&lt;/div&gt;`)[0];\n",
       "                popup_350210f7a4f11868dcaabf641bbd367e.setContent(html_1172d8b9a9788a1d89210eb2b88a2482);\n",
       "            \n",
       "        \n",
       "\n",
       "        marker_fe6539348cc4fb87959ea6bc9556fdd1.bindPopup(popup_350210f7a4f11868dcaabf641bbd367e)\n",
       "        ;\n",
       "\n",
       "        \n",
       "    \n",
       "    \n",
       "            var marker_1d537d1b86f1784dfa80e02f573b81b5 = L.marker(\n",
       "                [17.471107, 78.52623845],\n",
       "                {}\n",
       "            ).addTo(map_d1cbc4d2c173ca027778d45be0dcd5c4);\n",
       "        \n",
       "    \n",
       "        var popup_42f81b088eb0dcd5d5f6714cb41dc10b = L.popup({&quot;maxWidth&quot;: &quot;100%&quot;});\n",
       "\n",
       "        \n",
       "            \n",
       "                var html_40ba6a1d7366ea2120e882cf5dfbfeb6 = $(`&lt;div id=&quot;html_40ba6a1d7366ea2120e882cf5dfbfeb6&quot; style=&quot;width: 100.0%; height: 100.0%;&quot;&gt;Secunderabad: Cafe (1 restaurants)&lt;/div&gt;`)[0];\n",
       "                popup_42f81b088eb0dcd5d5f6714cb41dc10b.setContent(html_40ba6a1d7366ea2120e882cf5dfbfeb6);\n",
       "            \n",
       "        \n",
       "\n",
       "        marker_1d537d1b86f1784dfa80e02f573b81b5.bindPopup(popup_42f81b088eb0dcd5d5f6714cb41dc10b)\n",
       "        ;\n",
       "\n",
       "        \n",
       "    \n",
       "    \n",
       "            var marker_8d07e23e71731de009a88463f782b640 = L.marker(\n",
       "                [25.3248995955, 55.39793480899999],\n",
       "                {}\n",
       "            ).addTo(map_d1cbc4d2c173ca027778d45be0dcd5c4);\n",
       "        \n",
       "    \n",
       "        var popup_58dafef2c785ff4f269e6a8582245cd8 = L.popup({&quot;maxWidth&quot;: &quot;100%&quot;});\n",
       "\n",
       "        \n",
       "            \n",
       "                var html_9836cf283564eeb5f340264130c404db = $(`&lt;div id=&quot;html_9836cf283564eeb5f340264130c404db&quot; style=&quot;width: 100.0%; height: 100.0%;&quot;&gt;Sharjah: Indian (7 restaurants)&lt;/div&gt;`)[0];\n",
       "                popup_58dafef2c785ff4f269e6a8582245cd8.setContent(html_9836cf283564eeb5f340264130c404db);\n",
       "            \n",
       "        \n",
       "\n",
       "        marker_8d07e23e71731de009a88463f782b640.bindPopup(popup_58dafef2c785ff4f269e6a8582245cd8)\n",
       "        ;\n",
       "\n",
       "        \n",
       "    \n",
       "    \n",
       "            var marker_73fdc4e15a153289edf79f7b27630ea3 = L.marker(\n",
       "                [1.2939161034000002, 103.84873414],\n",
       "                {}\n",
       "            ).addTo(map_d1cbc4d2c173ca027778d45be0dcd5c4);\n",
       "        \n",
       "    \n",
       "        var popup_0b6a4dbb0237d64a87b55a30ddaeca41 = L.popup({&quot;maxWidth&quot;: &quot;100%&quot;});\n",
       "\n",
       "        \n",
       "            \n",
       "                var html_5eb02e2fa6c7648ecfaf9c4fc95874d5 = $(`&lt;div id=&quot;html_5eb02e2fa6c7648ecfaf9c4fc95874d5&quot; style=&quot;width: 100.0%; height: 100.0%;&quot;&gt;Singapore: American (5 restaurants)&lt;/div&gt;`)[0];\n",
       "                popup_0b6a4dbb0237d64a87b55a30ddaeca41.setContent(html_5eb02e2fa6c7648ecfaf9c4fc95874d5);\n",
       "            \n",
       "        \n",
       "\n",
       "        marker_73fdc4e15a153289edf79f7b27630ea3.bindPopup(popup_0b6a4dbb0237d64a87b55a30ddaeca41)\n",
       "        ;\n",
       "\n",
       "        \n",
       "    \n",
       "    \n",
       "            var marker_4fa447ab6dd78582c43d802a2647a402 = L.marker(\n",
       "                [42.498723139999996, -96.37893590000002],\n",
       "                {}\n",
       "            ).addTo(map_d1cbc4d2c173ca027778d45be0dcd5c4);\n",
       "        \n",
       "    \n",
       "        var popup_e64f9b134c2e327fba447b4c4a0c6112 = L.popup({&quot;maxWidth&quot;: &quot;100%&quot;});\n",
       "\n",
       "        \n",
       "            \n",
       "                var html_fbaf83cf0765d33f979cd5f7e9470dbc = $(`&lt;div id=&quot;html_fbaf83cf0765d33f979cd5f7e9470dbc&quot; style=&quot;width: 100.0%; height: 100.0%;&quot;&gt;Sioux City: American (6 restaurants)&lt;/div&gt;`)[0];\n",
       "                popup_e64f9b134c2e327fba447b4c4a0c6112.setContent(html_fbaf83cf0765d33f979cd5f7e9470dbc);\n",
       "            \n",
       "        \n",
       "\n",
       "        marker_4fa447ab6dd78582c43d802a2647a402.bindPopup(popup_e64f9b134c2e327fba447b4c4a0c6112)\n",
       "        ;\n",
       "\n",
       "        \n",
       "    \n",
       "    \n",
       "            var marker_1ab27d6408250ceeb1fa09815c314d57 = L.marker(\n",
       "                [21.168826666, 72.787681128],\n",
       "                {}\n",
       "            ).addTo(map_d1cbc4d2c173ca027778d45be0dcd5c4);\n",
       "        \n",
       "    \n",
       "        var popup_780ae8357572ea608b1cee48b7302c8c = L.popup({&quot;maxWidth&quot;: &quot;100%&quot;});\n",
       "\n",
       "        \n",
       "            \n",
       "                var html_cc21fdc1c45b767b2b234ab7645c780d = $(`&lt;div id=&quot;html_cc21fdc1c45b767b2b234ab7645c780d&quot; style=&quot;width: 100.0%; height: 100.0%;&quot;&gt;Surat: Italian (9 restaurants)&lt;/div&gt;`)[0];\n",
       "                popup_780ae8357572ea608b1cee48b7302c8c.setContent(html_cc21fdc1c45b767b2b234ab7645c780d);\n",
       "            \n",
       "        \n",
       "\n",
       "        marker_1ab27d6408250ceeb1fa09815c314d57.bindPopup(popup_780ae8357572ea608b1cee48b7302c8c)\n",
       "        ;\n",
       "\n",
       "        \n",
       "    \n",
       "    \n",
       "            var marker_b3dcefaf374ada64b3c379b91f81a52d = L.marker(\n",
       "                [-23.570185067, -46.6620110555],\n",
       "                {}\n",
       "            ).addTo(map_d1cbc4d2c173ca027778d45be0dcd5c4);\n",
       "        \n",
       "    \n",
       "        var popup_9231619dca099752267fc9e21fc1c4b7 = L.popup({&quot;maxWidth&quot;: &quot;100%&quot;});\n",
       "\n",
       "        \n",
       "            \n",
       "                var html_60908bda2bae4ec70489122c4bf8e7c4 = $(`&lt;div id=&quot;html_60908bda2bae4ec70489122c4bf8e7c4&quot; style=&quot;width: 100.0%; height: 100.0%;&quot;&gt;S恚o Paulo: Brazilian (10 restaurants)&lt;/div&gt;`)[0];\n",
       "                popup_9231619dca099752267fc9e21fc1c4b7.setContent(html_60908bda2bae4ec70489122c4bf8e7c4);\n",
       "            \n",
       "        \n",
       "\n",
       "        marker_b3dcefaf374ada64b3c379b91f81a52d.bindPopup(popup_9231619dca099752267fc9e21fc1c4b7)\n",
       "        ;\n",
       "\n",
       "        \n",
       "    \n",
       "    \n",
       "            var marker_49ee86fce94d018f5751fea9096d056e = L.marker(\n",
       "                [14.101834, 120.951589],\n",
       "                {}\n",
       "            ).addTo(map_d1cbc4d2c173ca027778d45be0dcd5c4);\n",
       "        \n",
       "    \n",
       "        var popup_a90d0746aa3c966ea401de5a30d2e1d0 = L.popup({&quot;maxWidth&quot;: &quot;100%&quot;});\n",
       "\n",
       "        \n",
       "            \n",
       "                var html_796ac4f9ce9e7784936d1e2e31a816ae = $(`&lt;div id=&quot;html_796ac4f9ce9e7784936d1e2e31a816ae&quot; style=&quot;width: 100.0%; height: 100.0%;&quot;&gt;Tagaytay City: Filipino (1 restaurants)&lt;/div&gt;`)[0];\n",
       "                popup_a90d0746aa3c966ea401de5a30d2e1d0.setContent(html_796ac4f9ce9e7784936d1e2e31a816ae);\n",
       "            \n",
       "        \n",
       "\n",
       "        marker_49ee86fce94d018f5751fea9096d056e.bindPopup(popup_a90d0746aa3c966ea401de5a30d2e1d0)\n",
       "        ;\n",
       "\n",
       "        \n",
       "    \n",
       "    \n",
       "            var marker_2f5b39fe6653edf15032c5d7c290d84b = L.marker(\n",
       "                [14.548802587499999, 121.0498307],\n",
       "                {}\n",
       "            ).addTo(map_d1cbc4d2c173ca027778d45be0dcd5c4);\n",
       "        \n",
       "    \n",
       "        var popup_df981113e61878f9ef468a2c9bd90df7 = L.popup({&quot;maxWidth&quot;: &quot;100%&quot;});\n",
       "\n",
       "        \n",
       "            \n",
       "                var html_460f48f949fbad3274fa138aa4827c35 = $(`&lt;div id=&quot;html_460f48f949fbad3274fa138aa4827c35&quot; style=&quot;width: 100.0%; height: 100.0%;&quot;&gt;Taguig City: American (3 restaurants)&lt;/div&gt;`)[0];\n",
       "                popup_df981113e61878f9ef468a2c9bd90df7.setContent(html_460f48f949fbad3274fa138aa4827c35);\n",
       "            \n",
       "        \n",
       "\n",
       "        marker_2f5b39fe6653edf15032c5d7c290d84b.bindPopup(popup_df981113e61878f9ef468a2c9bd90df7)\n",
       "        ;\n",
       "\n",
       "        \n",
       "    \n",
       "    \n",
       "            var marker_9f35fa6311871a276bd82df5c0615983 = L.marker(\n",
       "                [27.898321385000003, -82.56828691499999],\n",
       "                {}\n",
       "            ).addTo(map_d1cbc4d2c173ca027778d45be0dcd5c4);\n",
       "        \n",
       "    \n",
       "        var popup_bb6f1fb21b0aabf7fbf7dc5030208757 = L.popup({&quot;maxWidth&quot;: &quot;100%&quot;});\n",
       "\n",
       "        \n",
       "            \n",
       "                var html_7919cda2f50e564818ba45c533c939d0 = $(`&lt;div id=&quot;html_7919cda2f50e564818ba45c533c939d0&quot; style=&quot;width: 100.0%; height: 100.0%;&quot;&gt;Tampa Bay: Seafood (5 restaurants)&lt;/div&gt;`)[0];\n",
       "                popup_bb6f1fb21b0aabf7fbf7dc5030208757.setContent(html_7919cda2f50e564818ba45c533c939d0);\n",
       "            \n",
       "        \n",
       "\n",
       "        marker_9f35fa6311871a276bd82df5c0615983.bindPopup(popup_bb6f1fb21b0aabf7fbf7dc5030208757)\n",
       "        ;\n",
       "\n",
       "        \n",
       "    \n",
       "    \n",
       "            var marker_b2e4949ebea31cbe46a6c42f6cd0bee3 = L.marker(\n",
       "                [-6.2558529445, 106.6894037],\n",
       "                {}\n",
       "            ).addTo(map_d1cbc4d2c173ca027778d45be0dcd5c4);\n",
       "        \n",
       "    \n",
       "        var popup_5e23fd0341c76792cc69430b254dab93 = L.popup({&quot;maxWidth&quot;: &quot;100%&quot;});\n",
       "\n",
       "        \n",
       "            \n",
       "                var html_755386fd4251fbfdf3b30c1f06d6f00a = $(`&lt;div id=&quot;html_755386fd4251fbfdf3b30c1f06d6f00a&quot; style=&quot;width: 100.0%; height: 100.0%;&quot;&gt;Tangerang: Indonesian (2 restaurants)&lt;/div&gt;`)[0];\n",
       "                popup_5e23fd0341c76792cc69430b254dab93.setContent(html_755386fd4251fbfdf3b30c1f06d6f00a);\n",
       "            \n",
       "        \n",
       "\n",
       "        marker_b2e4949ebea31cbe46a6c42f6cd0bee3.bindPopup(popup_5e23fd0341c76792cc69430b254dab93)\n",
       "        ;\n",
       "\n",
       "        \n",
       "    \n",
       "    \n",
       "            var marker_9086ee52812f2364ed217c0f60ed5016 = L.marker(\n",
       "                [-34.519619, 138.966064],\n",
       "                {}\n",
       "            ).addTo(map_d1cbc4d2c173ca027778d45be0dcd5c4);\n",
       "        \n",
       "    \n",
       "        var popup_bfbbad0f59881ccdece016d708d92bef = L.popup({&quot;maxWidth&quot;: &quot;100%&quot;});\n",
       "\n",
       "        \n",
       "            \n",
       "                var html_eb8652b16a3c8f8f192c872e29181424 = $(`&lt;div id=&quot;html_eb8652b16a3c8f8f192c872e29181424&quot; style=&quot;width: 100.0%; height: 100.0%;&quot;&gt;Tanunda: Australian (1 restaurants)&lt;/div&gt;`)[0];\n",
       "                popup_bfbbad0f59881ccdece016d708d92bef.setContent(html_eb8652b16a3c8f8f192c872e29181424);\n",
       "            \n",
       "        \n",
       "\n",
       "        marker_9086ee52812f2364ed217c0f60ed5016.bindPopup(popup_bfbbad0f59881ccdece016d708d92bef)\n",
       "        ;\n",
       "\n",
       "        \n",
       "    \n",
       "    \n",
       "            var marker_d11c9f896692f1db3dad7c3be764c476 = L.marker(\n",
       "                [-37.396942, 144.41272],\n",
       "                {}\n",
       "            ).addTo(map_d1cbc4d2c173ca027778d45be0dcd5c4);\n",
       "        \n",
       "    \n",
       "        var popup_1afa33023e8b3f3bd01c9f795756081b = L.popup({&quot;maxWidth&quot;: &quot;100%&quot;});\n",
       "\n",
       "        \n",
       "            \n",
       "                var html_0129ee6f068c886d33f026ec7e99f6af = $(`&lt;div id=&quot;html_0129ee6f068c886d33f026ec7e99f6af&quot; style=&quot;width: 100.0%; height: 100.0%;&quot;&gt;Trentham East: Australian (1 restaurants)&lt;/div&gt;`)[0];\n",
       "                popup_1afa33023e8b3f3bd01c9f795756081b.setContent(html_0129ee6f068c886d33f026ec7e99f6af);\n",
       "            \n",
       "        \n",
       "\n",
       "        marker_d11c9f896692f1db3dad7c3be764c476.bindPopup(popup_1afa33023e8b3f3bd01c9f795756081b)\n",
       "        ;\n",
       "\n",
       "        \n",
       "    \n",
       "    \n",
       "            var marker_b75e752f51dcdd1fecdf56a81bf476ef = L.marker(\n",
       "                [11.155734048, 36.5834827945],\n",
       "                {}\n",
       "            ).addTo(map_d1cbc4d2c173ca027778d45be0dcd5c4);\n",
       "        \n",
       "    \n",
       "        var popup_67b443fde82f0f63427b18723fc379e3 = L.popup({&quot;maxWidth&quot;: &quot;100%&quot;});\n",
       "\n",
       "        \n",
       "            \n",
       "                var html_29dda8224a0fb3ccafe76f18bf873fa2 = $(`&lt;div id=&quot;html_29dda8224a0fb3ccafe76f18bf873fa2&quot; style=&quot;width: 100.0%; height: 100.0%;&quot;&gt;Vadodara: North Indian (8 restaurants)&lt;/div&gt;`)[0];\n",
       "                popup_67b443fde82f0f63427b18723fc379e3.setContent(html_29dda8224a0fb3ccafe76f18bf873fa2);\n",
       "            \n",
       "        \n",
       "\n",
       "        marker_b75e752f51dcdd1fecdf56a81bf476ef.bindPopup(popup_67b443fde82f0f63427b18723fc379e3)\n",
       "        ;\n",
       "\n",
       "        \n",
       "    \n",
       "    \n",
       "            var marker_ebfaa6cb166d1a0d1df156e43589f436 = L.marker(\n",
       "                [30.848183210000002, -83.30159409500001],\n",
       "                {}\n",
       "            ).addTo(map_d1cbc4d2c173ca027778d45be0dcd5c4);\n",
       "        \n",
       "    \n",
       "        var popup_82398c3f49fb9b46fdf0ee157b684eca = L.popup({&quot;maxWidth&quot;: &quot;100%&quot;});\n",
       "\n",
       "        \n",
       "            \n",
       "                var html_eb8b698bc1546cc89ba39f6c89d76eb6 = $(`&lt;div id=&quot;html_eb8b698bc1546cc89ba39f6c89d76eb6&quot; style=&quot;width: 100.0%; height: 100.0%;&quot;&gt;Valdosta: Mexican (4 restaurants)&lt;/div&gt;`)[0];\n",
       "                popup_82398c3f49fb9b46fdf0ee157b684eca.setContent(html_eb8b698bc1546cc89ba39f6c89d76eb6);\n",
       "            \n",
       "        \n",
       "\n",
       "        marker_ebfaa6cb166d1a0d1df156e43589f436.bindPopup(popup_82398c3f49fb9b46fdf0ee157b684eca)\n",
       "        ;\n",
       "\n",
       "        \n",
       "    \n",
       "    \n",
       "            var marker_42bbc89dbefa0c339c5b0ddcc32a52bc = L.marker(\n",
       "                [16.450888249000002, 53.944929223500004],\n",
       "                {}\n",
       "            ).addTo(map_d1cbc4d2c173ca027778d45be0dcd5c4);\n",
       "        \n",
       "    \n",
       "        var popup_af574547d29b920dba82df2527ee9d1c = L.popup({&quot;maxWidth&quot;: &quot;100%&quot;});\n",
       "\n",
       "        \n",
       "            \n",
       "                var html_857138ab2126633646978ff7dfa05b1a = $(`&lt;div id=&quot;html_857138ab2126633646978ff7dfa05b1a&quot; style=&quot;width: 100.0%; height: 100.0%;&quot;&gt;Varanasi: North Indian (12 restaurants)&lt;/div&gt;`)[0];\n",
       "                popup_af574547d29b920dba82df2527ee9d1c.setContent(html_857138ab2126633646978ff7dfa05b1a);\n",
       "            \n",
       "        \n",
       "\n",
       "        marker_42bbc89dbefa0c339c5b0ddcc32a52bc.bindPopup(popup_af574547d29b920dba82df2527ee9d1c)\n",
       "        ;\n",
       "\n",
       "        \n",
       "    \n",
       "    \n",
       "            var marker_db56b04c02f280424d9cfb4f67da5822 = L.marker(\n",
       "                [45.858667, -123.1954368],\n",
       "                {}\n",
       "            ).addTo(map_d1cbc4d2c173ca027778d45be0dcd5c4);\n",
       "        \n",
       "    \n",
       "        var popup_0189124d7045c82200a220c51a797b53 = L.popup({&quot;maxWidth&quot;: &quot;100%&quot;});\n",
       "\n",
       "        \n",
       "            \n",
       "                var html_fd65b49290ff60906b2042eed2004b8c = $(`&lt;div id=&quot;html_fd65b49290ff60906b2042eed2004b8c&quot; style=&quot;width: 100.0%; height: 100.0%;&quot;&gt;Vernonia: Coffee and Tea (1 restaurants)&lt;/div&gt;`)[0];\n",
       "                popup_0189124d7045c82200a220c51a797b53.setContent(html_fd65b49290ff60906b2042eed2004b8c);\n",
       "            \n",
       "        \n",
       "\n",
       "        marker_db56b04c02f280424d9cfb4f67da5822.bindPopup(popup_0189124d7045c82200a220c51a797b53)\n",
       "        ;\n",
       "\n",
       "        \n",
       "    \n",
       "    \n",
       "            var marker_65d046d9971cac6bc310e9cc5adbaf34 = L.marker(\n",
       "                [-35.5536609, 138.624316],\n",
       "                {}\n",
       "            ).addTo(map_d1cbc4d2c173ca027778d45be0dcd5c4);\n",
       "        \n",
       "    \n",
       "        var popup_3e8c0ccaff371c592088d759932c5a1b = L.popup({&quot;maxWidth&quot;: &quot;100%&quot;});\n",
       "\n",
       "        \n",
       "            \n",
       "                var html_81d11abec9d2e48ea67693f99aaffdc2 = $(`&lt;div id=&quot;html_81d11abec9d2e48ea67693f99aaffdc2&quot; style=&quot;width: 100.0%; height: 100.0%;&quot;&gt;Victor Harbor: Australian (1 restaurants)&lt;/div&gt;`)[0];\n",
       "                popup_3e8c0ccaff371c592088d759932c5a1b.setContent(html_81d11abec9d2e48ea67693f99aaffdc2);\n",
       "            \n",
       "        \n",
       "\n",
       "        marker_65d046d9971cac6bc310e9cc5adbaf34.bindPopup(popup_3e8c0ccaff371c592088d759932c5a1b)\n",
       "        ;\n",
       "\n",
       "        \n",
       "    \n",
       "    \n",
       "            var marker_afb4b7545221a90c2bb27d7aea3628e9 = L.marker(\n",
       "                [43.1868697, -79.3791465],\n",
       "                {}\n",
       "            ).addTo(map_d1cbc4d2c173ca027778d45be0dcd5c4);\n",
       "        \n",
       "    \n",
       "        var popup_c6a0aa4a2845fa689d0c4f83d8c706b8 = L.popup({&quot;maxWidth&quot;: &quot;100%&quot;});\n",
       "\n",
       "        \n",
       "            \n",
       "                var html_16822a8f88072e0e95dfc76152ab620b = $(`&lt;div id=&quot;html_16822a8f88072e0e95dfc76152ab620b&quot; style=&quot;width: 100.0%; height: 100.0%;&quot;&gt;Vineland Station: Italian (1 restaurants)&lt;/div&gt;`)[0];\n",
       "                popup_c6a0aa4a2845fa689d0c4f83d8c706b8.setContent(html_16822a8f88072e0e95dfc76152ab620b);\n",
       "            \n",
       "        \n",
       "\n",
       "        marker_afb4b7545221a90c2bb27d7aea3628e9.bindPopup(popup_c6a0aa4a2845fa689d0c4f83d8c706b8)\n",
       "        ;\n",
       "\n",
       "        \n",
       "    \n",
       "    \n",
       "            var marker_808fbe55015428898814efc3bd96faf1 = L.marker(\n",
       "                [13.297467825499998, 62.492616916500005],\n",
       "                {}\n",
       "            ).addTo(map_d1cbc4d2c173ca027778d45be0dcd5c4);\n",
       "        \n",
       "    \n",
       "        var popup_ff32a9f5d08b3c1961069491ea154e29 = L.popup({&quot;maxWidth&quot;: &quot;100%&quot;});\n",
       "\n",
       "        \n",
       "            \n",
       "                var html_99533a1091ef6dbc19fa16994146b55d = $(`&lt;div id=&quot;html_99533a1091ef6dbc19fa16994146b55d&quot; style=&quot;width: 100.0%; height: 100.0%;&quot;&gt;Vizag: North Indian (10 restaurants)&lt;/div&gt;`)[0];\n",
       "                popup_ff32a9f5d08b3c1961069491ea154e29.setContent(html_99533a1091ef6dbc19fa16994146b55d);\n",
       "            \n",
       "        \n",
       "\n",
       "        marker_808fbe55015428898814efc3bd96faf1.bindPopup(popup_ff32a9f5d08b3c1961069491ea154e29)\n",
       "        ;\n",
       "\n",
       "        \n",
       "    \n",
       "    \n",
       "            var marker_53237903999c4418e6b3f6fb30a27727 = L.marker(\n",
       "                [42.511039305, -92.40852038499999],\n",
       "                {}\n",
       "            ).addTo(map_d1cbc4d2c173ca027778d45be0dcd5c4);\n",
       "        \n",
       "    \n",
       "        var popup_e3510f2b5859576fc5c0661dfe8ec0db = L.popup({&quot;maxWidth&quot;: &quot;100%&quot;});\n",
       "\n",
       "        \n",
       "            \n",
       "                var html_3880b4ed074cefab1091b3f553812bc1 = $(`&lt;div id=&quot;html_3880b4ed074cefab1091b3f553812bc1&quot; style=&quot;width: 100.0%; height: 100.0%;&quot;&gt;Waterloo: American (5 restaurants)&lt;/div&gt;`)[0];\n",
       "                popup_e3510f2b5859576fc5c0661dfe8ec0db.setContent(html_3880b4ed074cefab1091b3f553812bc1);\n",
       "            \n",
       "        \n",
       "\n",
       "        marker_53237903999c4418e6b3f6fb30a27727.bindPopup(popup_e3510f2b5859576fc5c0661dfe8ec0db)\n",
       "        ;\n",
       "\n",
       "        \n",
       "    \n",
       "    \n",
       "            var marker_3e8e4705c7de6107c9db0790c2fcc43c = L.marker(\n",
       "                [40.396043, -80.529488],\n",
       "                {}\n",
       "            ).addTo(map_d1cbc4d2c173ca027778d45be0dcd5c4);\n",
       "        \n",
       "    \n",
       "        var popup_c595726fb5658b92341f33c2c9bb21e6 = L.popup({&quot;maxWidth&quot;: &quot;100%&quot;});\n",
       "\n",
       "        \n",
       "            \n",
       "                var html_18aaad54921ab56610395ed6fc899f34 = $(`&lt;div id=&quot;html_18aaad54921ab56610395ed6fc899f34&quot; style=&quot;width: 100.0%; height: 100.0%;&quot;&gt;Weirton: Burger (1 restaurants)&lt;/div&gt;`)[0];\n",
       "                popup_c595726fb5658b92341f33c2c9bb21e6.setContent(html_18aaad54921ab56610395ed6fc899f34);\n",
       "            \n",
       "        \n",
       "\n",
       "        marker_3e8e4705c7de6107c9db0790c2fcc43c.bindPopup(popup_c595726fb5658b92341f33c2c9bb21e6)\n",
       "        ;\n",
       "\n",
       "        \n",
       "    \n",
       "    \n",
       "            var marker_bd373b2ab21ae7370d5e8ba8912e7885 = L.marker(\n",
       "                [-41.293814186, 174.77810018],\n",
       "                {}\n",
       "            ).addTo(map_d1cbc4d2c173ca027778d45be0dcd5c4);\n",
       "        \n",
       "    \n",
       "        var popup_342041c6538a35c2a6e4acb061feb00d = L.popup({&quot;maxWidth&quot;: &quot;100%&quot;});\n",
       "\n",
       "        \n",
       "            \n",
       "                var html_2bff4deae4d6f1899374b3adfee0f850 = $(`&lt;div id=&quot;html_2bff4deae4d6f1899374b3adfee0f850&quot; style=&quot;width: 100.0%; height: 100.0%;&quot;&gt;Wellington City: Cafe (9 restaurants)&lt;/div&gt;`)[0];\n",
       "                popup_342041c6538a35c2a6e4acb061feb00d.setContent(html_2bff4deae4d6f1899374b3adfee0f850);\n",
       "            \n",
       "        \n",
       "\n",
       "        marker_bd373b2ab21ae7370d5e8ba8912e7885.bindPopup(popup_342041c6538a35c2a6e4acb061feb00d)\n",
       "        ;\n",
       "\n",
       "        \n",
       "    \n",
       "    \n",
       "            var marker_e2f5c0e1e61fa61de716dccf21dbcf2f = L.marker(\n",
       "                [43.678998, -124.175346],\n",
       "                {}\n",
       "            ).addTo(map_d1cbc4d2c173ca027778d45be0dcd5c4);\n",
       "        \n",
       "    \n",
       "        var popup_4097ca7e32b690dbd4f79bb914c0aadc = L.popup({&quot;maxWidth&quot;: &quot;100%&quot;});\n",
       "\n",
       "        \n",
       "            \n",
       "                var html_83d5ee68cd177a98e6393fe29d00b49a = $(`&lt;div id=&quot;html_83d5ee68cd177a98e6393fe29d00b49a&quot; style=&quot;width: 100.0%; height: 100.0%;&quot;&gt;Winchester Bay: Burger (1 restaurants)&lt;/div&gt;`)[0];\n",
       "                popup_4097ca7e32b690dbd4f79bb914c0aadc.setContent(html_83d5ee68cd177a98e6393fe29d00b49a);\n",
       "            \n",
       "        \n",
       "\n",
       "        marker_e2f5c0e1e61fa61de716dccf21dbcf2f.bindPopup(popup_4097ca7e32b690dbd4f79bb914c0aadc)\n",
       "        ;\n",
       "\n",
       "        \n",
       "    \n",
       "    \n",
       "            var marker_ad4a43ec7382a16710e60010f4ab7e0f = L.marker(\n",
       "                [51.2106824, -102.4613173],\n",
       "                {}\n",
       "            ).addTo(map_d1cbc4d2c173ca027778d45be0dcd5c4);\n",
       "        \n",
       "    \n",
       "        var popup_90e0ca0a7857fb1d4647870ceeb0acf9 = L.popup({&quot;maxWidth&quot;: &quot;100%&quot;});\n",
       "\n",
       "        \n",
       "            \n",
       "                var html_e9595cf1e1c8e4e4a3ea7c1c1efab0ad = $(`&lt;div id=&quot;html_e9595cf1e1c8e4e4a3ea7c1c1efab0ad&quot; style=&quot;width: 100.0%; height: 100.0%;&quot;&gt;Yorkton: Asian (1 restaurants)&lt;/div&gt;`)[0];\n",
       "                popup_90e0ca0a7857fb1d4647870ceeb0acf9.setContent(html_e9595cf1e1c8e4e4a3ea7c1c1efab0ad);\n",
       "            \n",
       "        \n",
       "\n",
       "        marker_ad4a43ec7382a16710e60010f4ab7e0f.bindPopup(popup_90e0ca0a7857fb1d4647870ceeb0acf9)\n",
       "        ;\n",
       "\n",
       "        \n",
       "    \n",
       "    \n",
       "            var marker_9da3894407fde7336e5b5d4498eaa067 = L.marker(\n",
       "                [41.02990383499999, 29.016331271428573],\n",
       "                {}\n",
       "            ).addTo(map_d1cbc4d2c173ca027778d45be0dcd5c4);\n",
       "        \n",
       "    \n",
       "        var popup_a88f85c7328b59d6cff01a73ac06ecff = L.popup({&quot;maxWidth&quot;: &quot;100%&quot;});\n",
       "\n",
       "        \n",
       "            \n",
       "                var html_00a0019857d353d80f5432f3b0122b8f = $(`&lt;div id=&quot;html_00a0019857d353d80f5432f3b0122b8f&quot; style=&quot;width: 100.0%; height: 100.0%;&quot;&gt;哿stanbul: Cafe (4 restaurants)&lt;/div&gt;`)[0];\n",
       "                popup_a88f85c7328b59d6cff01a73ac06ecff.setContent(html_00a0019857d353d80f5432f3b0122b8f);\n",
       "            \n",
       "        \n",
       "\n",
       "        marker_9da3894407fde7336e5b5d4498eaa067.bindPopup(popup_a88f85c7328b59d6cff01a73ac06ecff)\n",
       "        ;\n",
       "\n",
       "        \n",
       "    \n",
       "    \n",
       "            marker_cluster_72d43044f160b0ae6f3a6825db048fd2.addTo(map_d1cbc4d2c173ca027778d45be0dcd5c4);\n",
       "        \n",
       "&lt;/script&gt;\n",
       "&lt;/html&gt;\" style=\"position:absolute;width:100%;height:100%;left:0;top:0;border:none !important;\" allowfullscreen webkitallowfullscreen mozallowfullscreen></iframe></div></div>"
      ],
      "text/plain": [
       "<folium.folium.Map at 0x19af1996fd0>"
      ]
     },
     "execution_count": 76,
     "metadata": {},
     "output_type": "execute_result"
    }
   ],
   "source": [
    "#4 Find the most common cuisine in each city\n",
    "\n",
    "# Assuming your dataframe is named 'df'\n",
    "# Replace 'df' with your actual dataframe name if different\n",
    "\n",
    "# Drop rows with missing values in the 'Cuisines' column\n",
    "df = zomato_data.dropna(subset=['Cuisines'])\n",
    "\n",
    "# Split cuisines and create a new row for each cuisine\n",
    "df_cuisines = df['Cuisines'].str.split(', ', expand=True).stack().reset_index(level=1, drop=True).rename('Cuisine')\n",
    "df_split = df.join(df_cuisines)\n",
    "\n",
    "# Group by city and cuisine, count the occurrences of each cuisine in each city\n",
    "city_cuisine_count = df_split.groupby(['City', 'Cuisine']).size().reset_index(name='Count')\n",
    "\n",
    "# Find the most common cuisine in each city\n",
    "city_top_cuisine = city_cuisine_count.sort_values(by=['City', 'Count'], ascending=[True, False]).groupby('City').first().reset_index()\n",
    "\n",
    "# Create a map\n",
    "map = folium.Map(location=[df['Latitude'].mean(), df['Longitude'].mean()], zoom_start=10)\n",
    "\n",
    "# Mark the locations of restaurants serving the most common cuisine in each city\n",
    "marker_cluster = MarkerCluster().add_to(map)\n",
    "for index, row in city_top_cuisine.iterrows():\n",
    "    city = row['City']\n",
    "    cuisine = row['Cuisine']\n",
    "    count = row['Count']\n",
    "    lat = df[df['City'] == city]['Latitude'].mean()\n",
    "    lon = df[df['City'] == city]['Longitude'].mean()\n",
    "    folium.Marker([lat, lon], popup=f\"{city}: {cuisine} ({count} restaurants)\").add_to(marker_cluster).add_to(map)\n",
    "\n",
    "# Save the map to an HTML file\n",
    "#map.save(\"famous_cuisine_map.html\")\n",
    "print(\"locations of restaurants serving the most common cuisine in each city\")\n",
    "map\n",
    "\n"
   ]
  },
  {
   "cell_type": "code",
   "execution_count": 77,
   "metadata": {},
   "outputs": [
    {
     "data": {
      "application/vnd.plotly.v1+json": {
       "config": {
        "plotlyServerURL": "https://plot.ly"
       },
       "data": [
        {
         "alignmentgroup": "True",
         "hovertemplate": "Cuisines=%{x}<br>Average Cost for two=%{y}<extra></extra>",
         "legendgroup": "Asian, Indonesian, Western",
         "marker": {
          "color": "#636efa",
          "pattern": {
           "shape": ""
          }
         },
         "name": "Asian, Indonesian, Western",
         "offsetgroup": "Asian, Indonesian, Western",
         "orientation": "v",
         "showlegend": true,
         "textposition": "auto",
         "type": "bar",
         "x": [
          "Asian, Indonesian, Western"
         ],
         "xaxis": "x",
         "y": [
          800000
         ],
         "yaxis": "y"
        },
        {
         "alignmentgroup": "True",
         "hovertemplate": "Cuisines=%{x}<br>Average Cost for two=%{y}<extra></extra>",
         "legendgroup": "French, Western",
         "marker": {
          "color": "#EF553B",
          "pattern": {
           "shape": ""
          }
         },
         "name": "French, Western",
         "offsetgroup": "French, Western",
         "orientation": "v",
         "showlegend": true,
         "textposition": "auto",
         "type": "bar",
         "x": [
          "French, Western"
         ],
         "xaxis": "x",
         "y": [
          350000
         ],
         "yaxis": "y"
        },
        {
         "alignmentgroup": "True",
         "hovertemplate": "Cuisines=%{x}<br>Average Cost for two=%{y}<extra></extra>",
         "legendgroup": "Cafe, Western",
         "marker": {
          "color": "#00cc96",
          "pattern": {
           "shape": ""
          }
         },
         "name": "Cafe, Western",
         "offsetgroup": "Cafe, Western",
         "orientation": "v",
         "showlegend": true,
         "textposition": "auto",
         "type": "bar",
         "x": [
          "Cafe, Western"
         ],
         "xaxis": "x",
         "y": [
          300000
         ],
         "yaxis": "y"
        },
        {
         "alignmentgroup": "True",
         "hovertemplate": "Cuisines=%{x}<br>Average Cost for two=%{y}<extra></extra>",
         "legendgroup": "Indonesian",
         "marker": {
          "color": "#ab63fa",
          "pattern": {
           "shape": ""
          }
         },
         "name": "Indonesian",
         "offsetgroup": "Indonesian",
         "orientation": "v",
         "showlegend": true,
         "textposition": "auto",
         "type": "bar",
         "x": [
          "Indonesian"
         ],
         "xaxis": "x",
         "y": [
          300000
         ],
         "yaxis": "y"
        },
        {
         "alignmentgroup": "True",
         "hovertemplate": "Cuisines=%{x}<br>Average Cost for two=%{y}<extra></extra>",
         "legendgroup": "Sushi, Japanese",
         "marker": {
          "color": "#FFA15A",
          "pattern": {
           "shape": ""
          }
         },
         "name": "Sushi, Japanese",
         "offsetgroup": "Sushi, Japanese",
         "orientation": "v",
         "showlegend": true,
         "textposition": "auto",
         "type": "bar",
         "x": [
          "Sushi, Japanese"
         ],
         "xaxis": "x",
         "y": [
          250060
         ],
         "yaxis": "y"
        },
        {
         "alignmentgroup": "True",
         "hovertemplate": "Cuisines=%{x}<br>Average Cost for two=%{y}<extra></extra>",
         "legendgroup": "Peranakan, Indonesian",
         "marker": {
          "color": "#19d3f3",
          "pattern": {
           "shape": ""
          }
         },
         "name": "Peranakan, Indonesian",
         "offsetgroup": "Peranakan, Indonesian",
         "orientation": "v",
         "showlegend": true,
         "textposition": "auto",
         "type": "bar",
         "x": [
          "Peranakan, Indonesian"
         ],
         "xaxis": "x",
         "y": [
          250000
         ],
         "yaxis": "y"
        },
        {
         "alignmentgroup": "True",
         "hovertemplate": "Cuisines=%{x}<br>Average Cost for two=%{y}<extra></extra>",
         "legendgroup": "Western, Asian, Cafe",
         "marker": {
          "color": "#FF6692",
          "pattern": {
           "shape": ""
          }
         },
         "name": "Western, Asian, Cafe",
         "offsetgroup": "Western, Asian, Cafe",
         "orientation": "v",
         "showlegend": true,
         "textposition": "auto",
         "type": "bar",
         "x": [
          "Western, Asian, Cafe"
         ],
         "xaxis": "x",
         "y": [
          250000
         ],
         "yaxis": "y"
        },
        {
         "alignmentgroup": "True",
         "hovertemplate": "Cuisines=%{x}<br>Average Cost for two=%{y}<extra></extra>",
         "legendgroup": "Sunda, Indonesian",
         "marker": {
          "color": "#B6E880",
          "pattern": {
           "shape": ""
          }
         },
         "name": "Sunda, Indonesian",
         "offsetgroup": "Sunda, Indonesian",
         "orientation": "v",
         "showlegend": true,
         "textposition": "auto",
         "type": "bar",
         "x": [
          "Sunda, Indonesian"
         ],
         "xaxis": "x",
         "y": [
          200000
         ],
         "yaxis": "y"
        },
        {
         "alignmentgroup": "True",
         "hovertemplate": "Cuisines=%{x}<br>Average Cost for two=%{y}<extra></extra>",
         "legendgroup": "Desserts, Bakery, Western",
         "marker": {
          "color": "#FF97FF",
          "pattern": {
           "shape": ""
          }
         },
         "name": "Desserts, Bakery, Western",
         "offsetgroup": "Desserts, Bakery, Western",
         "orientation": "v",
         "showlegend": true,
         "textposition": "auto",
         "type": "bar",
         "x": [
          "Desserts, Bakery, Western"
         ],
         "xaxis": "x",
         "y": [
          200000
         ],
         "yaxis": "y"
        },
        {
         "alignmentgroup": "True",
         "hovertemplate": "Cuisines=%{x}<br>Average Cost for two=%{y}<extra></extra>",
         "legendgroup": "Japanese, Sushi, Ramen",
         "marker": {
          "color": "#FECB52",
          "pattern": {
           "shape": ""
          }
         },
         "name": "Japanese, Sushi, Ramen",
         "offsetgroup": "Japanese, Sushi, Ramen",
         "orientation": "v",
         "showlegend": true,
         "textposition": "auto",
         "type": "bar",
         "x": [
          "Japanese, Sushi, Ramen"
         ],
         "xaxis": "x",
         "y": [
          200000
         ],
         "yaxis": "y"
        }
       ],
       "layout": {
        "barmode": "relative",
        "legend": {
         "title": {
          "text": "Cuisines"
         },
         "tracegroupgap": 0
        },
        "template": {
         "data": {
          "bar": [
           {
            "error_x": {
             "color": "#2a3f5f"
            },
            "error_y": {
             "color": "#2a3f5f"
            },
            "marker": {
             "line": {
              "color": "#E5ECF6",
              "width": 0.5
             },
             "pattern": {
              "fillmode": "overlay",
              "size": 10,
              "solidity": 0.2
             }
            },
            "type": "bar"
           }
          ],
          "barpolar": [
           {
            "marker": {
             "line": {
              "color": "#E5ECF6",
              "width": 0.5
             },
             "pattern": {
              "fillmode": "overlay",
              "size": 10,
              "solidity": 0.2
             }
            },
            "type": "barpolar"
           }
          ],
          "carpet": [
           {
            "aaxis": {
             "endlinecolor": "#2a3f5f",
             "gridcolor": "white",
             "linecolor": "white",
             "minorgridcolor": "white",
             "startlinecolor": "#2a3f5f"
            },
            "baxis": {
             "endlinecolor": "#2a3f5f",
             "gridcolor": "white",
             "linecolor": "white",
             "minorgridcolor": "white",
             "startlinecolor": "#2a3f5f"
            },
            "type": "carpet"
           }
          ],
          "choropleth": [
           {
            "colorbar": {
             "outlinewidth": 0,
             "ticks": ""
            },
            "type": "choropleth"
           }
          ],
          "contour": [
           {
            "colorbar": {
             "outlinewidth": 0,
             "ticks": ""
            },
            "colorscale": [
             [
              0,
              "#0d0887"
             ],
             [
              0.1111111111111111,
              "#46039f"
             ],
             [
              0.2222222222222222,
              "#7201a8"
             ],
             [
              0.3333333333333333,
              "#9c179e"
             ],
             [
              0.4444444444444444,
              "#bd3786"
             ],
             [
              0.5555555555555556,
              "#d8576b"
             ],
             [
              0.6666666666666666,
              "#ed7953"
             ],
             [
              0.7777777777777778,
              "#fb9f3a"
             ],
             [
              0.8888888888888888,
              "#fdca26"
             ],
             [
              1,
              "#f0f921"
             ]
            ],
            "type": "contour"
           }
          ],
          "contourcarpet": [
           {
            "colorbar": {
             "outlinewidth": 0,
             "ticks": ""
            },
            "type": "contourcarpet"
           }
          ],
          "heatmap": [
           {
            "colorbar": {
             "outlinewidth": 0,
             "ticks": ""
            },
            "colorscale": [
             [
              0,
              "#0d0887"
             ],
             [
              0.1111111111111111,
              "#46039f"
             ],
             [
              0.2222222222222222,
              "#7201a8"
             ],
             [
              0.3333333333333333,
              "#9c179e"
             ],
             [
              0.4444444444444444,
              "#bd3786"
             ],
             [
              0.5555555555555556,
              "#d8576b"
             ],
             [
              0.6666666666666666,
              "#ed7953"
             ],
             [
              0.7777777777777778,
              "#fb9f3a"
             ],
             [
              0.8888888888888888,
              "#fdca26"
             ],
             [
              1,
              "#f0f921"
             ]
            ],
            "type": "heatmap"
           }
          ],
          "heatmapgl": [
           {
            "colorbar": {
             "outlinewidth": 0,
             "ticks": ""
            },
            "colorscale": [
             [
              0,
              "#0d0887"
             ],
             [
              0.1111111111111111,
              "#46039f"
             ],
             [
              0.2222222222222222,
              "#7201a8"
             ],
             [
              0.3333333333333333,
              "#9c179e"
             ],
             [
              0.4444444444444444,
              "#bd3786"
             ],
             [
              0.5555555555555556,
              "#d8576b"
             ],
             [
              0.6666666666666666,
              "#ed7953"
             ],
             [
              0.7777777777777778,
              "#fb9f3a"
             ],
             [
              0.8888888888888888,
              "#fdca26"
             ],
             [
              1,
              "#f0f921"
             ]
            ],
            "type": "heatmapgl"
           }
          ],
          "histogram": [
           {
            "marker": {
             "pattern": {
              "fillmode": "overlay",
              "size": 10,
              "solidity": 0.2
             }
            },
            "type": "histogram"
           }
          ],
          "histogram2d": [
           {
            "colorbar": {
             "outlinewidth": 0,
             "ticks": ""
            },
            "colorscale": [
             [
              0,
              "#0d0887"
             ],
             [
              0.1111111111111111,
              "#46039f"
             ],
             [
              0.2222222222222222,
              "#7201a8"
             ],
             [
              0.3333333333333333,
              "#9c179e"
             ],
             [
              0.4444444444444444,
              "#bd3786"
             ],
             [
              0.5555555555555556,
              "#d8576b"
             ],
             [
              0.6666666666666666,
              "#ed7953"
             ],
             [
              0.7777777777777778,
              "#fb9f3a"
             ],
             [
              0.8888888888888888,
              "#fdca26"
             ],
             [
              1,
              "#f0f921"
             ]
            ],
            "type": "histogram2d"
           }
          ],
          "histogram2dcontour": [
           {
            "colorbar": {
             "outlinewidth": 0,
             "ticks": ""
            },
            "colorscale": [
             [
              0,
              "#0d0887"
             ],
             [
              0.1111111111111111,
              "#46039f"
             ],
             [
              0.2222222222222222,
              "#7201a8"
             ],
             [
              0.3333333333333333,
              "#9c179e"
             ],
             [
              0.4444444444444444,
              "#bd3786"
             ],
             [
              0.5555555555555556,
              "#d8576b"
             ],
             [
              0.6666666666666666,
              "#ed7953"
             ],
             [
              0.7777777777777778,
              "#fb9f3a"
             ],
             [
              0.8888888888888888,
              "#fdca26"
             ],
             [
              1,
              "#f0f921"
             ]
            ],
            "type": "histogram2dcontour"
           }
          ],
          "mesh3d": [
           {
            "colorbar": {
             "outlinewidth": 0,
             "ticks": ""
            },
            "type": "mesh3d"
           }
          ],
          "parcoords": [
           {
            "line": {
             "colorbar": {
              "outlinewidth": 0,
              "ticks": ""
             }
            },
            "type": "parcoords"
           }
          ],
          "pie": [
           {
            "automargin": true,
            "type": "pie"
           }
          ],
          "scatter": [
           {
            "fillpattern": {
             "fillmode": "overlay",
             "size": 10,
             "solidity": 0.2
            },
            "type": "scatter"
           }
          ],
          "scatter3d": [
           {
            "line": {
             "colorbar": {
              "outlinewidth": 0,
              "ticks": ""
             }
            },
            "marker": {
             "colorbar": {
              "outlinewidth": 0,
              "ticks": ""
             }
            },
            "type": "scatter3d"
           }
          ],
          "scattercarpet": [
           {
            "marker": {
             "colorbar": {
              "outlinewidth": 0,
              "ticks": ""
             }
            },
            "type": "scattercarpet"
           }
          ],
          "scattergeo": [
           {
            "marker": {
             "colorbar": {
              "outlinewidth": 0,
              "ticks": ""
             }
            },
            "type": "scattergeo"
           }
          ],
          "scattergl": [
           {
            "marker": {
             "colorbar": {
              "outlinewidth": 0,
              "ticks": ""
             }
            },
            "type": "scattergl"
           }
          ],
          "scattermapbox": [
           {
            "marker": {
             "colorbar": {
              "outlinewidth": 0,
              "ticks": ""
             }
            },
            "type": "scattermapbox"
           }
          ],
          "scatterpolar": [
           {
            "marker": {
             "colorbar": {
              "outlinewidth": 0,
              "ticks": ""
             }
            },
            "type": "scatterpolar"
           }
          ],
          "scatterpolargl": [
           {
            "marker": {
             "colorbar": {
              "outlinewidth": 0,
              "ticks": ""
             }
            },
            "type": "scatterpolargl"
           }
          ],
          "scatterternary": [
           {
            "marker": {
             "colorbar": {
              "outlinewidth": 0,
              "ticks": ""
             }
            },
            "type": "scatterternary"
           }
          ],
          "surface": [
           {
            "colorbar": {
             "outlinewidth": 0,
             "ticks": ""
            },
            "colorscale": [
             [
              0,
              "#0d0887"
             ],
             [
              0.1111111111111111,
              "#46039f"
             ],
             [
              0.2222222222222222,
              "#7201a8"
             ],
             [
              0.3333333333333333,
              "#9c179e"
             ],
             [
              0.4444444444444444,
              "#bd3786"
             ],
             [
              0.5555555555555556,
              "#d8576b"
             ],
             [
              0.6666666666666666,
              "#ed7953"
             ],
             [
              0.7777777777777778,
              "#fb9f3a"
             ],
             [
              0.8888888888888888,
              "#fdca26"
             ],
             [
              1,
              "#f0f921"
             ]
            ],
            "type": "surface"
           }
          ],
          "table": [
           {
            "cells": {
             "fill": {
              "color": "#EBF0F8"
             },
             "line": {
              "color": "white"
             }
            },
            "header": {
             "fill": {
              "color": "#C8D4E3"
             },
             "line": {
              "color": "white"
             }
            },
            "type": "table"
           }
          ]
         },
         "layout": {
          "annotationdefaults": {
           "arrowcolor": "#2a3f5f",
           "arrowhead": 0,
           "arrowwidth": 1
          },
          "autotypenumbers": "strict",
          "coloraxis": {
           "colorbar": {
            "outlinewidth": 0,
            "ticks": ""
           }
          },
          "colorscale": {
           "diverging": [
            [
             0,
             "#8e0152"
            ],
            [
             0.1,
             "#c51b7d"
            ],
            [
             0.2,
             "#de77ae"
            ],
            [
             0.3,
             "#f1b6da"
            ],
            [
             0.4,
             "#fde0ef"
            ],
            [
             0.5,
             "#f7f7f7"
            ],
            [
             0.6,
             "#e6f5d0"
            ],
            [
             0.7,
             "#b8e186"
            ],
            [
             0.8,
             "#7fbc41"
            ],
            [
             0.9,
             "#4d9221"
            ],
            [
             1,
             "#276419"
            ]
           ],
           "sequential": [
            [
             0,
             "#0d0887"
            ],
            [
             0.1111111111111111,
             "#46039f"
            ],
            [
             0.2222222222222222,
             "#7201a8"
            ],
            [
             0.3333333333333333,
             "#9c179e"
            ],
            [
             0.4444444444444444,
             "#bd3786"
            ],
            [
             0.5555555555555556,
             "#d8576b"
            ],
            [
             0.6666666666666666,
             "#ed7953"
            ],
            [
             0.7777777777777778,
             "#fb9f3a"
            ],
            [
             0.8888888888888888,
             "#fdca26"
            ],
            [
             1,
             "#f0f921"
            ]
           ],
           "sequentialminus": [
            [
             0,
             "#0d0887"
            ],
            [
             0.1111111111111111,
             "#46039f"
            ],
            [
             0.2222222222222222,
             "#7201a8"
            ],
            [
             0.3333333333333333,
             "#9c179e"
            ],
            [
             0.4444444444444444,
             "#bd3786"
            ],
            [
             0.5555555555555556,
             "#d8576b"
            ],
            [
             0.6666666666666666,
             "#ed7953"
            ],
            [
             0.7777777777777778,
             "#fb9f3a"
            ],
            [
             0.8888888888888888,
             "#fdca26"
            ],
            [
             1,
             "#f0f921"
            ]
           ]
          },
          "colorway": [
           "#636efa",
           "#EF553B",
           "#00cc96",
           "#ab63fa",
           "#FFA15A",
           "#19d3f3",
           "#FF6692",
           "#B6E880",
           "#FF97FF",
           "#FECB52"
          ],
          "font": {
           "color": "#2a3f5f"
          },
          "geo": {
           "bgcolor": "white",
           "lakecolor": "white",
           "landcolor": "#E5ECF6",
           "showlakes": true,
           "showland": true,
           "subunitcolor": "white"
          },
          "hoverlabel": {
           "align": "left"
          },
          "hovermode": "closest",
          "mapbox": {
           "style": "light"
          },
          "paper_bgcolor": "white",
          "plot_bgcolor": "#E5ECF6",
          "polar": {
           "angularaxis": {
            "gridcolor": "white",
            "linecolor": "white",
            "ticks": ""
           },
           "bgcolor": "#E5ECF6",
           "radialaxis": {
            "gridcolor": "white",
            "linecolor": "white",
            "ticks": ""
           }
          },
          "scene": {
           "xaxis": {
            "backgroundcolor": "#E5ECF6",
            "gridcolor": "white",
            "gridwidth": 2,
            "linecolor": "white",
            "showbackground": true,
            "ticks": "",
            "zerolinecolor": "white"
           },
           "yaxis": {
            "backgroundcolor": "#E5ECF6",
            "gridcolor": "white",
            "gridwidth": 2,
            "linecolor": "white",
            "showbackground": true,
            "ticks": "",
            "zerolinecolor": "white"
           },
           "zaxis": {
            "backgroundcolor": "#E5ECF6",
            "gridcolor": "white",
            "gridwidth": 2,
            "linecolor": "white",
            "showbackground": true,
            "ticks": "",
            "zerolinecolor": "white"
           }
          },
          "shapedefaults": {
           "line": {
            "color": "#2a3f5f"
           }
          },
          "ternary": {
           "aaxis": {
            "gridcolor": "white",
            "linecolor": "white",
            "ticks": ""
           },
           "baxis": {
            "gridcolor": "white",
            "linecolor": "white",
            "ticks": ""
           },
           "bgcolor": "#E5ECF6",
           "caxis": {
            "gridcolor": "white",
            "linecolor": "white",
            "ticks": ""
           }
          },
          "title": {
           "x": 0.05
          },
          "xaxis": {
           "automargin": true,
           "gridcolor": "white",
           "linecolor": "white",
           "ticks": "",
           "title": {
            "standoff": 15
           },
           "zerolinecolor": "white",
           "zerolinewidth": 2
          },
          "yaxis": {
           "automargin": true,
           "gridcolor": "white",
           "linecolor": "white",
           "ticks": "",
           "title": {
            "standoff": 15
           },
           "zerolinecolor": "white",
           "zerolinewidth": 2
          }
         }
        },
        "title": {
         "text": "Top 10 Costliest Cuisines"
        },
        "xaxis": {
         "anchor": "y",
         "categoryarray": [
          "Asian, Indonesian, Western",
          "French, Western",
          "Cafe, Western",
          "Indonesian",
          "Sushi, Japanese",
          "Peranakan, Indonesian",
          "Western, Asian, Cafe",
          "Sunda, Indonesian",
          "Desserts, Bakery, Western",
          "Japanese, Sushi, Ramen"
         ],
         "categoryorder": "array",
         "domain": [
          0,
          1
         ],
         "title": {
          "text": "Cuisines"
         }
        },
        "yaxis": {
         "anchor": "x",
         "domain": [
          0,
          1
         ],
         "title": {
          "text": "Average Cost for two"
         }
        }
       }
      }
     },
     "metadata": {},
     "output_type": "display_data"
    }
   ],
   "source": [
    "#5 top 10 Average Cost for Two for Each Cuisine\n",
    "\n",
    "# Assuming your dataframe is named 'df'\n",
    "# Replace 'df' with your actual dataframe name if different\n",
    "\n",
    "# Drop rows with missing cuisines\n",
    "zomato_data.dropna(subset=['Cuisines'], inplace=True)\n",
    "\n",
    "# Calculate average cost for two for each cuisine\n",
    "cuisine_avg_cost = zomato_data.groupby('Cuisines')['Average Cost for two'].mean().reset_index()\n",
    "cuisine_avg_cost = cuisine_avg_cost.sort_values(by='Average Cost for two', ascending=False).head(10)\n",
    "\n",
    "# Bar chart for top 10 Average Cost for Two for Each Cuisine\n",
    "fig = px.bar(cuisine_avg_cost, x='Cuisines', y='Average Cost for two', title='Top 10 Costliest Cuisines',color='Cuisines')\n",
    "fig.show()\n"
   ]
  },
  {
   "cell_type": "code",
   "execution_count": 78,
   "metadata": {},
   "outputs": [
    {
     "data": {
      "application/vnd.plotly.v1+json": {
       "config": {
        "plotlyServerURL": "https://plot.ly"
       },
       "data": [
        {
         "alignmentgroup": "True",
         "hovertemplate": "Rating text=Excellent<br>City=%{x}<br>Count=%{y}<extra></extra>",
         "legendgroup": "Excellent",
         "marker": {
          "color": "#636efa",
          "pattern": {
           "shape": ""
          }
         },
         "name": "Excellent",
         "offsetgroup": "Excellent",
         "orientation": "v",
         "showlegend": true,
         "textposition": "auto",
         "type": "bar",
         "x": [
          "Faridabad",
          "Gurgaon",
          "New Delhi",
          "Noida"
         ],
         "xaxis": "x",
         "y": [
          1,
          12,
          28,
          2
         ],
         "yaxis": "y"
        },
        {
         "alignmentgroup": "True",
         "hovertemplate": "Rating text=Very Good<br>City=%{x}<br>Count=%{y}<extra></extra>",
         "legendgroup": "Very Good",
         "marker": {
          "color": "#EF553B",
          "pattern": {
           "shape": ""
          }
         },
         "name": "Very Good",
         "offsetgroup": "Very Good",
         "orientation": "v",
         "showlegend": true,
         "textposition": "auto",
         "type": "bar",
         "x": [
          "Faridabad",
          "Gurgaon",
          "New Delhi",
          "Noida"
         ],
         "xaxis": "x2",
         "y": [
          3,
          83,
          300,
          27
         ],
         "yaxis": "y2"
        },
        {
         "alignmentgroup": "True",
         "hovertemplate": "Rating text=Good<br>City=%{x}<br>Count=%{y}<extra></extra>",
         "legendgroup": "Good",
         "marker": {
          "color": "#00cc96",
          "pattern": {
           "shape": ""
          }
         },
         "name": "Good",
         "offsetgroup": "Good",
         "orientation": "v",
         "showlegend": true,
         "textposition": "auto",
         "type": "bar",
         "x": [
          "Faridabad",
          "Ghaziabad",
          "Gurgaon",
          "New Delhi",
          "Noida"
         ],
         "xaxis": "x3",
         "y": [
          22,
          4,
          257,
          1128,
          173
         ],
         "yaxis": "y3"
        },
        {
         "alignmentgroup": "True",
         "hovertemplate": "Rating text=Average<br>City=%{x}<br>Count=%{y}<extra></extra>",
         "legendgroup": "Average",
         "marker": {
          "color": "#ab63fa",
          "pattern": {
           "shape": ""
          }
         },
         "name": "Average",
         "offsetgroup": "Average",
         "orientation": "v",
         "showlegend": true,
         "textposition": "auto",
         "type": "bar",
         "x": [
          "Faridabad",
          "Ghaziabad",
          "Gurgaon",
          "New Delhi",
          "Noida"
         ],
         "xaxis": "x4",
         "y": [
          123,
          18,
          504,
          2495,
          449
         ],
         "yaxis": "y4"
        },
        {
         "alignmentgroup": "True",
         "hovertemplate": "Rating text=Not rated<br>City=%{x}<br>Count=%{y}<extra></extra>",
         "legendgroup": "Not rated",
         "marker": {
          "color": "#FFA15A",
          "pattern": {
           "shape": ""
          }
         },
         "name": "Not rated",
         "offsetgroup": "Not rated",
         "orientation": "v",
         "showlegend": true,
         "textposition": "auto",
         "type": "bar",
         "x": [
          "Faridabad",
          "Ghaziabad",
          "Gurgaon",
          "New Delhi",
          "Noida"
         ],
         "xaxis": "x5",
         "y": [
          100,
          2,
          228,
          1425,
          384
         ],
         "yaxis": "y5"
        },
        {
         "alignmentgroup": "True",
         "hovertemplate": "Rating text=Poor<br>City=%{x}<br>Count=%{y}<extra></extra>",
         "legendgroup": "Poor",
         "marker": {
          "color": "#19d3f3",
          "pattern": {
           "shape": ""
          }
         },
         "name": "Poor",
         "offsetgroup": "Poor",
         "orientation": "v",
         "showlegend": true,
         "textposition": "auto",
         "type": "bar",
         "x": [
          "Faridabad",
          "Ghaziabad",
          "Gurgaon",
          "New Delhi",
          "Noida"
         ],
         "xaxis": "x6",
         "y": [
          2,
          1,
          34,
          97,
          45
         ],
         "yaxis": "y6"
        }
       ],
       "layout": {
        "annotations": [
         {
          "font": {},
          "showarrow": false,
          "text": "Rating text=Excellent",
          "x": 0.075,
          "xanchor": "center",
          "xref": "paper",
          "y": 1,
          "yanchor": "bottom",
          "yref": "paper"
         },
         {
          "font": {},
          "showarrow": false,
          "text": "Rating text=Very Good",
          "x": 0.24499999999999997,
          "xanchor": "center",
          "xref": "paper",
          "y": 1,
          "yanchor": "bottom",
          "yref": "paper"
         },
         {
          "font": {},
          "showarrow": false,
          "text": "Rating text=Good",
          "x": 0.415,
          "xanchor": "center",
          "xref": "paper",
          "y": 1,
          "yanchor": "bottom",
          "yref": "paper"
         },
         {
          "font": {},
          "showarrow": false,
          "text": "Rating text=Average",
          "x": 0.585,
          "xanchor": "center",
          "xref": "paper",
          "y": 1,
          "yanchor": "bottom",
          "yref": "paper"
         },
         {
          "font": {},
          "showarrow": false,
          "text": "Rating text=Not rated",
          "x": 0.7549999999999999,
          "xanchor": "center",
          "xref": "paper",
          "y": 1,
          "yanchor": "bottom",
          "yref": "paper"
         },
         {
          "font": {},
          "showarrow": false,
          "text": "Rating text=Poor",
          "x": 0.925,
          "xanchor": "center",
          "xref": "paper",
          "y": 1,
          "yanchor": "bottom",
          "yref": "paper"
         }
        ],
        "barmode": "relative",
        "legend": {
         "title": {
          "text": "Rating text"
         },
         "tracegroupgap": 0
        },
        "template": {
         "data": {
          "bar": [
           {
            "error_x": {
             "color": "#2a3f5f"
            },
            "error_y": {
             "color": "#2a3f5f"
            },
            "marker": {
             "line": {
              "color": "#E5ECF6",
              "width": 0.5
             },
             "pattern": {
              "fillmode": "overlay",
              "size": 10,
              "solidity": 0.2
             }
            },
            "type": "bar"
           }
          ],
          "barpolar": [
           {
            "marker": {
             "line": {
              "color": "#E5ECF6",
              "width": 0.5
             },
             "pattern": {
              "fillmode": "overlay",
              "size": 10,
              "solidity": 0.2
             }
            },
            "type": "barpolar"
           }
          ],
          "carpet": [
           {
            "aaxis": {
             "endlinecolor": "#2a3f5f",
             "gridcolor": "white",
             "linecolor": "white",
             "minorgridcolor": "white",
             "startlinecolor": "#2a3f5f"
            },
            "baxis": {
             "endlinecolor": "#2a3f5f",
             "gridcolor": "white",
             "linecolor": "white",
             "minorgridcolor": "white",
             "startlinecolor": "#2a3f5f"
            },
            "type": "carpet"
           }
          ],
          "choropleth": [
           {
            "colorbar": {
             "outlinewidth": 0,
             "ticks": ""
            },
            "type": "choropleth"
           }
          ],
          "contour": [
           {
            "colorbar": {
             "outlinewidth": 0,
             "ticks": ""
            },
            "colorscale": [
             [
              0,
              "#0d0887"
             ],
             [
              0.1111111111111111,
              "#46039f"
             ],
             [
              0.2222222222222222,
              "#7201a8"
             ],
             [
              0.3333333333333333,
              "#9c179e"
             ],
             [
              0.4444444444444444,
              "#bd3786"
             ],
             [
              0.5555555555555556,
              "#d8576b"
             ],
             [
              0.6666666666666666,
              "#ed7953"
             ],
             [
              0.7777777777777778,
              "#fb9f3a"
             ],
             [
              0.8888888888888888,
              "#fdca26"
             ],
             [
              1,
              "#f0f921"
             ]
            ],
            "type": "contour"
           }
          ],
          "contourcarpet": [
           {
            "colorbar": {
             "outlinewidth": 0,
             "ticks": ""
            },
            "type": "contourcarpet"
           }
          ],
          "heatmap": [
           {
            "colorbar": {
             "outlinewidth": 0,
             "ticks": ""
            },
            "colorscale": [
             [
              0,
              "#0d0887"
             ],
             [
              0.1111111111111111,
              "#46039f"
             ],
             [
              0.2222222222222222,
              "#7201a8"
             ],
             [
              0.3333333333333333,
              "#9c179e"
             ],
             [
              0.4444444444444444,
              "#bd3786"
             ],
             [
              0.5555555555555556,
              "#d8576b"
             ],
             [
              0.6666666666666666,
              "#ed7953"
             ],
             [
              0.7777777777777778,
              "#fb9f3a"
             ],
             [
              0.8888888888888888,
              "#fdca26"
             ],
             [
              1,
              "#f0f921"
             ]
            ],
            "type": "heatmap"
           }
          ],
          "heatmapgl": [
           {
            "colorbar": {
             "outlinewidth": 0,
             "ticks": ""
            },
            "colorscale": [
             [
              0,
              "#0d0887"
             ],
             [
              0.1111111111111111,
              "#46039f"
             ],
             [
              0.2222222222222222,
              "#7201a8"
             ],
             [
              0.3333333333333333,
              "#9c179e"
             ],
             [
              0.4444444444444444,
              "#bd3786"
             ],
             [
              0.5555555555555556,
              "#d8576b"
             ],
             [
              0.6666666666666666,
              "#ed7953"
             ],
             [
              0.7777777777777778,
              "#fb9f3a"
             ],
             [
              0.8888888888888888,
              "#fdca26"
             ],
             [
              1,
              "#f0f921"
             ]
            ],
            "type": "heatmapgl"
           }
          ],
          "histogram": [
           {
            "marker": {
             "pattern": {
              "fillmode": "overlay",
              "size": 10,
              "solidity": 0.2
             }
            },
            "type": "histogram"
           }
          ],
          "histogram2d": [
           {
            "colorbar": {
             "outlinewidth": 0,
             "ticks": ""
            },
            "colorscale": [
             [
              0,
              "#0d0887"
             ],
             [
              0.1111111111111111,
              "#46039f"
             ],
             [
              0.2222222222222222,
              "#7201a8"
             ],
             [
              0.3333333333333333,
              "#9c179e"
             ],
             [
              0.4444444444444444,
              "#bd3786"
             ],
             [
              0.5555555555555556,
              "#d8576b"
             ],
             [
              0.6666666666666666,
              "#ed7953"
             ],
             [
              0.7777777777777778,
              "#fb9f3a"
             ],
             [
              0.8888888888888888,
              "#fdca26"
             ],
             [
              1,
              "#f0f921"
             ]
            ],
            "type": "histogram2d"
           }
          ],
          "histogram2dcontour": [
           {
            "colorbar": {
             "outlinewidth": 0,
             "ticks": ""
            },
            "colorscale": [
             [
              0,
              "#0d0887"
             ],
             [
              0.1111111111111111,
              "#46039f"
             ],
             [
              0.2222222222222222,
              "#7201a8"
             ],
             [
              0.3333333333333333,
              "#9c179e"
             ],
             [
              0.4444444444444444,
              "#bd3786"
             ],
             [
              0.5555555555555556,
              "#d8576b"
             ],
             [
              0.6666666666666666,
              "#ed7953"
             ],
             [
              0.7777777777777778,
              "#fb9f3a"
             ],
             [
              0.8888888888888888,
              "#fdca26"
             ],
             [
              1,
              "#f0f921"
             ]
            ],
            "type": "histogram2dcontour"
           }
          ],
          "mesh3d": [
           {
            "colorbar": {
             "outlinewidth": 0,
             "ticks": ""
            },
            "type": "mesh3d"
           }
          ],
          "parcoords": [
           {
            "line": {
             "colorbar": {
              "outlinewidth": 0,
              "ticks": ""
             }
            },
            "type": "parcoords"
           }
          ],
          "pie": [
           {
            "automargin": true,
            "type": "pie"
           }
          ],
          "scatter": [
           {
            "fillpattern": {
             "fillmode": "overlay",
             "size": 10,
             "solidity": 0.2
            },
            "type": "scatter"
           }
          ],
          "scatter3d": [
           {
            "line": {
             "colorbar": {
              "outlinewidth": 0,
              "ticks": ""
             }
            },
            "marker": {
             "colorbar": {
              "outlinewidth": 0,
              "ticks": ""
             }
            },
            "type": "scatter3d"
           }
          ],
          "scattercarpet": [
           {
            "marker": {
             "colorbar": {
              "outlinewidth": 0,
              "ticks": ""
             }
            },
            "type": "scattercarpet"
           }
          ],
          "scattergeo": [
           {
            "marker": {
             "colorbar": {
              "outlinewidth": 0,
              "ticks": ""
             }
            },
            "type": "scattergeo"
           }
          ],
          "scattergl": [
           {
            "marker": {
             "colorbar": {
              "outlinewidth": 0,
              "ticks": ""
             }
            },
            "type": "scattergl"
           }
          ],
          "scattermapbox": [
           {
            "marker": {
             "colorbar": {
              "outlinewidth": 0,
              "ticks": ""
             }
            },
            "type": "scattermapbox"
           }
          ],
          "scatterpolar": [
           {
            "marker": {
             "colorbar": {
              "outlinewidth": 0,
              "ticks": ""
             }
            },
            "type": "scatterpolar"
           }
          ],
          "scatterpolargl": [
           {
            "marker": {
             "colorbar": {
              "outlinewidth": 0,
              "ticks": ""
             }
            },
            "type": "scatterpolargl"
           }
          ],
          "scatterternary": [
           {
            "marker": {
             "colorbar": {
              "outlinewidth": 0,
              "ticks": ""
             }
            },
            "type": "scatterternary"
           }
          ],
          "surface": [
           {
            "colorbar": {
             "outlinewidth": 0,
             "ticks": ""
            },
            "colorscale": [
             [
              0,
              "#0d0887"
             ],
             [
              0.1111111111111111,
              "#46039f"
             ],
             [
              0.2222222222222222,
              "#7201a8"
             ],
             [
              0.3333333333333333,
              "#9c179e"
             ],
             [
              0.4444444444444444,
              "#bd3786"
             ],
             [
              0.5555555555555556,
              "#d8576b"
             ],
             [
              0.6666666666666666,
              "#ed7953"
             ],
             [
              0.7777777777777778,
              "#fb9f3a"
             ],
             [
              0.8888888888888888,
              "#fdca26"
             ],
             [
              1,
              "#f0f921"
             ]
            ],
            "type": "surface"
           }
          ],
          "table": [
           {
            "cells": {
             "fill": {
              "color": "#EBF0F8"
             },
             "line": {
              "color": "white"
             }
            },
            "header": {
             "fill": {
              "color": "#C8D4E3"
             },
             "line": {
              "color": "white"
             }
            },
            "type": "table"
           }
          ]
         },
         "layout": {
          "annotationdefaults": {
           "arrowcolor": "#2a3f5f",
           "arrowhead": 0,
           "arrowwidth": 1
          },
          "autotypenumbers": "strict",
          "coloraxis": {
           "colorbar": {
            "outlinewidth": 0,
            "ticks": ""
           }
          },
          "colorscale": {
           "diverging": [
            [
             0,
             "#8e0152"
            ],
            [
             0.1,
             "#c51b7d"
            ],
            [
             0.2,
             "#de77ae"
            ],
            [
             0.3,
             "#f1b6da"
            ],
            [
             0.4,
             "#fde0ef"
            ],
            [
             0.5,
             "#f7f7f7"
            ],
            [
             0.6,
             "#e6f5d0"
            ],
            [
             0.7,
             "#b8e186"
            ],
            [
             0.8,
             "#7fbc41"
            ],
            [
             0.9,
             "#4d9221"
            ],
            [
             1,
             "#276419"
            ]
           ],
           "sequential": [
            [
             0,
             "#0d0887"
            ],
            [
             0.1111111111111111,
             "#46039f"
            ],
            [
             0.2222222222222222,
             "#7201a8"
            ],
            [
             0.3333333333333333,
             "#9c179e"
            ],
            [
             0.4444444444444444,
             "#bd3786"
            ],
            [
             0.5555555555555556,
             "#d8576b"
            ],
            [
             0.6666666666666666,
             "#ed7953"
            ],
            [
             0.7777777777777778,
             "#fb9f3a"
            ],
            [
             0.8888888888888888,
             "#fdca26"
            ],
            [
             1,
             "#f0f921"
            ]
           ],
           "sequentialminus": [
            [
             0,
             "#0d0887"
            ],
            [
             0.1111111111111111,
             "#46039f"
            ],
            [
             0.2222222222222222,
             "#7201a8"
            ],
            [
             0.3333333333333333,
             "#9c179e"
            ],
            [
             0.4444444444444444,
             "#bd3786"
            ],
            [
             0.5555555555555556,
             "#d8576b"
            ],
            [
             0.6666666666666666,
             "#ed7953"
            ],
            [
             0.7777777777777778,
             "#fb9f3a"
            ],
            [
             0.8888888888888888,
             "#fdca26"
            ],
            [
             1,
             "#f0f921"
            ]
           ]
          },
          "colorway": [
           "#636efa",
           "#EF553B",
           "#00cc96",
           "#ab63fa",
           "#FFA15A",
           "#19d3f3",
           "#FF6692",
           "#B6E880",
           "#FF97FF",
           "#FECB52"
          ],
          "font": {
           "color": "#2a3f5f"
          },
          "geo": {
           "bgcolor": "white",
           "lakecolor": "white",
           "landcolor": "#E5ECF6",
           "showlakes": true,
           "showland": true,
           "subunitcolor": "white"
          },
          "hoverlabel": {
           "align": "left"
          },
          "hovermode": "closest",
          "mapbox": {
           "style": "light"
          },
          "paper_bgcolor": "white",
          "plot_bgcolor": "#E5ECF6",
          "polar": {
           "angularaxis": {
            "gridcolor": "white",
            "linecolor": "white",
            "ticks": ""
           },
           "bgcolor": "#E5ECF6",
           "radialaxis": {
            "gridcolor": "white",
            "linecolor": "white",
            "ticks": ""
           }
          },
          "scene": {
           "xaxis": {
            "backgroundcolor": "#E5ECF6",
            "gridcolor": "white",
            "gridwidth": 2,
            "linecolor": "white",
            "showbackground": true,
            "ticks": "",
            "zerolinecolor": "white"
           },
           "yaxis": {
            "backgroundcolor": "#E5ECF6",
            "gridcolor": "white",
            "gridwidth": 2,
            "linecolor": "white",
            "showbackground": true,
            "ticks": "",
            "zerolinecolor": "white"
           },
           "zaxis": {
            "backgroundcolor": "#E5ECF6",
            "gridcolor": "white",
            "gridwidth": 2,
            "linecolor": "white",
            "showbackground": true,
            "ticks": "",
            "zerolinecolor": "white"
           }
          },
          "shapedefaults": {
           "line": {
            "color": "#2a3f5f"
           }
          },
          "ternary": {
           "aaxis": {
            "gridcolor": "white",
            "linecolor": "white",
            "ticks": ""
           },
           "baxis": {
            "gridcolor": "white",
            "linecolor": "white",
            "ticks": ""
           },
           "bgcolor": "#E5ECF6",
           "caxis": {
            "gridcolor": "white",
            "linecolor": "white",
            "ticks": ""
           }
          },
          "title": {
           "x": 0.05
          },
          "xaxis": {
           "automargin": true,
           "gridcolor": "white",
           "linecolor": "white",
           "ticks": "",
           "title": {
            "standoff": 15
           },
           "zerolinecolor": "white",
           "zerolinewidth": 2
          },
          "yaxis": {
           "automargin": true,
           "gridcolor": "white",
           "linecolor": "white",
           "ticks": "",
           "title": {
            "standoff": 15
           },
           "zerolinecolor": "white",
           "zerolinewidth": 2
          }
         }
        },
        "title": {
         "text": "Rating Count in Top 5 Cities"
        },
        "xaxis": {
         "anchor": "y",
         "domain": [
          0,
          0.15
         ],
         "title": {
          "text": "City"
         }
        },
        "xaxis2": {
         "anchor": "y2",
         "domain": [
          0.16999999999999998,
          0.31999999999999995
         ],
         "matches": "x",
         "title": {
          "text": "City"
         }
        },
        "xaxis3": {
         "anchor": "y3",
         "domain": [
          0.33999999999999997,
          0.49
         ],
         "matches": "x",
         "title": {
          "text": "City"
         }
        },
        "xaxis4": {
         "anchor": "y4",
         "domain": [
          0.51,
          0.66
         ],
         "matches": "x",
         "title": {
          "text": "City"
         }
        },
        "xaxis5": {
         "anchor": "y5",
         "domain": [
          0.6799999999999999,
          0.83
         ],
         "matches": "x",
         "title": {
          "text": "City"
         }
        },
        "xaxis6": {
         "anchor": "y6",
         "domain": [
          0.85,
          1
         ],
         "matches": "x",
         "title": {
          "text": "City"
         }
        },
        "yaxis": {
         "anchor": "x",
         "domain": [
          0,
          1
         ],
         "title": {
          "text": "Count"
         }
        },
        "yaxis2": {
         "anchor": "x2",
         "domain": [
          0,
          1
         ],
         "matches": "y",
         "showticklabels": false
        },
        "yaxis3": {
         "anchor": "x3",
         "domain": [
          0,
          1
         ],
         "matches": "y",
         "showticklabels": false
        },
        "yaxis4": {
         "anchor": "x4",
         "domain": [
          0,
          1
         ],
         "matches": "y",
         "showticklabels": false
        },
        "yaxis5": {
         "anchor": "x5",
         "domain": [
          0,
          1
         ],
         "matches": "y",
         "showticklabels": false
        },
        "yaxis6": {
         "anchor": "x6",
         "domain": [
          0,
          1
         ],
         "matches": "y",
         "showticklabels": false
        }
       }
      }
     },
     "metadata": {},
     "output_type": "display_data"
    }
   ],
   "source": [
    "#6 Rating Count in Top 5 Cities\n",
    "\n",
    "# Assuming your dataframe is named 'df'\n",
    "# Replace 'df' with your actual dataframe name if different\n",
    "\n",
    "# Filter out the top 5 cities\n",
    "top_cities = zomato_data['City'].value_counts().head(5).index.tolist()\n",
    "\n",
    "# Filter the dataframe for the top 5 cities\n",
    "top_cities_df = zomato_data[zomato_data['City'].isin(top_cities)]\n",
    "\n",
    "# Count the ratings based on rating text for each city\n",
    "rating_counts = top_cities_df.groupby(['City', 'Rating text']).size().reset_index(name='Count')\n",
    "\n",
    "# Plot the bar chart with facets for each rating\n",
    "fig = px.bar(rating_counts, x='City', y='Count', color='Rating text', \n",
    "             facet_col='Rating text', title='Rating Count in Top 5 Cities',\n",
    "             category_orders={'Rating text': ['Excellent', 'Very Good', 'Good', 'Average', 'Not rated']})\n",
    "fig.show()\n"
   ]
  },
  {
   "cell_type": "code",
   "execution_count": 79,
   "metadata": {},
   "outputs": [
    {
     "data": {
      "application/vnd.plotly.v1+json": {
       "config": {
        "plotlyServerURL": "https://plot.ly"
       },
       "data": [
        {
         "domain": {
          "x": [
           0,
           1
          ],
          "y": [
           0,
           1
          ]
         },
         "hovertemplate": "Has Online delivery=%{label}<br>Count=%{value}<extra></extra>",
         "labels": [
          "No",
          "Yes"
         ],
         "legendgroup": "",
         "name": "",
         "showlegend": true,
         "type": "pie",
         "values": [
          7091,
          2451
         ]
        }
       ],
       "layout": {
        "legend": {
         "tracegroupgap": 0
        },
        "template": {
         "data": {
          "bar": [
           {
            "error_x": {
             "color": "#2a3f5f"
            },
            "error_y": {
             "color": "#2a3f5f"
            },
            "marker": {
             "line": {
              "color": "#E5ECF6",
              "width": 0.5
             },
             "pattern": {
              "fillmode": "overlay",
              "size": 10,
              "solidity": 0.2
             }
            },
            "type": "bar"
           }
          ],
          "barpolar": [
           {
            "marker": {
             "line": {
              "color": "#E5ECF6",
              "width": 0.5
             },
             "pattern": {
              "fillmode": "overlay",
              "size": 10,
              "solidity": 0.2
             }
            },
            "type": "barpolar"
           }
          ],
          "carpet": [
           {
            "aaxis": {
             "endlinecolor": "#2a3f5f",
             "gridcolor": "white",
             "linecolor": "white",
             "minorgridcolor": "white",
             "startlinecolor": "#2a3f5f"
            },
            "baxis": {
             "endlinecolor": "#2a3f5f",
             "gridcolor": "white",
             "linecolor": "white",
             "minorgridcolor": "white",
             "startlinecolor": "#2a3f5f"
            },
            "type": "carpet"
           }
          ],
          "choropleth": [
           {
            "colorbar": {
             "outlinewidth": 0,
             "ticks": ""
            },
            "type": "choropleth"
           }
          ],
          "contour": [
           {
            "colorbar": {
             "outlinewidth": 0,
             "ticks": ""
            },
            "colorscale": [
             [
              0,
              "#0d0887"
             ],
             [
              0.1111111111111111,
              "#46039f"
             ],
             [
              0.2222222222222222,
              "#7201a8"
             ],
             [
              0.3333333333333333,
              "#9c179e"
             ],
             [
              0.4444444444444444,
              "#bd3786"
             ],
             [
              0.5555555555555556,
              "#d8576b"
             ],
             [
              0.6666666666666666,
              "#ed7953"
             ],
             [
              0.7777777777777778,
              "#fb9f3a"
             ],
             [
              0.8888888888888888,
              "#fdca26"
             ],
             [
              1,
              "#f0f921"
             ]
            ],
            "type": "contour"
           }
          ],
          "contourcarpet": [
           {
            "colorbar": {
             "outlinewidth": 0,
             "ticks": ""
            },
            "type": "contourcarpet"
           }
          ],
          "heatmap": [
           {
            "colorbar": {
             "outlinewidth": 0,
             "ticks": ""
            },
            "colorscale": [
             [
              0,
              "#0d0887"
             ],
             [
              0.1111111111111111,
              "#46039f"
             ],
             [
              0.2222222222222222,
              "#7201a8"
             ],
             [
              0.3333333333333333,
              "#9c179e"
             ],
             [
              0.4444444444444444,
              "#bd3786"
             ],
             [
              0.5555555555555556,
              "#d8576b"
             ],
             [
              0.6666666666666666,
              "#ed7953"
             ],
             [
              0.7777777777777778,
              "#fb9f3a"
             ],
             [
              0.8888888888888888,
              "#fdca26"
             ],
             [
              1,
              "#f0f921"
             ]
            ],
            "type": "heatmap"
           }
          ],
          "heatmapgl": [
           {
            "colorbar": {
             "outlinewidth": 0,
             "ticks": ""
            },
            "colorscale": [
             [
              0,
              "#0d0887"
             ],
             [
              0.1111111111111111,
              "#46039f"
             ],
             [
              0.2222222222222222,
              "#7201a8"
             ],
             [
              0.3333333333333333,
              "#9c179e"
             ],
             [
              0.4444444444444444,
              "#bd3786"
             ],
             [
              0.5555555555555556,
              "#d8576b"
             ],
             [
              0.6666666666666666,
              "#ed7953"
             ],
             [
              0.7777777777777778,
              "#fb9f3a"
             ],
             [
              0.8888888888888888,
              "#fdca26"
             ],
             [
              1,
              "#f0f921"
             ]
            ],
            "type": "heatmapgl"
           }
          ],
          "histogram": [
           {
            "marker": {
             "pattern": {
              "fillmode": "overlay",
              "size": 10,
              "solidity": 0.2
             }
            },
            "type": "histogram"
           }
          ],
          "histogram2d": [
           {
            "colorbar": {
             "outlinewidth": 0,
             "ticks": ""
            },
            "colorscale": [
             [
              0,
              "#0d0887"
             ],
             [
              0.1111111111111111,
              "#46039f"
             ],
             [
              0.2222222222222222,
              "#7201a8"
             ],
             [
              0.3333333333333333,
              "#9c179e"
             ],
             [
              0.4444444444444444,
              "#bd3786"
             ],
             [
              0.5555555555555556,
              "#d8576b"
             ],
             [
              0.6666666666666666,
              "#ed7953"
             ],
             [
              0.7777777777777778,
              "#fb9f3a"
             ],
             [
              0.8888888888888888,
              "#fdca26"
             ],
             [
              1,
              "#f0f921"
             ]
            ],
            "type": "histogram2d"
           }
          ],
          "histogram2dcontour": [
           {
            "colorbar": {
             "outlinewidth": 0,
             "ticks": ""
            },
            "colorscale": [
             [
              0,
              "#0d0887"
             ],
             [
              0.1111111111111111,
              "#46039f"
             ],
             [
              0.2222222222222222,
              "#7201a8"
             ],
             [
              0.3333333333333333,
              "#9c179e"
             ],
             [
              0.4444444444444444,
              "#bd3786"
             ],
             [
              0.5555555555555556,
              "#d8576b"
             ],
             [
              0.6666666666666666,
              "#ed7953"
             ],
             [
              0.7777777777777778,
              "#fb9f3a"
             ],
             [
              0.8888888888888888,
              "#fdca26"
             ],
             [
              1,
              "#f0f921"
             ]
            ],
            "type": "histogram2dcontour"
           }
          ],
          "mesh3d": [
           {
            "colorbar": {
             "outlinewidth": 0,
             "ticks": ""
            },
            "type": "mesh3d"
           }
          ],
          "parcoords": [
           {
            "line": {
             "colorbar": {
              "outlinewidth": 0,
              "ticks": ""
             }
            },
            "type": "parcoords"
           }
          ],
          "pie": [
           {
            "automargin": true,
            "type": "pie"
           }
          ],
          "scatter": [
           {
            "fillpattern": {
             "fillmode": "overlay",
             "size": 10,
             "solidity": 0.2
            },
            "type": "scatter"
           }
          ],
          "scatter3d": [
           {
            "line": {
             "colorbar": {
              "outlinewidth": 0,
              "ticks": ""
             }
            },
            "marker": {
             "colorbar": {
              "outlinewidth": 0,
              "ticks": ""
             }
            },
            "type": "scatter3d"
           }
          ],
          "scattercarpet": [
           {
            "marker": {
             "colorbar": {
              "outlinewidth": 0,
              "ticks": ""
             }
            },
            "type": "scattercarpet"
           }
          ],
          "scattergeo": [
           {
            "marker": {
             "colorbar": {
              "outlinewidth": 0,
              "ticks": ""
             }
            },
            "type": "scattergeo"
           }
          ],
          "scattergl": [
           {
            "marker": {
             "colorbar": {
              "outlinewidth": 0,
              "ticks": ""
             }
            },
            "type": "scattergl"
           }
          ],
          "scattermapbox": [
           {
            "marker": {
             "colorbar": {
              "outlinewidth": 0,
              "ticks": ""
             }
            },
            "type": "scattermapbox"
           }
          ],
          "scatterpolar": [
           {
            "marker": {
             "colorbar": {
              "outlinewidth": 0,
              "ticks": ""
             }
            },
            "type": "scatterpolar"
           }
          ],
          "scatterpolargl": [
           {
            "marker": {
             "colorbar": {
              "outlinewidth": 0,
              "ticks": ""
             }
            },
            "type": "scatterpolargl"
           }
          ],
          "scatterternary": [
           {
            "marker": {
             "colorbar": {
              "outlinewidth": 0,
              "ticks": ""
             }
            },
            "type": "scatterternary"
           }
          ],
          "surface": [
           {
            "colorbar": {
             "outlinewidth": 0,
             "ticks": ""
            },
            "colorscale": [
             [
              0,
              "#0d0887"
             ],
             [
              0.1111111111111111,
              "#46039f"
             ],
             [
              0.2222222222222222,
              "#7201a8"
             ],
             [
              0.3333333333333333,
              "#9c179e"
             ],
             [
              0.4444444444444444,
              "#bd3786"
             ],
             [
              0.5555555555555556,
              "#d8576b"
             ],
             [
              0.6666666666666666,
              "#ed7953"
             ],
             [
              0.7777777777777778,
              "#fb9f3a"
             ],
             [
              0.8888888888888888,
              "#fdca26"
             ],
             [
              1,
              "#f0f921"
             ]
            ],
            "type": "surface"
           }
          ],
          "table": [
           {
            "cells": {
             "fill": {
              "color": "#EBF0F8"
             },
             "line": {
              "color": "white"
             }
            },
            "header": {
             "fill": {
              "color": "#C8D4E3"
             },
             "line": {
              "color": "white"
             }
            },
            "type": "table"
           }
          ]
         },
         "layout": {
          "annotationdefaults": {
           "arrowcolor": "#2a3f5f",
           "arrowhead": 0,
           "arrowwidth": 1
          },
          "autotypenumbers": "strict",
          "coloraxis": {
           "colorbar": {
            "outlinewidth": 0,
            "ticks": ""
           }
          },
          "colorscale": {
           "diverging": [
            [
             0,
             "#8e0152"
            ],
            [
             0.1,
             "#c51b7d"
            ],
            [
             0.2,
             "#de77ae"
            ],
            [
             0.3,
             "#f1b6da"
            ],
            [
             0.4,
             "#fde0ef"
            ],
            [
             0.5,
             "#f7f7f7"
            ],
            [
             0.6,
             "#e6f5d0"
            ],
            [
             0.7,
             "#b8e186"
            ],
            [
             0.8,
             "#7fbc41"
            ],
            [
             0.9,
             "#4d9221"
            ],
            [
             1,
             "#276419"
            ]
           ],
           "sequential": [
            [
             0,
             "#0d0887"
            ],
            [
             0.1111111111111111,
             "#46039f"
            ],
            [
             0.2222222222222222,
             "#7201a8"
            ],
            [
             0.3333333333333333,
             "#9c179e"
            ],
            [
             0.4444444444444444,
             "#bd3786"
            ],
            [
             0.5555555555555556,
             "#d8576b"
            ],
            [
             0.6666666666666666,
             "#ed7953"
            ],
            [
             0.7777777777777778,
             "#fb9f3a"
            ],
            [
             0.8888888888888888,
             "#fdca26"
            ],
            [
             1,
             "#f0f921"
            ]
           ],
           "sequentialminus": [
            [
             0,
             "#0d0887"
            ],
            [
             0.1111111111111111,
             "#46039f"
            ],
            [
             0.2222222222222222,
             "#7201a8"
            ],
            [
             0.3333333333333333,
             "#9c179e"
            ],
            [
             0.4444444444444444,
             "#bd3786"
            ],
            [
             0.5555555555555556,
             "#d8576b"
            ],
            [
             0.6666666666666666,
             "#ed7953"
            ],
            [
             0.7777777777777778,
             "#fb9f3a"
            ],
            [
             0.8888888888888888,
             "#fdca26"
            ],
            [
             1,
             "#f0f921"
            ]
           ]
          },
          "colorway": [
           "#636efa",
           "#EF553B",
           "#00cc96",
           "#ab63fa",
           "#FFA15A",
           "#19d3f3",
           "#FF6692",
           "#B6E880",
           "#FF97FF",
           "#FECB52"
          ],
          "font": {
           "color": "#2a3f5f"
          },
          "geo": {
           "bgcolor": "white",
           "lakecolor": "white",
           "landcolor": "#E5ECF6",
           "showlakes": true,
           "showland": true,
           "subunitcolor": "white"
          },
          "hoverlabel": {
           "align": "left"
          },
          "hovermode": "closest",
          "mapbox": {
           "style": "light"
          },
          "paper_bgcolor": "white",
          "plot_bgcolor": "#E5ECF6",
          "polar": {
           "angularaxis": {
            "gridcolor": "white",
            "linecolor": "white",
            "ticks": ""
           },
           "bgcolor": "#E5ECF6",
           "radialaxis": {
            "gridcolor": "white",
            "linecolor": "white",
            "ticks": ""
           }
          },
          "scene": {
           "xaxis": {
            "backgroundcolor": "#E5ECF6",
            "gridcolor": "white",
            "gridwidth": 2,
            "linecolor": "white",
            "showbackground": true,
            "ticks": "",
            "zerolinecolor": "white"
           },
           "yaxis": {
            "backgroundcolor": "#E5ECF6",
            "gridcolor": "white",
            "gridwidth": 2,
            "linecolor": "white",
            "showbackground": true,
            "ticks": "",
            "zerolinecolor": "white"
           },
           "zaxis": {
            "backgroundcolor": "#E5ECF6",
            "gridcolor": "white",
            "gridwidth": 2,
            "linecolor": "white",
            "showbackground": true,
            "ticks": "",
            "zerolinecolor": "white"
           }
          },
          "shapedefaults": {
           "line": {
            "color": "#2a3f5f"
           }
          },
          "ternary": {
           "aaxis": {
            "gridcolor": "white",
            "linecolor": "white",
            "ticks": ""
           },
           "baxis": {
            "gridcolor": "white",
            "linecolor": "white",
            "ticks": ""
           },
           "bgcolor": "#E5ECF6",
           "caxis": {
            "gridcolor": "white",
            "linecolor": "white",
            "ticks": ""
           }
          },
          "title": {
           "x": 0.05
          },
          "xaxis": {
           "automargin": true,
           "gridcolor": "white",
           "linecolor": "white",
           "ticks": "",
           "title": {
            "standoff": 15
           },
           "zerolinecolor": "white",
           "zerolinewidth": 2
          },
          "yaxis": {
           "automargin": true,
           "gridcolor": "white",
           "linecolor": "white",
           "ticks": "",
           "title": {
            "standoff": 15
           },
           "zerolinecolor": "white",
           "zerolinewidth": 2
          }
         }
        },
        "title": {
         "text": "Online Delivery vs. Dine-In"
        }
       }
      }
     },
     "metadata": {},
     "output_type": "display_data"
    }
   ],
   "source": [
    "#7 Online Delivery vs. Dine-In\n",
    "\n",
    "# Assuming your dataframe is named 'df'\n",
    "# Replace 'df' with your actual dataframe name if different\n",
    "\n",
    "# Counting the number of restaurants with online delivery and without\n",
    "delivery_counts = zomato_data['Has Online delivery'].value_counts().reset_index()\n",
    "delivery_counts.columns = ['Has Online delivery', 'Count']\n",
    "\n",
    "# Creating a pie chart\n",
    "fig = px.pie(delivery_counts, values='Count', names='Has Online delivery', title='Online Delivery vs. Dine-In')\n",
    "fig.show()"
   ]
  },
  {
   "cell_type": "code",
   "execution_count": 85,
   "metadata": {},
   "outputs": [
    {
     "data": {
      "application/vnd.plotly.v1+json": {
       "config": {
        "plotlyServerURL": "https://plot.ly"
       },
       "data": [
        {
         "alignmentgroup": "True",
         "hovertemplate": "City=%{x}<br>Average Cost for two=%{marker.color}<extra></extra>",
         "legendgroup": "",
         "marker": {
          "color": [
           3262390,
           798270,
           582650,
           112350,
           26750,
           26200,
           25450,
           24650,
           24500,
           23500
          ],
          "coloraxis": "coloraxis",
          "pattern": {
           "shape": ""
          }
         },
         "name": "",
         "offsetgroup": "",
         "orientation": "v",
         "showlegend": false,
         "textposition": "auto",
         "type": "bar",
         "x": [
          "New Delhi",
          "Gurgaon",
          "Noida",
          "Faridabad",
          "Pune",
          "Jaipur",
          "Kolkata",
          "Bangalore",
          "Hyderabad",
          "Goa"
         ],
         "xaxis": "x",
         "y": [
          3262390,
          798270,
          582650,
          112350,
          26750,
          26200,
          25450,
          24650,
          24500,
          23500
         ],
         "yaxis": "y"
        }
       ],
       "layout": {
        "barmode": "relative",
        "coloraxis": {
         "colorbar": {
          "title": {
           "text": "Average Cost for two"
          }
         },
         "colorscale": [
          [
           0,
           "#0d0887"
          ],
          [
           0.1111111111111111,
           "#46039f"
          ],
          [
           0.2222222222222222,
           "#7201a8"
          ],
          [
           0.3333333333333333,
           "#9c179e"
          ],
          [
           0.4444444444444444,
           "#bd3786"
          ],
          [
           0.5555555555555556,
           "#d8576b"
          ],
          [
           0.6666666666666666,
           "#ed7953"
          ],
          [
           0.7777777777777778,
           "#fb9f3a"
          ],
          [
           0.8888888888888888,
           "#fdca26"
          ],
          [
           1,
           "#f0f921"
          ]
         ]
        },
        "legend": {
         "tracegroupgap": 0
        },
        "template": {
         "data": {
          "bar": [
           {
            "error_x": {
             "color": "#2a3f5f"
            },
            "error_y": {
             "color": "#2a3f5f"
            },
            "marker": {
             "line": {
              "color": "#E5ECF6",
              "width": 0.5
             },
             "pattern": {
              "fillmode": "overlay",
              "size": 10,
              "solidity": 0.2
             }
            },
            "type": "bar"
           }
          ],
          "barpolar": [
           {
            "marker": {
             "line": {
              "color": "#E5ECF6",
              "width": 0.5
             },
             "pattern": {
              "fillmode": "overlay",
              "size": 10,
              "solidity": 0.2
             }
            },
            "type": "barpolar"
           }
          ],
          "carpet": [
           {
            "aaxis": {
             "endlinecolor": "#2a3f5f",
             "gridcolor": "white",
             "linecolor": "white",
             "minorgridcolor": "white",
             "startlinecolor": "#2a3f5f"
            },
            "baxis": {
             "endlinecolor": "#2a3f5f",
             "gridcolor": "white",
             "linecolor": "white",
             "minorgridcolor": "white",
             "startlinecolor": "#2a3f5f"
            },
            "type": "carpet"
           }
          ],
          "choropleth": [
           {
            "colorbar": {
             "outlinewidth": 0,
             "ticks": ""
            },
            "type": "choropleth"
           }
          ],
          "contour": [
           {
            "colorbar": {
             "outlinewidth": 0,
             "ticks": ""
            },
            "colorscale": [
             [
              0,
              "#0d0887"
             ],
             [
              0.1111111111111111,
              "#46039f"
             ],
             [
              0.2222222222222222,
              "#7201a8"
             ],
             [
              0.3333333333333333,
              "#9c179e"
             ],
             [
              0.4444444444444444,
              "#bd3786"
             ],
             [
              0.5555555555555556,
              "#d8576b"
             ],
             [
              0.6666666666666666,
              "#ed7953"
             ],
             [
              0.7777777777777778,
              "#fb9f3a"
             ],
             [
              0.8888888888888888,
              "#fdca26"
             ],
             [
              1,
              "#f0f921"
             ]
            ],
            "type": "contour"
           }
          ],
          "contourcarpet": [
           {
            "colorbar": {
             "outlinewidth": 0,
             "ticks": ""
            },
            "type": "contourcarpet"
           }
          ],
          "heatmap": [
           {
            "colorbar": {
             "outlinewidth": 0,
             "ticks": ""
            },
            "colorscale": [
             [
              0,
              "#0d0887"
             ],
             [
              0.1111111111111111,
              "#46039f"
             ],
             [
              0.2222222222222222,
              "#7201a8"
             ],
             [
              0.3333333333333333,
              "#9c179e"
             ],
             [
              0.4444444444444444,
              "#bd3786"
             ],
             [
              0.5555555555555556,
              "#d8576b"
             ],
             [
              0.6666666666666666,
              "#ed7953"
             ],
             [
              0.7777777777777778,
              "#fb9f3a"
             ],
             [
              0.8888888888888888,
              "#fdca26"
             ],
             [
              1,
              "#f0f921"
             ]
            ],
            "type": "heatmap"
           }
          ],
          "heatmapgl": [
           {
            "colorbar": {
             "outlinewidth": 0,
             "ticks": ""
            },
            "colorscale": [
             [
              0,
              "#0d0887"
             ],
             [
              0.1111111111111111,
              "#46039f"
             ],
             [
              0.2222222222222222,
              "#7201a8"
             ],
             [
              0.3333333333333333,
              "#9c179e"
             ],
             [
              0.4444444444444444,
              "#bd3786"
             ],
             [
              0.5555555555555556,
              "#d8576b"
             ],
             [
              0.6666666666666666,
              "#ed7953"
             ],
             [
              0.7777777777777778,
              "#fb9f3a"
             ],
             [
              0.8888888888888888,
              "#fdca26"
             ],
             [
              1,
              "#f0f921"
             ]
            ],
            "type": "heatmapgl"
           }
          ],
          "histogram": [
           {
            "marker": {
             "pattern": {
              "fillmode": "overlay",
              "size": 10,
              "solidity": 0.2
             }
            },
            "type": "histogram"
           }
          ],
          "histogram2d": [
           {
            "colorbar": {
             "outlinewidth": 0,
             "ticks": ""
            },
            "colorscale": [
             [
              0,
              "#0d0887"
             ],
             [
              0.1111111111111111,
              "#46039f"
             ],
             [
              0.2222222222222222,
              "#7201a8"
             ],
             [
              0.3333333333333333,
              "#9c179e"
             ],
             [
              0.4444444444444444,
              "#bd3786"
             ],
             [
              0.5555555555555556,
              "#d8576b"
             ],
             [
              0.6666666666666666,
              "#ed7953"
             ],
             [
              0.7777777777777778,
              "#fb9f3a"
             ],
             [
              0.8888888888888888,
              "#fdca26"
             ],
             [
              1,
              "#f0f921"
             ]
            ],
            "type": "histogram2d"
           }
          ],
          "histogram2dcontour": [
           {
            "colorbar": {
             "outlinewidth": 0,
             "ticks": ""
            },
            "colorscale": [
             [
              0,
              "#0d0887"
             ],
             [
              0.1111111111111111,
              "#46039f"
             ],
             [
              0.2222222222222222,
              "#7201a8"
             ],
             [
              0.3333333333333333,
              "#9c179e"
             ],
             [
              0.4444444444444444,
              "#bd3786"
             ],
             [
              0.5555555555555556,
              "#d8576b"
             ],
             [
              0.6666666666666666,
              "#ed7953"
             ],
             [
              0.7777777777777778,
              "#fb9f3a"
             ],
             [
              0.8888888888888888,
              "#fdca26"
             ],
             [
              1,
              "#f0f921"
             ]
            ],
            "type": "histogram2dcontour"
           }
          ],
          "mesh3d": [
           {
            "colorbar": {
             "outlinewidth": 0,
             "ticks": ""
            },
            "type": "mesh3d"
           }
          ],
          "parcoords": [
           {
            "line": {
             "colorbar": {
              "outlinewidth": 0,
              "ticks": ""
             }
            },
            "type": "parcoords"
           }
          ],
          "pie": [
           {
            "automargin": true,
            "type": "pie"
           }
          ],
          "scatter": [
           {
            "fillpattern": {
             "fillmode": "overlay",
             "size": 10,
             "solidity": 0.2
            },
            "type": "scatter"
           }
          ],
          "scatter3d": [
           {
            "line": {
             "colorbar": {
              "outlinewidth": 0,
              "ticks": ""
             }
            },
            "marker": {
             "colorbar": {
              "outlinewidth": 0,
              "ticks": ""
             }
            },
            "type": "scatter3d"
           }
          ],
          "scattercarpet": [
           {
            "marker": {
             "colorbar": {
              "outlinewidth": 0,
              "ticks": ""
             }
            },
            "type": "scattercarpet"
           }
          ],
          "scattergeo": [
           {
            "marker": {
             "colorbar": {
              "outlinewidth": 0,
              "ticks": ""
             }
            },
            "type": "scattergeo"
           }
          ],
          "scattergl": [
           {
            "marker": {
             "colorbar": {
              "outlinewidth": 0,
              "ticks": ""
             }
            },
            "type": "scattergl"
           }
          ],
          "scattermapbox": [
           {
            "marker": {
             "colorbar": {
              "outlinewidth": 0,
              "ticks": ""
             }
            },
            "type": "scattermapbox"
           }
          ],
          "scatterpolar": [
           {
            "marker": {
             "colorbar": {
              "outlinewidth": 0,
              "ticks": ""
             }
            },
            "type": "scatterpolar"
           }
          ],
          "scatterpolargl": [
           {
            "marker": {
             "colorbar": {
              "outlinewidth": 0,
              "ticks": ""
             }
            },
            "type": "scatterpolargl"
           }
          ],
          "scatterternary": [
           {
            "marker": {
             "colorbar": {
              "outlinewidth": 0,
              "ticks": ""
             }
            },
            "type": "scatterternary"
           }
          ],
          "surface": [
           {
            "colorbar": {
             "outlinewidth": 0,
             "ticks": ""
            },
            "colorscale": [
             [
              0,
              "#0d0887"
             ],
             [
              0.1111111111111111,
              "#46039f"
             ],
             [
              0.2222222222222222,
              "#7201a8"
             ],
             [
              0.3333333333333333,
              "#9c179e"
             ],
             [
              0.4444444444444444,
              "#bd3786"
             ],
             [
              0.5555555555555556,
              "#d8576b"
             ],
             [
              0.6666666666666666,
              "#ed7953"
             ],
             [
              0.7777777777777778,
              "#fb9f3a"
             ],
             [
              0.8888888888888888,
              "#fdca26"
             ],
             [
              1,
              "#f0f921"
             ]
            ],
            "type": "surface"
           }
          ],
          "table": [
           {
            "cells": {
             "fill": {
              "color": "#EBF0F8"
             },
             "line": {
              "color": "white"
             }
            },
            "header": {
             "fill": {
              "color": "#C8D4E3"
             },
             "line": {
              "color": "white"
             }
            },
            "type": "table"
           }
          ]
         },
         "layout": {
          "annotationdefaults": {
           "arrowcolor": "#2a3f5f",
           "arrowhead": 0,
           "arrowwidth": 1
          },
          "autotypenumbers": "strict",
          "coloraxis": {
           "colorbar": {
            "outlinewidth": 0,
            "ticks": ""
           }
          },
          "colorscale": {
           "diverging": [
            [
             0,
             "#8e0152"
            ],
            [
             0.1,
             "#c51b7d"
            ],
            [
             0.2,
             "#de77ae"
            ],
            [
             0.3,
             "#f1b6da"
            ],
            [
             0.4,
             "#fde0ef"
            ],
            [
             0.5,
             "#f7f7f7"
            ],
            [
             0.6,
             "#e6f5d0"
            ],
            [
             0.7,
             "#b8e186"
            ],
            [
             0.8,
             "#7fbc41"
            ],
            [
             0.9,
             "#4d9221"
            ],
            [
             1,
             "#276419"
            ]
           ],
           "sequential": [
            [
             0,
             "#0d0887"
            ],
            [
             0.1111111111111111,
             "#46039f"
            ],
            [
             0.2222222222222222,
             "#7201a8"
            ],
            [
             0.3333333333333333,
             "#9c179e"
            ],
            [
             0.4444444444444444,
             "#bd3786"
            ],
            [
             0.5555555555555556,
             "#d8576b"
            ],
            [
             0.6666666666666666,
             "#ed7953"
            ],
            [
             0.7777777777777778,
             "#fb9f3a"
            ],
            [
             0.8888888888888888,
             "#fdca26"
            ],
            [
             1,
             "#f0f921"
            ]
           ],
           "sequentialminus": [
            [
             0,
             "#0d0887"
            ],
            [
             0.1111111111111111,
             "#46039f"
            ],
            [
             0.2222222222222222,
             "#7201a8"
            ],
            [
             0.3333333333333333,
             "#9c179e"
            ],
            [
             0.4444444444444444,
             "#bd3786"
            ],
            [
             0.5555555555555556,
             "#d8576b"
            ],
            [
             0.6666666666666666,
             "#ed7953"
            ],
            [
             0.7777777777777778,
             "#fb9f3a"
            ],
            [
             0.8888888888888888,
             "#fdca26"
            ],
            [
             1,
             "#f0f921"
            ]
           ]
          },
          "colorway": [
           "#636efa",
           "#EF553B",
           "#00cc96",
           "#ab63fa",
           "#FFA15A",
           "#19d3f3",
           "#FF6692",
           "#B6E880",
           "#FF97FF",
           "#FECB52"
          ],
          "font": {
           "color": "#2a3f5f"
          },
          "geo": {
           "bgcolor": "white",
           "lakecolor": "white",
           "landcolor": "#E5ECF6",
           "showlakes": true,
           "showland": true,
           "subunitcolor": "white"
          },
          "hoverlabel": {
           "align": "left"
          },
          "hovermode": "closest",
          "mapbox": {
           "style": "light"
          },
          "paper_bgcolor": "white",
          "plot_bgcolor": "#E5ECF6",
          "polar": {
           "angularaxis": {
            "gridcolor": "white",
            "linecolor": "white",
            "ticks": ""
           },
           "bgcolor": "#E5ECF6",
           "radialaxis": {
            "gridcolor": "white",
            "linecolor": "white",
            "ticks": ""
           }
          },
          "scene": {
           "xaxis": {
            "backgroundcolor": "#E5ECF6",
            "gridcolor": "white",
            "gridwidth": 2,
            "linecolor": "white",
            "showbackground": true,
            "ticks": "",
            "zerolinecolor": "white"
           },
           "yaxis": {
            "backgroundcolor": "#E5ECF6",
            "gridcolor": "white",
            "gridwidth": 2,
            "linecolor": "white",
            "showbackground": true,
            "ticks": "",
            "zerolinecolor": "white"
           },
           "zaxis": {
            "backgroundcolor": "#E5ECF6",
            "gridcolor": "white",
            "gridwidth": 2,
            "linecolor": "white",
            "showbackground": true,
            "ticks": "",
            "zerolinecolor": "white"
           }
          },
          "shapedefaults": {
           "line": {
            "color": "#2a3f5f"
           }
          },
          "ternary": {
           "aaxis": {
            "gridcolor": "white",
            "linecolor": "white",
            "ticks": ""
           },
           "baxis": {
            "gridcolor": "white",
            "linecolor": "white",
            "ticks": ""
           },
           "bgcolor": "#E5ECF6",
           "caxis": {
            "gridcolor": "white",
            "linecolor": "white",
            "ticks": ""
           }
          },
          "title": {
           "x": 0.05
          },
          "xaxis": {
           "automargin": true,
           "gridcolor": "white",
           "linecolor": "white",
           "ticks": "",
           "title": {
            "standoff": 15
           },
           "zerolinecolor": "white",
           "zerolinewidth": 2
          },
          "yaxis": {
           "automargin": true,
           "gridcolor": "white",
           "linecolor": "white",
           "ticks": "",
           "title": {
            "standoff": 15
           },
           "zerolinecolor": "white",
           "zerolinewidth": 2
          }
         }
        },
        "title": {
         "text": "Top 10 Cities by Online Delivery Spending in India"
        },
        "xaxis": {
         "anchor": "y",
         "domain": [
          0,
          1
         ],
         "title": {
          "text": "City"
         }
        },
        "yaxis": {
         "anchor": "x",
         "domain": [
          0,
          1
         ],
         "title": {
          "text": "Average Cost for two"
         }
        }
       }
      }
     },
     "metadata": {},
     "output_type": "display_data"
    }
   ],
   "source": [
    "#8 Top 10 Cities by Online Delivery Spending in India\n",
    "\n",
    "# Assuming your dataframe is named 'df'\n",
    "# Replace 'df' with your actual dataframe name if different\n",
    "\n",
    "# Filter data for India\n",
    "df_india = zomato_data[zomato_data['Country'] == 'India']\n",
    "\n",
    "# Group by city and calculate the total amount spent on online delivery\n",
    "city_spending = df_india.groupby('City')['Average Cost for two'].sum().reset_index()\n",
    "city_spending = city_spending.sort_values(by='Average Cost for two', ascending=False)\n",
    "\n",
    "# Slice the DataFrame to select top 10 cities\n",
    "top_10_cities = city_spending.head(10)\n",
    "\n",
    "# Plotting the bar chart\n",
    "fig = px.bar(top_10_cities, x='City', y='Average Cost for two', title='Top 10 Cities by Online Delivery Spending in India',color='Average Cost for two')\n",
    "fig.show()\n"
   ]
  },
  {
   "cell_type": "code",
   "execution_count": 98,
   "metadata": {},
   "outputs": [
    {
     "data": {
      "application/vnd.plotly.v1+json": {
       "config": {
        "plotlyServerURL": "https://plot.ly"
       },
       "data": [
        {
         "alignmentgroup": "True",
         "hovertemplate": "City=%{x}<br>Average Cost for two=%{y}<extra></extra>",
         "legendgroup": "New Delhi",
         "marker": {
          "color": "#636efa",
          "pattern": {
           "shape": ""
          }
         },
         "name": "New Delhi",
         "offsetgroup": "New Delhi",
         "orientation": "v",
         "showlegend": true,
         "textposition": "auto",
         "type": "bar",
         "x": [
          "New Delhi"
         ],
         "xaxis": "x",
         "y": [
          3262390
         ],
         "yaxis": "y"
        },
        {
         "alignmentgroup": "True",
         "hovertemplate": "City=%{x}<br>Average Cost for two=%{y}<extra></extra>",
         "legendgroup": "Gurgaon",
         "marker": {
          "color": "#EF553B",
          "pattern": {
           "shape": ""
          }
         },
         "name": "Gurgaon",
         "offsetgroup": "Gurgaon",
         "orientation": "v",
         "showlegend": true,
         "textposition": "auto",
         "type": "bar",
         "x": [
          "Gurgaon"
         ],
         "xaxis": "x",
         "y": [
          798270
         ],
         "yaxis": "y"
        },
        {
         "alignmentgroup": "True",
         "hovertemplate": "City=%{x}<br>Average Cost for two=%{y}<extra></extra>",
         "legendgroup": "Noida",
         "marker": {
          "color": "#00cc96",
          "pattern": {
           "shape": ""
          }
         },
         "name": "Noida",
         "offsetgroup": "Noida",
         "orientation": "v",
         "showlegend": true,
         "textposition": "auto",
         "type": "bar",
         "x": [
          "Noida"
         ],
         "xaxis": "x",
         "y": [
          582650
         ],
         "yaxis": "y"
        },
        {
         "alignmentgroup": "True",
         "hovertemplate": "City=%{x}<br>Average Cost for two=%{y}<extra></extra>",
         "legendgroup": "Faridabad",
         "marker": {
          "color": "#ab63fa",
          "pattern": {
           "shape": ""
          }
         },
         "name": "Faridabad",
         "offsetgroup": "Faridabad",
         "orientation": "v",
         "showlegend": true,
         "textposition": "auto",
         "type": "bar",
         "x": [
          "Faridabad"
         ],
         "xaxis": "x",
         "y": [
          112350
         ],
         "yaxis": "y"
        },
        {
         "alignmentgroup": "True",
         "hovertemplate": "City=%{x}<br>Average Cost for two=%{y}<extra></extra>",
         "legendgroup": "Pune",
         "marker": {
          "color": "#FFA15A",
          "pattern": {
           "shape": ""
          }
         },
         "name": "Pune",
         "offsetgroup": "Pune",
         "orientation": "v",
         "showlegend": true,
         "textposition": "auto",
         "type": "bar",
         "x": [
          "Pune"
         ],
         "xaxis": "x",
         "y": [
          26750
         ],
         "yaxis": "y"
        },
        {
         "alignmentgroup": "True",
         "hovertemplate": "City=%{x}<br>Average Cost for two=%{y}<extra></extra>",
         "legendgroup": "Jaipur",
         "marker": {
          "color": "#19d3f3",
          "pattern": {
           "shape": ""
          }
         },
         "name": "Jaipur",
         "offsetgroup": "Jaipur",
         "orientation": "v",
         "showlegend": true,
         "textposition": "auto",
         "type": "bar",
         "x": [
          "Jaipur"
         ],
         "xaxis": "x",
         "y": [
          26200
         ],
         "yaxis": "y"
        },
        {
         "alignmentgroup": "True",
         "hovertemplate": "City=%{x}<br>Average Cost for two=%{y}<extra></extra>",
         "legendgroup": "Kolkata",
         "marker": {
          "color": "#FF6692",
          "pattern": {
           "shape": ""
          }
         },
         "name": "Kolkata",
         "offsetgroup": "Kolkata",
         "orientation": "v",
         "showlegend": true,
         "textposition": "auto",
         "type": "bar",
         "x": [
          "Kolkata"
         ],
         "xaxis": "x",
         "y": [
          25450
         ],
         "yaxis": "y"
        },
        {
         "alignmentgroup": "True",
         "hovertemplate": "City=%{x}<br>Average Cost for two=%{y}<extra></extra>",
         "legendgroup": "Bangalore",
         "marker": {
          "color": "#B6E880",
          "pattern": {
           "shape": ""
          }
         },
         "name": "Bangalore",
         "offsetgroup": "Bangalore",
         "orientation": "v",
         "showlegend": true,
         "textposition": "auto",
         "type": "bar",
         "x": [
          "Bangalore"
         ],
         "xaxis": "x",
         "y": [
          24650
         ],
         "yaxis": "y"
        },
        {
         "alignmentgroup": "True",
         "hovertemplate": "City=%{x}<br>Average Cost for two=%{y}<extra></extra>",
         "legendgroup": "Hyderabad",
         "marker": {
          "color": "#FF97FF",
          "pattern": {
           "shape": ""
          }
         },
         "name": "Hyderabad",
         "offsetgroup": "Hyderabad",
         "orientation": "v",
         "showlegend": true,
         "textposition": "auto",
         "type": "bar",
         "x": [
          "Hyderabad"
         ],
         "xaxis": "x",
         "y": [
          24500
         ],
         "yaxis": "y"
        },
        {
         "alignmentgroup": "True",
         "hovertemplate": "City=%{x}<br>Average Cost for two=%{y}<extra></extra>",
         "legendgroup": "Goa",
         "marker": {
          "color": "#FECB52",
          "pattern": {
           "shape": ""
          }
         },
         "name": "Goa",
         "offsetgroup": "Goa",
         "orientation": "v",
         "showlegend": true,
         "textposition": "auto",
         "type": "bar",
         "x": [
          "Goa"
         ],
         "xaxis": "x",
         "y": [
          23500
         ],
         "yaxis": "y"
        }
       ],
       "layout": {
        "barmode": "relative",
        "legend": {
         "title": {
          "text": "City"
         },
         "tracegroupgap": 0
        },
        "template": {
         "data": {
          "bar": [
           {
            "error_x": {
             "color": "#2a3f5f"
            },
            "error_y": {
             "color": "#2a3f5f"
            },
            "marker": {
             "line": {
              "color": "#E5ECF6",
              "width": 0.5
             },
             "pattern": {
              "fillmode": "overlay",
              "size": 10,
              "solidity": 0.2
             }
            },
            "type": "bar"
           }
          ],
          "barpolar": [
           {
            "marker": {
             "line": {
              "color": "#E5ECF6",
              "width": 0.5
             },
             "pattern": {
              "fillmode": "overlay",
              "size": 10,
              "solidity": 0.2
             }
            },
            "type": "barpolar"
           }
          ],
          "carpet": [
           {
            "aaxis": {
             "endlinecolor": "#2a3f5f",
             "gridcolor": "white",
             "linecolor": "white",
             "minorgridcolor": "white",
             "startlinecolor": "#2a3f5f"
            },
            "baxis": {
             "endlinecolor": "#2a3f5f",
             "gridcolor": "white",
             "linecolor": "white",
             "minorgridcolor": "white",
             "startlinecolor": "#2a3f5f"
            },
            "type": "carpet"
           }
          ],
          "choropleth": [
           {
            "colorbar": {
             "outlinewidth": 0,
             "ticks": ""
            },
            "type": "choropleth"
           }
          ],
          "contour": [
           {
            "colorbar": {
             "outlinewidth": 0,
             "ticks": ""
            },
            "colorscale": [
             [
              0,
              "#0d0887"
             ],
             [
              0.1111111111111111,
              "#46039f"
             ],
             [
              0.2222222222222222,
              "#7201a8"
             ],
             [
              0.3333333333333333,
              "#9c179e"
             ],
             [
              0.4444444444444444,
              "#bd3786"
             ],
             [
              0.5555555555555556,
              "#d8576b"
             ],
             [
              0.6666666666666666,
              "#ed7953"
             ],
             [
              0.7777777777777778,
              "#fb9f3a"
             ],
             [
              0.8888888888888888,
              "#fdca26"
             ],
             [
              1,
              "#f0f921"
             ]
            ],
            "type": "contour"
           }
          ],
          "contourcarpet": [
           {
            "colorbar": {
             "outlinewidth": 0,
             "ticks": ""
            },
            "type": "contourcarpet"
           }
          ],
          "heatmap": [
           {
            "colorbar": {
             "outlinewidth": 0,
             "ticks": ""
            },
            "colorscale": [
             [
              0,
              "#0d0887"
             ],
             [
              0.1111111111111111,
              "#46039f"
             ],
             [
              0.2222222222222222,
              "#7201a8"
             ],
             [
              0.3333333333333333,
              "#9c179e"
             ],
             [
              0.4444444444444444,
              "#bd3786"
             ],
             [
              0.5555555555555556,
              "#d8576b"
             ],
             [
              0.6666666666666666,
              "#ed7953"
             ],
             [
              0.7777777777777778,
              "#fb9f3a"
             ],
             [
              0.8888888888888888,
              "#fdca26"
             ],
             [
              1,
              "#f0f921"
             ]
            ],
            "type": "heatmap"
           }
          ],
          "heatmapgl": [
           {
            "colorbar": {
             "outlinewidth": 0,
             "ticks": ""
            },
            "colorscale": [
             [
              0,
              "#0d0887"
             ],
             [
              0.1111111111111111,
              "#46039f"
             ],
             [
              0.2222222222222222,
              "#7201a8"
             ],
             [
              0.3333333333333333,
              "#9c179e"
             ],
             [
              0.4444444444444444,
              "#bd3786"
             ],
             [
              0.5555555555555556,
              "#d8576b"
             ],
             [
              0.6666666666666666,
              "#ed7953"
             ],
             [
              0.7777777777777778,
              "#fb9f3a"
             ],
             [
              0.8888888888888888,
              "#fdca26"
             ],
             [
              1,
              "#f0f921"
             ]
            ],
            "type": "heatmapgl"
           }
          ],
          "histogram": [
           {
            "marker": {
             "pattern": {
              "fillmode": "overlay",
              "size": 10,
              "solidity": 0.2
             }
            },
            "type": "histogram"
           }
          ],
          "histogram2d": [
           {
            "colorbar": {
             "outlinewidth": 0,
             "ticks": ""
            },
            "colorscale": [
             [
              0,
              "#0d0887"
             ],
             [
              0.1111111111111111,
              "#46039f"
             ],
             [
              0.2222222222222222,
              "#7201a8"
             ],
             [
              0.3333333333333333,
              "#9c179e"
             ],
             [
              0.4444444444444444,
              "#bd3786"
             ],
             [
              0.5555555555555556,
              "#d8576b"
             ],
             [
              0.6666666666666666,
              "#ed7953"
             ],
             [
              0.7777777777777778,
              "#fb9f3a"
             ],
             [
              0.8888888888888888,
              "#fdca26"
             ],
             [
              1,
              "#f0f921"
             ]
            ],
            "type": "histogram2d"
           }
          ],
          "histogram2dcontour": [
           {
            "colorbar": {
             "outlinewidth": 0,
             "ticks": ""
            },
            "colorscale": [
             [
              0,
              "#0d0887"
             ],
             [
              0.1111111111111111,
              "#46039f"
             ],
             [
              0.2222222222222222,
              "#7201a8"
             ],
             [
              0.3333333333333333,
              "#9c179e"
             ],
             [
              0.4444444444444444,
              "#bd3786"
             ],
             [
              0.5555555555555556,
              "#d8576b"
             ],
             [
              0.6666666666666666,
              "#ed7953"
             ],
             [
              0.7777777777777778,
              "#fb9f3a"
             ],
             [
              0.8888888888888888,
              "#fdca26"
             ],
             [
              1,
              "#f0f921"
             ]
            ],
            "type": "histogram2dcontour"
           }
          ],
          "mesh3d": [
           {
            "colorbar": {
             "outlinewidth": 0,
             "ticks": ""
            },
            "type": "mesh3d"
           }
          ],
          "parcoords": [
           {
            "line": {
             "colorbar": {
              "outlinewidth": 0,
              "ticks": ""
             }
            },
            "type": "parcoords"
           }
          ],
          "pie": [
           {
            "automargin": true,
            "type": "pie"
           }
          ],
          "scatter": [
           {
            "fillpattern": {
             "fillmode": "overlay",
             "size": 10,
             "solidity": 0.2
            },
            "type": "scatter"
           }
          ],
          "scatter3d": [
           {
            "line": {
             "colorbar": {
              "outlinewidth": 0,
              "ticks": ""
             }
            },
            "marker": {
             "colorbar": {
              "outlinewidth": 0,
              "ticks": ""
             }
            },
            "type": "scatter3d"
           }
          ],
          "scattercarpet": [
           {
            "marker": {
             "colorbar": {
              "outlinewidth": 0,
              "ticks": ""
             }
            },
            "type": "scattercarpet"
           }
          ],
          "scattergeo": [
           {
            "marker": {
             "colorbar": {
              "outlinewidth": 0,
              "ticks": ""
             }
            },
            "type": "scattergeo"
           }
          ],
          "scattergl": [
           {
            "marker": {
             "colorbar": {
              "outlinewidth": 0,
              "ticks": ""
             }
            },
            "type": "scattergl"
           }
          ],
          "scattermapbox": [
           {
            "marker": {
             "colorbar": {
              "outlinewidth": 0,
              "ticks": ""
             }
            },
            "type": "scattermapbox"
           }
          ],
          "scatterpolar": [
           {
            "marker": {
             "colorbar": {
              "outlinewidth": 0,
              "ticks": ""
             }
            },
            "type": "scatterpolar"
           }
          ],
          "scatterpolargl": [
           {
            "marker": {
             "colorbar": {
              "outlinewidth": 0,
              "ticks": ""
             }
            },
            "type": "scatterpolargl"
           }
          ],
          "scatterternary": [
           {
            "marker": {
             "colorbar": {
              "outlinewidth": 0,
              "ticks": ""
             }
            },
            "type": "scatterternary"
           }
          ],
          "surface": [
           {
            "colorbar": {
             "outlinewidth": 0,
             "ticks": ""
            },
            "colorscale": [
             [
              0,
              "#0d0887"
             ],
             [
              0.1111111111111111,
              "#46039f"
             ],
             [
              0.2222222222222222,
              "#7201a8"
             ],
             [
              0.3333333333333333,
              "#9c179e"
             ],
             [
              0.4444444444444444,
              "#bd3786"
             ],
             [
              0.5555555555555556,
              "#d8576b"
             ],
             [
              0.6666666666666666,
              "#ed7953"
             ],
             [
              0.7777777777777778,
              "#fb9f3a"
             ],
             [
              0.8888888888888888,
              "#fdca26"
             ],
             [
              1,
              "#f0f921"
             ]
            ],
            "type": "surface"
           }
          ],
          "table": [
           {
            "cells": {
             "fill": {
              "color": "#EBF0F8"
             },
             "line": {
              "color": "white"
             }
            },
            "header": {
             "fill": {
              "color": "#C8D4E3"
             },
             "line": {
              "color": "white"
             }
            },
            "type": "table"
           }
          ]
         },
         "layout": {
          "annotationdefaults": {
           "arrowcolor": "#2a3f5f",
           "arrowhead": 0,
           "arrowwidth": 1
          },
          "autotypenumbers": "strict",
          "coloraxis": {
           "colorbar": {
            "outlinewidth": 0,
            "ticks": ""
           }
          },
          "colorscale": {
           "diverging": [
            [
             0,
             "#8e0152"
            ],
            [
             0.1,
             "#c51b7d"
            ],
            [
             0.2,
             "#de77ae"
            ],
            [
             0.3,
             "#f1b6da"
            ],
            [
             0.4,
             "#fde0ef"
            ],
            [
             0.5,
             "#f7f7f7"
            ],
            [
             0.6,
             "#e6f5d0"
            ],
            [
             0.7,
             "#b8e186"
            ],
            [
             0.8,
             "#7fbc41"
            ],
            [
             0.9,
             "#4d9221"
            ],
            [
             1,
             "#276419"
            ]
           ],
           "sequential": [
            [
             0,
             "#0d0887"
            ],
            [
             0.1111111111111111,
             "#46039f"
            ],
            [
             0.2222222222222222,
             "#7201a8"
            ],
            [
             0.3333333333333333,
             "#9c179e"
            ],
            [
             0.4444444444444444,
             "#bd3786"
            ],
            [
             0.5555555555555556,
             "#d8576b"
            ],
            [
             0.6666666666666666,
             "#ed7953"
            ],
            [
             0.7777777777777778,
             "#fb9f3a"
            ],
            [
             0.8888888888888888,
             "#fdca26"
            ],
            [
             1,
             "#f0f921"
            ]
           ],
           "sequentialminus": [
            [
             0,
             "#0d0887"
            ],
            [
             0.1111111111111111,
             "#46039f"
            ],
            [
             0.2222222222222222,
             "#7201a8"
            ],
            [
             0.3333333333333333,
             "#9c179e"
            ],
            [
             0.4444444444444444,
             "#bd3786"
            ],
            [
             0.5555555555555556,
             "#d8576b"
            ],
            [
             0.6666666666666666,
             "#ed7953"
            ],
            [
             0.7777777777777778,
             "#fb9f3a"
            ],
            [
             0.8888888888888888,
             "#fdca26"
            ],
            [
             1,
             "#f0f921"
            ]
           ]
          },
          "colorway": [
           "#636efa",
           "#EF553B",
           "#00cc96",
           "#ab63fa",
           "#FFA15A",
           "#19d3f3",
           "#FF6692",
           "#B6E880",
           "#FF97FF",
           "#FECB52"
          ],
          "font": {
           "color": "#2a3f5f"
          },
          "geo": {
           "bgcolor": "white",
           "lakecolor": "white",
           "landcolor": "#E5ECF6",
           "showlakes": true,
           "showland": true,
           "subunitcolor": "white"
          },
          "hoverlabel": {
           "align": "left"
          },
          "hovermode": "closest",
          "mapbox": {
           "style": "light"
          },
          "paper_bgcolor": "white",
          "plot_bgcolor": "#E5ECF6",
          "polar": {
           "angularaxis": {
            "gridcolor": "white",
            "linecolor": "white",
            "ticks": ""
           },
           "bgcolor": "#E5ECF6",
           "radialaxis": {
            "gridcolor": "white",
            "linecolor": "white",
            "ticks": ""
           }
          },
          "scene": {
           "xaxis": {
            "backgroundcolor": "#E5ECF6",
            "gridcolor": "white",
            "gridwidth": 2,
            "linecolor": "white",
            "showbackground": true,
            "ticks": "",
            "zerolinecolor": "white"
           },
           "yaxis": {
            "backgroundcolor": "#E5ECF6",
            "gridcolor": "white",
            "gridwidth": 2,
            "linecolor": "white",
            "showbackground": true,
            "ticks": "",
            "zerolinecolor": "white"
           },
           "zaxis": {
            "backgroundcolor": "#E5ECF6",
            "gridcolor": "white",
            "gridwidth": 2,
            "linecolor": "white",
            "showbackground": true,
            "ticks": "",
            "zerolinecolor": "white"
           }
          },
          "shapedefaults": {
           "line": {
            "color": "#2a3f5f"
           }
          },
          "ternary": {
           "aaxis": {
            "gridcolor": "white",
            "linecolor": "white",
            "ticks": ""
           },
           "baxis": {
            "gridcolor": "white",
            "linecolor": "white",
            "ticks": ""
           },
           "bgcolor": "#E5ECF6",
           "caxis": {
            "gridcolor": "white",
            "linecolor": "white",
            "ticks": ""
           }
          },
          "title": {
           "x": 0.05
          },
          "xaxis": {
           "automargin": true,
           "gridcolor": "white",
           "linecolor": "white",
           "ticks": "",
           "title": {
            "standoff": 15
           },
           "zerolinecolor": "white",
           "zerolinewidth": 2
          },
          "yaxis": {
           "automargin": true,
           "gridcolor": "white",
           "linecolor": "white",
           "ticks": "",
           "title": {
            "standoff": 15
           },
           "zerolinecolor": "white",
           "zerolinewidth": 2
          }
         }
        },
        "title": {
         "text": "Total Dine-in Expenditure by City in India"
        },
        "xaxis": {
         "anchor": "y",
         "categoryarray": [
          "New Delhi",
          "Gurgaon",
          "Noida",
          "Faridabad",
          "Pune",
          "Jaipur",
          "Kolkata",
          "Bangalore",
          "Hyderabad",
          "Goa"
         ],
         "categoryorder": "array",
         "domain": [
          0,
          1
         ],
         "title": {
          "text": "City"
         }
        },
        "yaxis": {
         "anchor": "x",
         "domain": [
          0,
          1
         ],
         "title": {
          "text": "Average Cost for two"
         }
        }
       }
      }
     },
     "metadata": {},
     "output_type": "display_data"
    }
   ],
   "source": [
    "#9 Total Dine-in Expenditure by City in India\n",
    "\n",
    "# Assuming your dataframe is named 'df'\n",
    "# Replace 'df' with your actual dataframe name if different\n",
    "\n",
    "# Filter the data for India\n",
    "df_india = zomato_data[zomato_data['Country'] == 'India']\n",
    "\n",
    "# Group by city and calculate total expenditure on dine-in\n",
    "city_dine_in_expenditure = df_india.groupby('City')['Average Cost for two'].sum().reset_index()\n",
    "city_dine_in_expenditure = city_dine_in_expenditure.sort_values(by='Average Cost for two', ascending=False)\n",
    "\n",
    "\n",
    "top_10 =city_dine_in_expenditure.head(10)\n",
    "\n",
    "# Plot the bar chart\n",
    "\n",
    "fig = px.bar(top_10, x='City', y='Average Cost for two', title='Total Dine-in Expenditure by City in India',color = 'City')\n",
    "fig.show()\n"
   ]
  },
  {
   "cell_type": "code",
   "execution_count": 104,
   "metadata": {},
   "outputs": [
    {
     "data": {
      "application/vnd.plotly.v1+json": {
       "config": {
        "plotlyServerURL": "https://plot.ly"
       },
       "data": [
        {
         "alignmentgroup": "True",
         "hovertemplate": "City=%{x}<br>Average Cost for Two=%{y}<extra></extra>",
         "legendgroup": "",
         "marker": {
          "color": "#636efa",
          "pattern": {
           "shape": ""
          }
         },
         "name": "",
         "offsetgroup": "",
         "orientation": "v",
         "showlegend": false,
         "textposition": "auto",
         "type": "bar",
         "x": [
          "Jakarta",
          "Tangerang",
          "Bogor",
          "Bandung",
          "Pasay City",
          "Colombo",
          "Mandaluyong City",
          "Panchkula",
          "Taguig City",
          "Hyderabad"
         ],
         "xaxis": "x",
         "y": [
          308437.5,
          250000,
          160000,
          150000,
          3333.3333333333335,
          2375,
          2000,
          2000,
          1725,
          1361.111111111111
         ],
         "yaxis": "y"
        }
       ],
       "layout": {
        "barmode": "relative",
        "legend": {
         "tracegroupgap": 0
        },
        "template": {
         "data": {
          "bar": [
           {
            "error_x": {
             "color": "#2a3f5f"
            },
            "error_y": {
             "color": "#2a3f5f"
            },
            "marker": {
             "line": {
              "color": "#E5ECF6",
              "width": 0.5
             },
             "pattern": {
              "fillmode": "overlay",
              "size": 10,
              "solidity": 0.2
             }
            },
            "type": "bar"
           }
          ],
          "barpolar": [
           {
            "marker": {
             "line": {
              "color": "#E5ECF6",
              "width": 0.5
             },
             "pattern": {
              "fillmode": "overlay",
              "size": 10,
              "solidity": 0.2
             }
            },
            "type": "barpolar"
           }
          ],
          "carpet": [
           {
            "aaxis": {
             "endlinecolor": "#2a3f5f",
             "gridcolor": "white",
             "linecolor": "white",
             "minorgridcolor": "white",
             "startlinecolor": "#2a3f5f"
            },
            "baxis": {
             "endlinecolor": "#2a3f5f",
             "gridcolor": "white",
             "linecolor": "white",
             "minorgridcolor": "white",
             "startlinecolor": "#2a3f5f"
            },
            "type": "carpet"
           }
          ],
          "choropleth": [
           {
            "colorbar": {
             "outlinewidth": 0,
             "ticks": ""
            },
            "type": "choropleth"
           }
          ],
          "contour": [
           {
            "colorbar": {
             "outlinewidth": 0,
             "ticks": ""
            },
            "colorscale": [
             [
              0,
              "#0d0887"
             ],
             [
              0.1111111111111111,
              "#46039f"
             ],
             [
              0.2222222222222222,
              "#7201a8"
             ],
             [
              0.3333333333333333,
              "#9c179e"
             ],
             [
              0.4444444444444444,
              "#bd3786"
             ],
             [
              0.5555555555555556,
              "#d8576b"
             ],
             [
              0.6666666666666666,
              "#ed7953"
             ],
             [
              0.7777777777777778,
              "#fb9f3a"
             ],
             [
              0.8888888888888888,
              "#fdca26"
             ],
             [
              1,
              "#f0f921"
             ]
            ],
            "type": "contour"
           }
          ],
          "contourcarpet": [
           {
            "colorbar": {
             "outlinewidth": 0,
             "ticks": ""
            },
            "type": "contourcarpet"
           }
          ],
          "heatmap": [
           {
            "colorbar": {
             "outlinewidth": 0,
             "ticks": ""
            },
            "colorscale": [
             [
              0,
              "#0d0887"
             ],
             [
              0.1111111111111111,
              "#46039f"
             ],
             [
              0.2222222222222222,
              "#7201a8"
             ],
             [
              0.3333333333333333,
              "#9c179e"
             ],
             [
              0.4444444444444444,
              "#bd3786"
             ],
             [
              0.5555555555555556,
              "#d8576b"
             ],
             [
              0.6666666666666666,
              "#ed7953"
             ],
             [
              0.7777777777777778,
              "#fb9f3a"
             ],
             [
              0.8888888888888888,
              "#fdca26"
             ],
             [
              1,
              "#f0f921"
             ]
            ],
            "type": "heatmap"
           }
          ],
          "heatmapgl": [
           {
            "colorbar": {
             "outlinewidth": 0,
             "ticks": ""
            },
            "colorscale": [
             [
              0,
              "#0d0887"
             ],
             [
              0.1111111111111111,
              "#46039f"
             ],
             [
              0.2222222222222222,
              "#7201a8"
             ],
             [
              0.3333333333333333,
              "#9c179e"
             ],
             [
              0.4444444444444444,
              "#bd3786"
             ],
             [
              0.5555555555555556,
              "#d8576b"
             ],
             [
              0.6666666666666666,
              "#ed7953"
             ],
             [
              0.7777777777777778,
              "#fb9f3a"
             ],
             [
              0.8888888888888888,
              "#fdca26"
             ],
             [
              1,
              "#f0f921"
             ]
            ],
            "type": "heatmapgl"
           }
          ],
          "histogram": [
           {
            "marker": {
             "pattern": {
              "fillmode": "overlay",
              "size": 10,
              "solidity": 0.2
             }
            },
            "type": "histogram"
           }
          ],
          "histogram2d": [
           {
            "colorbar": {
             "outlinewidth": 0,
             "ticks": ""
            },
            "colorscale": [
             [
              0,
              "#0d0887"
             ],
             [
              0.1111111111111111,
              "#46039f"
             ],
             [
              0.2222222222222222,
              "#7201a8"
             ],
             [
              0.3333333333333333,
              "#9c179e"
             ],
             [
              0.4444444444444444,
              "#bd3786"
             ],
             [
              0.5555555555555556,
              "#d8576b"
             ],
             [
              0.6666666666666666,
              "#ed7953"
             ],
             [
              0.7777777777777778,
              "#fb9f3a"
             ],
             [
              0.8888888888888888,
              "#fdca26"
             ],
             [
              1,
              "#f0f921"
             ]
            ],
            "type": "histogram2d"
           }
          ],
          "histogram2dcontour": [
           {
            "colorbar": {
             "outlinewidth": 0,
             "ticks": ""
            },
            "colorscale": [
             [
              0,
              "#0d0887"
             ],
             [
              0.1111111111111111,
              "#46039f"
             ],
             [
              0.2222222222222222,
              "#7201a8"
             ],
             [
              0.3333333333333333,
              "#9c179e"
             ],
             [
              0.4444444444444444,
              "#bd3786"
             ],
             [
              0.5555555555555556,
              "#d8576b"
             ],
             [
              0.6666666666666666,
              "#ed7953"
             ],
             [
              0.7777777777777778,
              "#fb9f3a"
             ],
             [
              0.8888888888888888,
              "#fdca26"
             ],
             [
              1,
              "#f0f921"
             ]
            ],
            "type": "histogram2dcontour"
           }
          ],
          "mesh3d": [
           {
            "colorbar": {
             "outlinewidth": 0,
             "ticks": ""
            },
            "type": "mesh3d"
           }
          ],
          "parcoords": [
           {
            "line": {
             "colorbar": {
              "outlinewidth": 0,
              "ticks": ""
             }
            },
            "type": "parcoords"
           }
          ],
          "pie": [
           {
            "automargin": true,
            "type": "pie"
           }
          ],
          "scatter": [
           {
            "fillpattern": {
             "fillmode": "overlay",
             "size": 10,
             "solidity": 0.2
            },
            "type": "scatter"
           }
          ],
          "scatter3d": [
           {
            "line": {
             "colorbar": {
              "outlinewidth": 0,
              "ticks": ""
             }
            },
            "marker": {
             "colorbar": {
              "outlinewidth": 0,
              "ticks": ""
             }
            },
            "type": "scatter3d"
           }
          ],
          "scattercarpet": [
           {
            "marker": {
             "colorbar": {
              "outlinewidth": 0,
              "ticks": ""
             }
            },
            "type": "scattercarpet"
           }
          ],
          "scattergeo": [
           {
            "marker": {
             "colorbar": {
              "outlinewidth": 0,
              "ticks": ""
             }
            },
            "type": "scattergeo"
           }
          ],
          "scattergl": [
           {
            "marker": {
             "colorbar": {
              "outlinewidth": 0,
              "ticks": ""
             }
            },
            "type": "scattergl"
           }
          ],
          "scattermapbox": [
           {
            "marker": {
             "colorbar": {
              "outlinewidth": 0,
              "ticks": ""
             }
            },
            "type": "scattermapbox"
           }
          ],
          "scatterpolar": [
           {
            "marker": {
             "colorbar": {
              "outlinewidth": 0,
              "ticks": ""
             }
            },
            "type": "scatterpolar"
           }
          ],
          "scatterpolargl": [
           {
            "marker": {
             "colorbar": {
              "outlinewidth": 0,
              "ticks": ""
             }
            },
            "type": "scatterpolargl"
           }
          ],
          "scatterternary": [
           {
            "marker": {
             "colorbar": {
              "outlinewidth": 0,
              "ticks": ""
             }
            },
            "type": "scatterternary"
           }
          ],
          "surface": [
           {
            "colorbar": {
             "outlinewidth": 0,
             "ticks": ""
            },
            "colorscale": [
             [
              0,
              "#0d0887"
             ],
             [
              0.1111111111111111,
              "#46039f"
             ],
             [
              0.2222222222222222,
              "#7201a8"
             ],
             [
              0.3333333333333333,
              "#9c179e"
             ],
             [
              0.4444444444444444,
              "#bd3786"
             ],
             [
              0.5555555555555556,
              "#d8576b"
             ],
             [
              0.6666666666666666,
              "#ed7953"
             ],
             [
              0.7777777777777778,
              "#fb9f3a"
             ],
             [
              0.8888888888888888,
              "#fdca26"
             ],
             [
              1,
              "#f0f921"
             ]
            ],
            "type": "surface"
           }
          ],
          "table": [
           {
            "cells": {
             "fill": {
              "color": "#EBF0F8"
             },
             "line": {
              "color": "white"
             }
            },
            "header": {
             "fill": {
              "color": "#C8D4E3"
             },
             "line": {
              "color": "white"
             }
            },
            "type": "table"
           }
          ]
         },
         "layout": {
          "annotationdefaults": {
           "arrowcolor": "#2a3f5f",
           "arrowhead": 0,
           "arrowwidth": 1
          },
          "autotypenumbers": "strict",
          "coloraxis": {
           "colorbar": {
            "outlinewidth": 0,
            "ticks": ""
           }
          },
          "colorscale": {
           "diverging": [
            [
             0,
             "#8e0152"
            ],
            [
             0.1,
             "#c51b7d"
            ],
            [
             0.2,
             "#de77ae"
            ],
            [
             0.3,
             "#f1b6da"
            ],
            [
             0.4,
             "#fde0ef"
            ],
            [
             0.5,
             "#f7f7f7"
            ],
            [
             0.6,
             "#e6f5d0"
            ],
            [
             0.7,
             "#b8e186"
            ],
            [
             0.8,
             "#7fbc41"
            ],
            [
             0.9,
             "#4d9221"
            ],
            [
             1,
             "#276419"
            ]
           ],
           "sequential": [
            [
             0,
             "#0d0887"
            ],
            [
             0.1111111111111111,
             "#46039f"
            ],
            [
             0.2222222222222222,
             "#7201a8"
            ],
            [
             0.3333333333333333,
             "#9c179e"
            ],
            [
             0.4444444444444444,
             "#bd3786"
            ],
            [
             0.5555555555555556,
             "#d8576b"
            ],
            [
             0.6666666666666666,
             "#ed7953"
            ],
            [
             0.7777777777777778,
             "#fb9f3a"
            ],
            [
             0.8888888888888888,
             "#fdca26"
            ],
            [
             1,
             "#f0f921"
            ]
           ],
           "sequentialminus": [
            [
             0,
             "#0d0887"
            ],
            [
             0.1111111111111111,
             "#46039f"
            ],
            [
             0.2222222222222222,
             "#7201a8"
            ],
            [
             0.3333333333333333,
             "#9c179e"
            ],
            [
             0.4444444444444444,
             "#bd3786"
            ],
            [
             0.5555555555555556,
             "#d8576b"
            ],
            [
             0.6666666666666666,
             "#ed7953"
            ],
            [
             0.7777777777777778,
             "#fb9f3a"
            ],
            [
             0.8888888888888888,
             "#fdca26"
            ],
            [
             1,
             "#f0f921"
            ]
           ]
          },
          "colorway": [
           "#636efa",
           "#EF553B",
           "#00cc96",
           "#ab63fa",
           "#FFA15A",
           "#19d3f3",
           "#FF6692",
           "#B6E880",
           "#FF97FF",
           "#FECB52"
          ],
          "font": {
           "color": "#2a3f5f"
          },
          "geo": {
           "bgcolor": "white",
           "lakecolor": "white",
           "landcolor": "#E5ECF6",
           "showlakes": true,
           "showland": true,
           "subunitcolor": "white"
          },
          "hoverlabel": {
           "align": "left"
          },
          "hovermode": "closest",
          "mapbox": {
           "style": "light"
          },
          "paper_bgcolor": "white",
          "plot_bgcolor": "#E5ECF6",
          "polar": {
           "angularaxis": {
            "gridcolor": "white",
            "linecolor": "white",
            "ticks": ""
           },
           "bgcolor": "#E5ECF6",
           "radialaxis": {
            "gridcolor": "white",
            "linecolor": "white",
            "ticks": ""
           }
          },
          "scene": {
           "xaxis": {
            "backgroundcolor": "#E5ECF6",
            "gridcolor": "white",
            "gridwidth": 2,
            "linecolor": "white",
            "showbackground": true,
            "ticks": "",
            "zerolinecolor": "white"
           },
           "yaxis": {
            "backgroundcolor": "#E5ECF6",
            "gridcolor": "white",
            "gridwidth": 2,
            "linecolor": "white",
            "showbackground": true,
            "ticks": "",
            "zerolinecolor": "white"
           },
           "zaxis": {
            "backgroundcolor": "#E5ECF6",
            "gridcolor": "white",
            "gridwidth": 2,
            "linecolor": "white",
            "showbackground": true,
            "ticks": "",
            "zerolinecolor": "white"
           }
          },
          "shapedefaults": {
           "line": {
            "color": "#2a3f5f"
           }
          },
          "ternary": {
           "aaxis": {
            "gridcolor": "white",
            "linecolor": "white",
            "ticks": ""
           },
           "baxis": {
            "gridcolor": "white",
            "linecolor": "white",
            "ticks": ""
           },
           "bgcolor": "#E5ECF6",
           "caxis": {
            "gridcolor": "white",
            "linecolor": "white",
            "ticks": ""
           }
          },
          "title": {
           "x": 0.05
          },
          "xaxis": {
           "automargin": true,
           "gridcolor": "white",
           "linecolor": "white",
           "ticks": "",
           "title": {
            "standoff": 15
           },
           "zerolinecolor": "white",
           "zerolinewidth": 2
          },
          "yaxis": {
           "automargin": true,
           "gridcolor": "white",
           "linecolor": "white",
           "ticks": "",
           "title": {
            "standoff": 15
           },
           "zerolinecolor": "white",
           "zerolinewidth": 2
          }
         }
        },
        "title": {
         "text": "Top 10 Cities by Average Cost for Two"
        },
        "xaxis": {
         "anchor": "y",
         "domain": [
          0,
          1
         ],
         "title": {
          "text": "City"
         }
        },
        "yaxis": {
         "anchor": "x",
         "domain": [
          0,
          1
         ],
         "title": {
          "text": "Average Cost for Two"
         }
        }
       }
      }
     },
     "metadata": {},
     "output_type": "display_data"
    }
   ],
   "source": [
    "#10 Top 10 Cities by Average Cost for Two\n",
    "\n",
    "# Assuming your dataframe is named 'df'\n",
    "# Replace 'df' with your actual dataframe name if different\n",
    "\n",
    "# Calculate average cost for two in each city\n",
    "city_avg_cost = zomato_data.groupby('City')['Average Cost for two'].mean().reset_index()\n",
    "city_avg_cost = city_avg_cost.sort_values(by='Average Cost for two', ascending=False)\n",
    "\n",
    "# Select top 10 cities\n",
    "top_10_cities = city_avg_cost.head(10)\n",
    "\n",
    "# Create bar chart for top 10 cities\n",
    "bar_fig = px.bar(top_10_cities, x='City', y='Average Cost for two', \n",
    "                  title='Top 10 Cities by Average Cost for Two',\n",
    "                  labels={'Average Cost for two': 'Average Cost for Two'})\n",
    "bar_fig.show()\n"
   ]
  },
  {
   "cell_type": "code",
   "execution_count": null,
   "metadata": {},
   "outputs": [],
   "source": [
    "with st.sidebar:\n",
    "    st.title(\":orange[Zomato Data Analysis and Visualization]\")\n",
    "    st.header(\"Notes\")\n",
    "    st.caption(\"The all data is taken from the below link\")\n",
    "    st.caption(\"https://raw.githubusercontent.com/nethajinirmal13/Training-datasets/main/zomato/zomato.csv\")\n",
    "\n",
    "# Load the Zomato dataset\n",
    "zomato_data = pd.read_csv(\"https://raw.githubusercontent.com/nethajinirmal13/Training-datasets/main/zomato/zomato.csv\")\n",
    "\n",
    "# Load the country code dataset\n",
    "country_code = pd.read_excel(\"C:/Users/manic/Downloads/Country-Code.xlsx\")\n",
    "\n",
    "# Merge the datasets on Country Code\n",
    "zomato_data = pd.merge(zomato_data, country_code, how=\"left\", on=\"Country Code\")\n",
    "\n",
    "# Add a column with rupees as the currency\n",
    "zomato_data['Currency'] = 'Rupees'\n",
    "\n",
    "\n",
    "question = st.selectbox(\"select your question\",(\"1. Top 5 Cities by Count of Restaurants\",\n",
    "                                                \"2. Count of Restaurants Offering Online Delivery\",\n",
    "                                                \"3. Top 10 Costly Cuisines in India\",\n",
    "                                                \"4. The most common cuisine in each city\",\n",
    "                                                \"5. Top 10 Average Cost for Two for Each Cuisine\",\n",
    "                                                \"6. Rating Count in Top 5 Cities\",\n",
    "                                                \"7. Online Delivery vs. Dine-In\",\n",
    "                                                \"8. Top 10 Cities by Online Delivery Spending in India\",\n",
    "                                                \"9. Total Dine-in Expenditure by City in India\",\n",
    "                                                \"10. Top 10 Cities by Average Cost for Two\"))\n",
    "\n",
    "\n",
    "\n",
    "if question == \"1. Top 5 Cities by Count of Restaurants\":\n",
    "\n",
    "    # Bar chart for count of restaurants in each city\n",
    "    city_counts = zomato_data['City'].value_counts().reset_index()\n",
    "    city_counts.columns = ['City', 'Count']\n",
    "    city_counts = city_counts.sort_values(by='Count', ascending=False)\n",
    "\n",
    "    # Select top 10 cities \n",
    "    top_10_cities = city_counts.head(5)\n",
    "\n",
    "    # Plot bar chart with different colors for each bars\n",
    "    fig1 = px.bar(top_10_cities, x='City', y='Count', title='Top 5 Cities by Count of Restaurants', color='City')\n",
    "    #fig1.show()\n",
    "    st.plotly_chart(fig1)\n",
    "\n",
    "\n",
    "elif question == \"2. Count of Restaurants Offering Online Delivery\":\n",
    "\n",
    "    # Bar chart for count of restaurants offering online delivery\n",
    "    delivery_counts = zomato_data['Has Online delivery'].value_counts().reset_index()\n",
    "    delivery_counts.columns = ['Has Online delivery', 'Count']\n",
    "\n",
    "    # Plot bar chart with different colors for each bar\n",
    "    fig2 = px.bar(delivery_counts, x='Has Online delivery', y='Count', title='Count of Restaurants Offering Online Delivery', color='Has Online delivery')\n",
    "    #fig2.show()\n",
    "    st.plotly_chart(fig2)\n",
    "\n",
    "\n",
    "elif question == \"3. Top 10 Costly Cuisines in India\":\n",
    "    # Filter data for restaurants in India\n",
    "    indian_restaurants = zomato_data[zomato_data['Country'] == 'India']\n",
    "\n",
    "    # Calculate average cost for each cuisine\n",
    "    cuisine_avg_cost = indian_restaurants.groupby('Cuisines')['Average Cost for two'].mean().reset_index()\n",
    "    cuisine_avg_cost = cuisine_avg_cost.sort_values(by='Average Cost for two', ascending=False)\n",
    "\n",
    "    # Plot bar chart\n",
    "    fig = px.bar(cuisine_avg_cost.head(10), x='Cuisines', y='Average Cost for two', \n",
    "                title='Top 10 Costly Cuisines in India', color='Cuisines',\n",
    "                text='Average Cost for two', \n",
    "                labels={'Average Cost for two': 'Average Cost'})\n",
    "    fig.update_traces(texttemplate='%{text:.2s}', textposition='outside')\n",
    "    fig.update_layout(yaxis=dict(title='Average Cost'))\n",
    "    #fig.show()\n",
    "    st.plotly_chart(fig)\n",
    "\n",
    "\n",
    "elif question == \"4. The most common cuisine in each city\":\n",
    "    # Drop rows with missing values in the 'Cuisines' column\n",
    "    df = zomato_data.dropna(subset=['Cuisines'])\n",
    "\n",
    "    # Split cuisines and create a new row for each cuisine\n",
    "    df_cuisines = df['Cuisines'].str.split(', ', expand=True).stack().reset_index(level=1, drop=True).rename('Cuisine')\n",
    "    df_split = df.join(df_cuisines)\n",
    "\n",
    "    # Group by city and cuisine, count the occurrences of each cuisine in each city\n",
    "    city_cuisine_count = df_split.groupby(['City', 'Cuisine']).size().reset_index(name='Count')\n",
    "\n",
    "    # Find the most common cuisine in each city\n",
    "    city_top_cuisine = city_cuisine_count.sort_values(by=['City', 'Count'], ascending=[True, False]).groupby('City').first().reset_index()\n",
    "\n",
    "    # Create a map\n",
    "    map = folium.Map(location=[df['Latitude'].mean(), df['Longitude'].mean()], zoom_start=10)\n",
    "\n",
    "    # Mark the locations of restaurants serving the most common cuisine in each city\n",
    "    marker_cluster = MarkerCluster().add_to(map)\n",
    "    for index, row in city_top_cuisine.iterrows():\n",
    "        city = row['City']\n",
    "        cuisine = row['Cuisine']\n",
    "        count = row['Count']\n",
    "        lat = df[df['City'] == city]['Latitude'].mean()\n",
    "        lon = df[df['City'] == city]['Longitude'].mean()\n",
    "        folium.Marker([lat, lon], popup=f\"{city}: {cuisine} ({count} restaurants)\").add_to(marker_cluster).add_to(map)\n",
    "\n",
    "    # Save the map to an HTML file\n",
    "    #map.save(\"famous_cuisine_map.html\")\n",
    "    #print(\"locations of restaurants serving the most common cuisine in each city\")\n",
    "    st_folium(map)\n",
    "\n",
    "\n",
    "elif question == \"5. Top 10 Average Cost for Two for Each Cuisine\":\n",
    "\n",
    "\n",
    "    # Drop rows with missing cuisines\n",
    "    zomato_data.dropna(subset=['Cuisines'], inplace=True)\n",
    "\n",
    "    # Calculate average cost for two for each cuisine\n",
    "    cuisine_avg_cost = zomato_data.groupby('Cuisines')['Average Cost for two'].mean().reset_index()\n",
    "    cuisine_avg_cost = cuisine_avg_cost.sort_values(by='Average Cost for two', ascending=False).head(10)\n",
    "\n",
    "    # Bar chart for top 10 Average Cost for Two for Each Cuisine\n",
    "    fig = px.bar(cuisine_avg_cost, x='Cuisines', y='Average Cost for two', title='Top 10 Costliest Cuisines',color='Cuisines')\n",
    "    #fig.show()\n",
    "    st.plotly_chart(fig)\n",
    "\n",
    "\n",
    "elif question == \"6. Rating Count in Top 5 Cities\":\n",
    "\n",
    "    # Filter out the top 5 cities\n",
    "    top_cities = zomato_data['City'].value_counts().head(5).index.tolist()\n",
    "\n",
    "    # Filter the dataframe for the top 5 cities\n",
    "    top_cities_df = zomato_data[zomato_data['City'].isin(top_cities)]\n",
    "\n",
    "    # Count the ratings based on rating text for each city\n",
    "    rating_counts = top_cities_df.groupby(['City', 'Rating text']).size().reset_index(name='Count')\n",
    "\n",
    "    # Plot the bar chart with facets for each rating\n",
    "    fig = px.bar(rating_counts, x='City', y='Count', color='Rating text', \n",
    "                facet_col='Rating text', title='Rating Count in Top 5 Cities',\n",
    "                category_orders={'Rating text': ['Excellent', 'Very Good', 'Good', 'Average', 'Not rated']})\n",
    "    #fig.show()\n",
    "    st.plotly_chart(fig)\n",
    "\n",
    "\n",
    "elif question == \"7. Online Delivery vs. Dine-In\":\n",
    "\n",
    "    # Counting the number of restaurants with online delivery and without\n",
    "    delivery_counts = zomato_data['Has Online delivery'].value_counts().reset_index()\n",
    "    delivery_counts.columns = ['Has Online delivery', 'Count']\n",
    "\n",
    "    # Creating a pie chart\n",
    "    fig = px.pie(delivery_counts, values='Count', names='Has Online delivery', title='Online Delivery vs. Dine-In')\n",
    "    #fig.show()\n",
    "    st.plotly_chart(fig)\n",
    "\n",
    "\n",
    "elif question == \"8. Top 10 Cities by Online Delivery Spending in India\":\n",
    "\n",
    "    # Filter data for India\n",
    "    df_india = zomato_data[zomato_data['Country'] == 'India']\n",
    "\n",
    "    # Group by city and calculate the total amount spent on online delivery\n",
    "    city_spending = df_india.groupby('City')['Average Cost for two'].sum().reset_index()\n",
    "    city_spending = city_spending.sort_values(by='Average Cost for two', ascending=False)\n",
    "\n",
    "    # Slice the DataFrame to select top 10 cities\n",
    "    top_10_cities = city_spending.head(10)\n",
    "\n",
    "    # Plotting the bar chart\n",
    "    fig = px.bar(top_10_cities, x='City', y='Average Cost for two', title='Top 10 Cities by Online Delivery Spending in India',color='Average Cost for two')\n",
    "    #fig.show()\n",
    "    st.plotly_chart(fig)\n",
    "\n",
    "\n",
    "elif question == \"9. Total Dine-in Expenditure by City in India\":\n",
    "\n",
    "    # Filter the data for India\n",
    "    df_india = zomato_data[zomato_data['Country'] == 'India']\n",
    "\n",
    "    # Group by city and calculate total expenditure on dine-in\n",
    "    city_dine_in_expenditure = df_india.groupby('City')['Average Cost for two'].sum().reset_index()\n",
    "    city_dine_in_expenditure = city_dine_in_expenditure.sort_values(by='Average Cost for two', ascending=False)\n",
    "\n",
    "\n",
    "    top_10 =city_dine_in_expenditure.head(10)\n",
    "\n",
    "    # Plot the bar chart\n",
    "\n",
    "    fig = px.bar(top_10, x='City', y='Average Cost for two', title='Total Dine-in Expenditure by City in India',color = 'City')\n",
    "    #fig.show()\n",
    "    st.plotly_chart(fig)\n",
    "\n",
    "\n",
    "elif question == \"10. Top 10 Cities by Average Cost for Two\":\n",
    "\n",
    "    # Calculate average cost for two in each city\n",
    "    city_avg_cost = zomato_data.groupby('City')['Average Cost for two'].mean().reset_index()\n",
    "    city_avg_cost = city_avg_cost.sort_values(by='Average Cost for two', ascending=False)\n",
    "\n",
    "    # Select top 10 cities\n",
    "    top_10_cities = city_avg_cost.head(10)\n",
    "\n",
    "    # Create bar chart for top 10 cities\n",
    "    bar_fig = px.bar(top_10_cities, x='City', y='Average Cost for two', \n",
    "                    title='Top 10 Cities by Average Cost for Two',\n",
    "                    labels={'Average Cost for two': 'Average Cost for Two'})\n",
    "    #bar_fig.show()\n",
    "    st.plotly_chart(bar_fig)"
   ]
  }
 ],
 "metadata": {
  "kernelspec": {
   "display_name": ".venv",
   "language": "python",
   "name": "python3"
  },
  "language_info": {
   "codemirror_mode": {
    "name": "ipython",
    "version": 3
   },
   "file_extension": ".py",
   "mimetype": "text/x-python",
   "name": "python",
   "nbconvert_exporter": "python",
   "pygments_lexer": "ipython3",
   "version": "3.9.0"
  }
 },
 "nbformat": 4,
 "nbformat_minor": 2
}
